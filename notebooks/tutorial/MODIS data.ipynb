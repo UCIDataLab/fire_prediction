{
 "cells": [
  {
   "cell_type": "markdown",
   "metadata": {},
   "source": [
    "# Getting the MODIS data"
   ]
  },
  {
   "cell_type": "markdown",
   "metadata": {},
   "source": [
    "MODIS (Moderate Resolution Imaging Spectroradiometer) is an instrument on two of NASA's satellites that monitors various qualities of light coming from Earth\\footnote{https://modis.gsfc.nasa.gov/about/}. The raw data is processed by an algorithm developed in 2003 into a list of pixels that burn at any given time. Each satellite passes over each region twice, so there will be 4 rounds of detections every day."
   ]
  },
  {
   "cell_type": "code",
   "execution_count": null,
   "metadata": {
    "collapsed": true
   },
   "outputs": [],
   "source": [
    "import pandas as pd\n",
    "import numpy as np\n",
    "from mpl_toolkits.basemap import Basemap\n",
    "import matplotlib.pyplot as plt\n",
    "from scipy.stats import pearsonr\n",
    "import cPickle\n",
    "import os\n",
    "REP_DIR = \"/home/cagraff/Documents/research/smyth/fire_prediction/\"\n",
    "os.chdir(REP_DIR)\n",
    "from data import data\n",
    "import matplotlib\n",
    "%matplotlib inline"
   ]
  },
  {
   "cell_type": "markdown",
   "metadata": {},
   "source": [
    "To acquire the raw data:\n",
    "1. Log on to the FTP serer fuoco.geog.umd.edu\n",
    "2. Log in with the username \"fire\" and password \"burnt\"\n",
    "3. Navigate to the directory /modis/C6/mcd14ml\n",
    "4. Files will be compressed CSVs of the form MCD14ML.YYYYMM.006.01.txt.gz\n",
    "To learn more, check out the user guide at http://modis-fire.umd.edu/files/MODIS_C6_Fire_User_Guide_A.pdf"
   ]
  },
  {
   "cell_type": "markdown",
   "metadata": {},
   "source": [
    "I've downloaded this data and converted it into a pandas DataFrame (stored as a pickle) for easy use. I'll demonstrate it here"
   ]
  },
  {
   "cell_type": "code",
   "execution_count": null,
   "metadata": {
    "collapsed": true
   },
   "outputs": [],
   "source": [
    "with open(\"data/ak_fires.pkl\") as fmodis:\n",
    "    ak_modis = cPickle.load(fmodis)\n",
    "print \"loaded DataFrame with %d rows\" % (len(ak_modis))\n",
    "ak_modis.iloc[0:5]"
   ]
  },
  {
   "cell_type": "markdown",
   "metadata": {},
   "source": [
    "Each row in the DataFrame represents one active fire detection. I've done some extra processing, the columns are as follows:\n",
    "* minute/hour/day/month/year: day of this active fire. Note: the hour and minute of detection have more to do with when the satellite passes over Alaska than when the detected pixel started burning, so we don't consider it very useful for modeling purposes.\n",
    "* dayofyear: The day of the year from 0-365 (or 366). This makes lots of downstream processing easier.\n",
    "* lat/lon (I just changed long->lon in the code and may not have caught all references FYI): latitude/longitude coordinates of active fire detection\n",
    "* frp: Fire Radiative Power of the detection. This is a measure of how bright the detection was. We've so far just used binary \"was there a fire or not?\" for our modeling, but taking this into consideration would certainly make sense.\n",
    "* confidence: How confident the algorithm is that a detection is real. We also don't use this, but it would make sense to i.e. throw away detections with low confidence\n",
    "* x/y: Added with my function append_xy in carpentry.get_modis_data. This gives us a uniform x/y grid for the region in question (Alaska), since degrees longitude vary so much in the upper latitudes.\n",
    "\n",
    "Now, I'll demonstrate how I used this DataFrame to generate a version of Figure 1a from the paper"
   ]
  },
  {
   "cell_type": "code",
   "execution_count": null,
   "metadata": {
    "collapsed": true
   },
   "outputs": [],
   "source": [
    "# Figure 1a: Alaska with a heatmap of detections for 2013\n",
    "year = 2013\n",
    "\n",
    "annual_fires = ak_modis[ak_modis.year==year]   # Get fires for this year\n",
    "matplotlib.rcParams.update({'font.size': 14})  # Make font bigger\n",
    "plt.figure(figsize=(10,10))  # Make figure bigger\n",
    "ak_bb = [54, 71.5, -168, -138]   # Extended bounding box to show all of Alaska\n",
    "\n",
    "# Basemap is a python library for plotting maps. It's kind of annoying to use sometimes and\n",
    "# I've heard there are better geometry plotting packages, but it's easy to use and it's what\n",
    "# our collaborator Yang uses.\n",
    "mp = Basemap(projection=\"merc\",\n",
    "             lat_0=ak_bb[0], lon_0=ak_bb[0],\n",
    "             llcrnrlat=ak_bb[0],\n",
    "             llcrnrlon=ak_bb[2],\n",
    "             urcrnrlat=ak_bb[1],\n",
    "             urcrnrlon=ak_bb[3],\n",
    "             resolution='i')\n",
    "\n",
    "mp.drawcoastlines()  # Draw coastlines\n",
    "#mp.etopo()  # Draw topography if desired\n",
    "#mp.shadedrelief()   # Draw simpler version of topography if desired\n",
    "# Get map coordinates for our fire detections\n",
    "mp_lons, mp_lats = mp(np.array(annual_fires.lon), np.array(annual_fires.lat))\n",
    "mp.plot(mp_lons, mp_lats, 'r.', markersize=1)\n",
    "# Draw latitude/longitude lines\n",
    "parallels = np.arange(ak_bb[0],ak_bb[1],2.5)\n",
    "mp.drawparallels(parallels, labels=[True,False,False,False], linewidth=0.2)\n",
    "meridians = np.arange(ak_bb[2],ak_bb[3],5.)\n",
    "mp.drawmeridians(meridians, labels=[False,False,False,True], linewidth=0.2)\n",
    "plt.show()"
   ]
  },
  {
   "cell_type": "code",
   "execution_count": null,
   "metadata": {
    "collapsed": true
   },
   "outputs": [],
   "source": []
  }
 ],
 "metadata": {
  "kernelspec": {
   "display_name": "Python 2",
   "language": "python",
   "name": "python2"
  },
  "language_info": {
   "codemirror_mode": {
    "name": "ipython",
    "version": 2
   },
   "file_extension": ".py",
   "mimetype": "text/x-python",
   "name": "python",
   "nbconvert_exporter": "python",
   "pygments_lexer": "ipython2",
   "version": "2.7.5"
  }
 },
 "nbformat": 4,
 "nbformat_minor": 1
}
