{
 "cells": [
  {
   "cell_type": "code",
   "execution_count": 4,
   "metadata": {},
   "outputs": [],
   "source": [
    "REP_DIR = \"/home/graffc/extra/fire_prediction/\"\n",
    "SRC_DIR = REP_DIR + 'src/'\n",
    "DATA_DIR = REP_DIR + 'data/'\n",
    "\n",
    "# Load system-wide packages\n",
    "import os\n",
    "import sys\n",
    "from matplotlib import pyplot as plt\n",
    "import numpy as np\n",
    "from scipy.stats import cumfreq\n",
    "from scipy.stats.stats import pearsonr\n",
    "import datetime as dt\n",
    "import pytz\n",
    "import math\n",
    "from IPython.display import HTML\n",
    "%matplotlib inline\n",
    "\n",
    "# Load project packages\n",
    "os.chdir(SRC_DIR)\n",
    "from features.loaders import load_modis_df, load_gfs_weather, load_cluster_df\n",
    "from helper import date_util as du\n",
    "from visualization.mapping import make_map\n",
    "from helper.geometry import get_default_bounding_box\n",
    "import helper.geometry as geo\n",
    "from visualization.mapping import make_map\n",
    "import visualization.plotting as plotv\n",
    "#import models.train as trn\n",
    "#from models import metrics\n",
    "import visualization.mapping as mapv\n",
    "\n",
    "plt.rcParams['figure.figsize'] = [10,12]\n",
    "\n",
    "def round_up_to_nearest_half(x):\n",
    "    return math.ceil(x * 2) / 2"
   ]
  },
  {
   "cell_type": "code",
   "execution_count": null,
   "metadata": {
    "collapsed": true
   },
   "outputs": [],
   "source": [
    "modis_df = load_modis_df(os.path.join(DATA_DIR, 'interim/modis/fire/fire_modis_alaska_2007-2016.pkl'))\n",
    "\n",
    "# Add local_time column to modis_df\n",
    "modis_df = modis_df.assign(datetime_local=map(lambda x: du.utc_to_local_time(x[0], x[1], du.round_to_nearest_quarter_hour), zip(modis_df.datetime_utc, modis_df.lon)))\n",
    "\n",
    "# Load data\n",
    "sys.path.append(SRC_DIR+'helper')\n",
    "gfs = load_gfs_weather(os.path.join(DATA_DIR, 'interim/gfs/weather/weather_gfs_alaska_2007-2016_2.pkl'))\n",
    "\n",
    "cluster_id_5km_10day_df = load_cluster_df(os.path.join(DATA_DIR, 'interim/modis/fire_cluster/fire_cluster_ids_5km_10days_modis_alaska_2007-2016.pkl'))\n",
    "int_5km_10days_14_df = load_integrated_df(os.path.join(DATA_DIR, 'interim/integrated/fire_weather/fire_weather_integrated_gfs_modis_5km_10days_1400_alaska_2007-2016.pkl'))\n",
    "int_5km_10days_14_4rain_df = load_integrated_df(os.path.join(DATA_DIR, 'interim/integrated/fire_weather/fire_weather_integrated_gfs_modis_5km_10days_1400_rain-del-4_alaska_2007-2016.pkl'))"
   ]
  },
  {
   "cell_type": "markdown",
   "metadata": {},
   "source": [
    "# Alaska Fire Prediction\n",
    "\n",
    "Casey A Graff -- 29 September 2017"
   ]
  },
  {
   "cell_type": "markdown",
   "metadata": {},
   "source": [
    "## 1. Goal - Regional Smoke Forecasting"
   ]
  },
  {
   "cell_type": "markdown",
   "metadata": {},
   "source": [
    "## 2. Data\n",
    "### a) MODIS (Moderate Resolution Imaging Spectroradiometer)"
   ]
  },
  {
   "cell_type": "code",
   "execution_count": null,
   "metadata": {
    "collapsed": true
   },
   "outputs": [],
   "source": [
    "modis_df[:5]"
   ]
  },
  {
   "cell_type": "code",
   "execution_count": null,
   "metadata": {
    "collapsed": true
   },
   "outputs": [],
   "source": [
    "ALASKA_BB = get_default_bounding_box()\n",
    "YEAR_SEL = 2007\n",
    "\n",
    "mp = make_map(ALASKA_BB)\n",
    "mp.shadedrelief()\n",
    "\n",
    "start_date = dt.datetime(YEAR_SEL, 1, 1)\n",
    "end_date = dt.datetime(YEAR_SEL+1, 1, 1)\n",
    "\n",
    "sel_df = modis_df[(modis_df.datetime_utc >= start_date) & (modis_df.datetime_utc < end_date)]\n",
    "\n",
    "_ = mp.scatter(list(sel_df.lon), list(sel_df.lat), 1, latlon=True, marker='o', color='b')\n",
    "_ = plt.title('All Detections for %d' % YEAR_SEL)"
   ]
  },
  {
   "cell_type": "code",
   "execution_count": null,
   "metadata": {
    "collapsed": true
   },
   "outputs": [],
   "source": [
    "bounds = [68.5, 69.5, -151.5, -150]\n",
    "mp = make_map(geo.LatLonBoundingBox(*bounds))\n",
    "mp.shadedrelief()\n",
    "\n",
    "sel_df = modis_df[(modis_df.datetime_utc.dt.year==YEAR_SEL) & \n",
    "                  (modis_df.lat>bounds[0]) & (modis_df.lat<bounds[1]) &\n",
    "                  (modis_df.lon>bounds[2]) & (modis_df.lon<bounds[3])]\n",
    "\n",
    "_ = mp.scatter(list(sel_df.lon), list(sel_df.lat), 5, latlon=True, marker='o', color='b')\n",
    "_ = plt.title('All Detections for %d (within bounds)' % YEAR_SEL)"
   ]
  },
  {
   "cell_type": "markdown",
   "metadata": {},
   "source": [
    "### b) GFS (Global Forecast System)"
   ]
  },
  {
   "cell_type": "code",
   "execution_count": 5,
   "metadata": {},
   "outputs": [
    {
     "ename": "NameError",
     "evalue": "name 'gfs' is not defined",
     "output_type": "error",
     "traceback": [
      "\u001b[0;31m\u001b[0m",
      "\u001b[0;31mNameError\u001b[0mTraceback (most recent call last)",
      "\u001b[0;32m<ipython-input-5-12d0bbf8b092>\u001b[0m in \u001b[0;36m<module>\u001b[0;34m()\u001b[0m\n\u001b[1;32m      2\u001b[0m \u001b[0mDATE_SEL\u001b[0m \u001b[0;34m=\u001b[0m \u001b[0mdt\u001b[0m\u001b[0;34m.\u001b[0m\u001b[0mdatetime\u001b[0m\u001b[0;34m(\u001b[0m\u001b[0;36m2009\u001b[0m\u001b[0;34m,\u001b[0m \u001b[0;36m3\u001b[0m\u001b[0;34m,\u001b[0m \u001b[0;36m5\u001b[0m\u001b[0;34m,\u001b[0m \u001b[0;36m18\u001b[0m\u001b[0;34m,\u001b[0m \u001b[0mtzinfo\u001b[0m\u001b[0;34m=\u001b[0m\u001b[0mpytz\u001b[0m\u001b[0;34m.\u001b[0m\u001b[0mUTC\u001b[0m\u001b[0;34m)\u001b[0m\u001b[0;34m\u001b[0m\u001b[0m\n\u001b[1;32m      3\u001b[0m \u001b[0;34m\u001b[0m\u001b[0m\n\u001b[0;32m----> 4\u001b[0;31m \u001b[0mmp\u001b[0m \u001b[0;34m=\u001b[0m \u001b[0mmake_map\u001b[0m\u001b[0;34m(\u001b[0m\u001b[0mgfs\u001b[0m\u001b[0;34m[\u001b[0m\u001b[0mDATA_TYPE\u001b[0m\u001b[0;34m]\u001b[0m\u001b[0;34m.\u001b[0m\u001b[0mbounding_box\u001b[0m\u001b[0;34m)\u001b[0m\u001b[0;34m\u001b[0m\u001b[0m\n\u001b[0m\u001b[1;32m      5\u001b[0m \u001b[0mmp\u001b[0m\u001b[0;34m.\u001b[0m\u001b[0mshadedrelief\u001b[0m\u001b[0;34m(\u001b[0m\u001b[0;34m)\u001b[0m\u001b[0;34m\u001b[0m\u001b[0m\n\u001b[1;32m      6\u001b[0m \u001b[0;34m\u001b[0m\u001b[0m\n",
      "\u001b[0;31mNameError\u001b[0m: name 'gfs' is not defined"
     ]
    }
   ],
   "source": [
    "DATA_TYPE = 'temperature'   \n",
    "DATE_SEL = dt.datetime(2009, 3, 5, 18, tzinfo=pytz.UTC)\n",
    "\n",
    "mp = make_map(gfs[DATA_TYPE].bounding_box)\n",
    "mp.shadedrelief()\n",
    "\n",
    "values = gfs[DATA_TYPE].get_values_for_date(du.DatetimeMeasurement(DATE_SEL))[:,:,0]\n",
    "lats, lons = gfs[DATA_TYPE].bounding_box.make_grid()\n",
    "\n",
    "cs = mp.contourf(lons, lats , values, latlon=True, alpha=.6)\n",
    "cbar = mp.colorbar(cs,location='bottom',pad=\"5%\")\n",
    "\n",
    "_ = plt.title('%s at %s' % (DATA_TYPE, DATE_SEL))"
   ]
  },
  {
   "cell_type": "markdown",
   "metadata": {},
   "source": [
    "## 3. Approach\n",
    "### a) Global Model\n",
    "### b) Local/Cluster Model + Ignition Model"
   ]
  },
  {
   "cell_type": "code",
   "execution_count": null,
   "metadata": {
    "collapsed": true
   },
   "outputs": [],
   "source": [
    "CLUSTER_ID = 249\n",
    "\n",
    "all_df = cluster_id_5km_10day_df\n",
    "sel_df = all_df[all_df.cluster_id==CLUSTER_ID]\n",
    "\n",
    "date_start, date_end = np.min(sel_df.date_local), np.max(sel_df.date_local)\n",
    "dates = [d for d in du.daterange(date_start, date_end)]\n",
    "\n",
    "lat_min, lat_max, lon_min, lon_max = np.min(sel_df.lat), np.max(sel_df.lat), np.min(sel_df.lon), np.max(sel_df.lon)\n",
    "bb = geo.LatLonBoundingBox(round_up_to_nearest_half(lat_min-1), round_up_to_nearest_half(lat_max+1), round_up_to_nearest_half(lon_min-1), round_up_to_nearest_half(lon_max+1))\n",
    "\n",
    "anim = mapv.animate_map_latlon_all(all_df, CLUSTER_ID, bb, dates, False)\n",
    "\n",
    "HTML(anim.to_html5_video())"
   ]
  },
  {
   "cell_type": "markdown",
   "metadata": {},
   "source": [
    "## 4. Results"
   ]
  },
  {
   "cell_type": "code",
   "execution_count": null,
   "metadata": {
    "collapsed": true
   },
   "outputs": [],
   "source": [
    "plt.rcParams['figure.figsize'] = [8,5]\n",
    "t_k_arr = np.arange(0, 5)\n",
    "\n",
    "results = trn.train(int_5km_10days_14_df.copy(), t_k_arr)\n",
    "plotv.plot_training(results, t_k_arr, metrics.mean_absolute_error)"
   ]
  },
  {
   "cell_type": "code",
   "execution_count": null,
   "metadata": {
    "collapsed": true
   },
   "outputs": [],
   "source": [
    "plt.rcParams['figure.figsize'] = [8,5]\n",
    "t_k_arr = np.arange(0, 5)\n",
    "\n",
    "results = trn.train(int_5km_10days_14_4rain_df.copy(), t_k_arr)\n",
    "plotv.plot_training(results, t_k_arr, metrics.mean_absolute_error)"
   ]
  },
  {
   "cell_type": "code",
   "execution_count": null,
   "metadata": {
    "collapsed": true
   },
   "outputs": [],
   "source": []
  }
 ],
 "metadata": {
  "kernelspec": {
   "display_name": "Python 2",
   "language": "python",
   "name": "python2"
  },
  "language_info": {
   "codemirror_mode": {
    "name": "ipython",
    "version": 2
   },
   "file_extension": ".py",
   "mimetype": "text/x-python",
   "name": "python",
   "nbconvert_exporter": "python",
   "pygments_lexer": "ipython2",
   "version": "2.7.5"
  }
 },
 "nbformat": 4,
 "nbformat_minor": 2
}
