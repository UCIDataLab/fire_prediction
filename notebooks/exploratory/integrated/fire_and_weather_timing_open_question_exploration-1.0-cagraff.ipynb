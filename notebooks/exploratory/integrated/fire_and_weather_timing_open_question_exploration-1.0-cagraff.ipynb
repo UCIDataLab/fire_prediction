{
 "cells": [
  {
   "cell_type": "markdown",
   "metadata": {},
   "source": [
    "# Fire and Weather Timing Open Question Exploration (v1.0)\n",
    "\n",
    "Casey A Graff\n",
    "\n",
    "August 11th, 2017\n",
    "\n",
    "Exploring the relationships in time between fire detections and weather measurements. Also of interest is when to \"cut-off\" predictions for day T vs T+1."
   ]
  },
  {
   "cell_type": "code",
   "execution_count": null,
   "metadata": {},
   "outputs": [],
   "source": [
    "REP_DIR = \"/home/cagraff/Documents/dev/fire_prediction/\"\n",
    "SRC_DIR = REP_DIR + 'src/'\n",
    "DATA_DIR = REP_DIR + 'data/'\n",
    "\n",
    "# Load system-wide packages\n",
    "import os\n",
    "import numpy as np\n",
    "from matplotlib import pyplot as plt\n",
    "%matplotlib inline\n",
    "\n",
    "# Load project packages\n",
    "os.chdir(SRC_DIR)\n",
    "from features.loaders import load_cluster_df\n",
    "plt.rcParams['figure.figsize'] = [15,7]"
   ]
  },
  {
   "cell_type": "code",
   "execution_count": null,
   "metadata": {},
   "outputs": [],
   "source": [
    "# Load data\n",
    "cluster_df = load_cluster_df(os.path.join(DATA_DIR, 'archived/cluster/clust_feat_df_5.pkl'))\n",
    "print list(cluster_df)"
   ]
  },
  {
   "cell_type": "code",
   "execution_count": null,
   "metadata": {},
   "outputs": [],
   "source": [
    "fire_season = (133,242)\n",
    "season_days = np.arange(fire_season[0], fire_season[1]+1)\n",
    "\n",
    "cluster_counts = []\n",
    "for i in range(int(max(cluster_df.cluster))):\n",
    "    sel_df = cluster_df[cluster_df.cluster==i]\n",
    "    cluster_counts.append((i, np.sum(sel_df.n_det)))\n",
    "cluster_counts.sort(reverse=True, key=lambda x: x[1])\n",
    "print len(cluster_counts), [c for c in cluster_counts if c[1]][:20]"
   ]
  },
  {
   "cell_type": "code",
   "execution_count": null,
   "metadata": {},
   "outputs": [],
   "source": [
    "def plot_cluster(cluster_id):\n",
    "    sel_df = cluster_df[cluster_df.cluster==cluster_id]\n",
    "\n",
    "    fig, axes = plt.subplots(nrows=6, ncols=1, figsize=(12,10))\n",
    "    plt.suptitle('Cluster #{}'.format(cluster_id))\n",
    "    plt.tight_layout(pad=4)\n",
    "\n",
    "    data_types = [('n_det', 'r+', 'Num Det'), ('rain', '', 'Rain'), ('rain_del_2', '', 'Rain2'), ('humidity', '', 'Humidity'),\n",
    "                  ('wind', '', 'Wind'), ('temp', '', 'Temp (C)')]\n",
    "\n",
    "    for i, (type_,form,title) in enumerate(data_types):\n",
    "        axes[i].plot(sel_df.dayofyear, sel_df[type_], form)\n",
    "        axes[i].set_title(title)\n",
    "        \n",
    "    \n",
    "\n",
    "plot_cluster(254)\n",
    "plot_cluster(244)\n",
    "plot_cluster(984)\n"
   ]
  },
  {
   "cell_type": "code",
   "execution_count": null,
   "metadata": {},
   "outputs": [],
   "source": [
    "YEAR_SEL = 2008\n",
    "fire_season = (133,242)\n",
    "\n",
    "def mean_with_nans(arr):\n",
    "    arr = [v for v in arr if not np.isnan(v)]\n",
    "    if not arr: return np.nan \n",
    "    else: return np.mean(arr)\n",
    "\n",
    "print 'Using Target Time %.2d00' % 8\n",
    "sel_df = cluster_df[cluster_df.year==YEAR_SEL]\n",
    "sel_df = sel_df[(sel_df.dayofyear >= fire_season[0]) & (sel_df.dayofyear <= fire_season[1])]\n",
    "\n",
    "dates, num_det, rain, humidity, wind, temp = [], [], [], [], [], []\n",
    "for date in range(fire_season[0], fire_season[1]+1):\n",
    "    dates.append(date)\n",
    "    day_df = sel_df[sel_df.dayofyear==date]\n",
    "    num_det.append(np.sum(day_df.n_det))\n",
    "    rain.append(mean_with_nans(day_df.rain))\n",
    "    humidity.append(mean_with_nans(day_df.humidity))\n",
    "    wind.append(mean_with_nans(day_df.wind))\n",
    "    temp.append(mean_with_nans(day_df.temp))\n",
    "        \n",
    "data_types = [(num_det, 'r+', 'Num Det'), (rain, '', 'Rain'), (humidity, '', 'Humidity'),\n",
    "              (wind, '', 'Wind'), (temp, '', 'Temp (C)')]\n",
    "    \n",
    "fig, axes = plt.subplots(nrows=5, ncols=1, figsize=(12,10))\n",
    "plt.suptitle('All Detections (%d)' % YEAR_SEL)\n",
    "plt.tight_layout(pad=4)\n",
    "\n",
    "for i, (values,form,title) in enumerate(data_types):\n",
    "    axes[i].plot(dates, values, form)\n",
    "    axes[i].set_title(title)"
   ]
  },
  {
   "cell_type": "code",
   "execution_count": null,
   "metadata": {},
   "outputs": [],
   "source": []
  }
 ],
 "metadata": {
  "language_info": {
   "name": "python",
   "pygments_lexer": "ipython3"
  }
 },
 "nbformat": 4,
 "nbformat_minor": 2
}
