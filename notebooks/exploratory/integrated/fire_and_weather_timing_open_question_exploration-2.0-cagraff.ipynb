{
 "cells": [
  {
   "cell_type": "markdown",
   "metadata": {},
   "source": [
    "# Fire and Weather Timing Open Question Exploration (v2.0)\n",
    "\n",
    "Casey A Graff\n",
    "\n",
    "August 31th, 2017\n",
    "\n",
    "Exploring the relationships in time between fire detections and weather measurements. Also of interest is when to \"cut-off\" predictions for day T vs T+1.\n",
    "\n",
    "**v2 now using re-extracted data**"
   ]
  },
  {
   "cell_type": "code",
   "execution_count": null,
   "metadata": {},
   "outputs": [],
   "source": [
    "REP_DIR = \"/home/cagraff/Documents/dev/fire_prediction/\"\n",
    "SRC_DIR = REP_DIR + 'src/'\n",
    "DATA_DIR = REP_DIR + 'data/'\n",
    "\n",
    "# Load system-wide packages\n",
    "import os\n",
    "import sys\n",
    "import numpy as np\n",
    "from matplotlib import pyplot as plt\n",
    "import datetime as dt\n",
    "%matplotlib inline\n",
    "\n",
    "# Load project packages\n",
    "os.chdir(SRC_DIR)\n",
    "from features.loaders import load_integrated_df\n",
    "from helper import date_util as du\n",
    "from visualization import timing as tplt\n",
    "plt.rcParams['figure.figsize'] = [15,7]"
   ]
  },
  {
   "cell_type": "code",
   "execution_count": null,
   "metadata": {},
   "outputs": [],
   "source": [
    "# Load data\n",
    "sys.path.append(SRC_DIR+'features')\n",
    "int_0800_df = load_integrated_df(os.path.join(DATA_DIR, 'interim/integrated/fire_weather/fire_weather_integrated_gfs_modis_5km_0800_alaska_2007-2016.pkl'))\n",
    "int_1400_df = load_integrated_df(os.path.join(DATA_DIR, 'interim/integrated/fire_weather/fire_weather_integrated_gfs_modis_5km_1400_alaska_2007-2016.pkl'))"
   ]
  },
  {
   "cell_type": "code",
   "execution_count": null,
   "metadata": {},
   "outputs": [],
   "source": [
    "int_1400_df"
   ]
  },
  {
   "cell_type": "code",
   "execution_count": null,
   "metadata": {},
   "outputs": [],
   "source": [
    "cluster_counts = []\n",
    "for i in range(int(max(int_1400_df.cluster_id))):\n",
    "    sel_df = int_1400_df[int_1400_df.cluster_id==i]\n",
    "    cluster_counts.append((i, np.sum(sel_df.num_det)))\n",
    "cluster_counts.sort(reverse=True, key=lambda x: x[1])\n",
    "print 'Num clusters: %d' % len(cluster_counts)\n",
    "print [c for c in cluster_counts if c[1]][:20]"
   ]
  },
  {
   "cell_type": "markdown",
   "metadata": {},
   "source": [
    "## Explore Timing of Detections and Weather Changes\n",
    "\n",
    "### Daily Resolution Comparison\n",
    "Using the integrated data we can compare the daily alignment for measuring weather and different times of day."
   ]
  },
  {
   "cell_type": "code",
   "execution_count": null,
   "metadata": {},
   "outputs": [],
   "source": [
    "cluster_ids_to_plot = [198]\n",
    "\n",
    "data_types = [('num_det', 'r+', 'Num Det'), ('rain', '', 'Rain'), ('humidity', '', 'Humidity'),\n",
    "              ('wind', '', 'Wind'), ('temperature', '', 'Temp (C)')]\n",
    "\n",
    "print 'Using Target Time %.2d00' % 8\n",
    "for cluster_id in cluster_ids_to_plot:\n",
    "    sel_df = int_0800_df[int_0800_df.cluster_id==cluster_id]\n",
    "    tplt.plot_df(sel_df, data_types, 'Cluster #{}'.format(cluster_id))"
   ]
  },
  {
   "cell_type": "code",
   "execution_count": null,
   "metadata": {},
   "outputs": [],
   "source": [
    "print 'Using Target Time %.2d00' % 14\n",
    "for cluster_id in cluster_ids_to_plot:\n",
    "    sel_df = int_1400_df[int_1400_df.cluster_id==cluster_id]\n",
    "    tplt.plot_df(sel_df, data_types, 'Cluster #{}'.format(cluster_id))"
   ]
  },
  {
   "cell_type": "code",
   "execution_count": null,
   "metadata": {},
   "outputs": [],
   "source": [
    "YEAR_SEL = 2009\n",
    "fire_season = (dt.date(YEAR_SEL,5,14), dt.date(YEAR_SEL,8,31))\n",
    "season_dates = [d for d in du.daterange(fire_season[0], fire_season[1]+du.INC_ONE_DAY)]\n",
    "\n",
    "def apply_with_nans(func, arr):\n",
    "    arr = [v for v in arr if not np.isnan(v)]\n",
    "    if not arr: return np.nan \n",
    "    else: return func(arr)\n",
    "\n",
    "def get_day_df_vals(sel_df):\n",
    "    dates, num_det, rain, humidity, wind, temp = [], [], [], [], [], []\n",
    "    for date in du.daterange(fire_season[0], fire_season[1]+du.INC_ONE_DAY):\n",
    "        dates.append(date)\n",
    "        day_df = sel_df[sel_df.date_local==date]\n",
    "        num_det.append(apply_with_nans(np.sum, day_df.num_det))\n",
    "        rain.append(apply_with_nans(np.sum, day_df.rain))\n",
    "        humidity.append(apply_with_nans(np.mean, day_df.humidity))\n",
    "        wind.append(apply_with_nans(np.mean, day_df.wind))\n",
    "        temp.append(apply_with_nans(np.mean, day_df.temperature))\n",
    "    \n",
    "    dates = [du.dayofyear_from_datetime(d) for d in dates]\n",
    "    \n",
    "    data_types = [(num_det, 'r+', 'Num Det'), (rain, '', 'Rain'), (humidity, '', 'Humidity'),\n",
    "              (wind, '', 'Wind'), (temp, '', 'Temp (C)')]\n",
    "    \n",
    "    return data_types\n",
    "\n",
    "def make_weather_plot(data_types, dates):\n",
    "    fig, axes = plt.subplots(nrows=len(data_types), ncols=1, figsize=(12,10))\n",
    "    plt.suptitle('All Detections (%d)' % YEAR_SEL)\n",
    "    plt.tight_layout(pad=4)\n",
    "\n",
    "    for i, (values,form,title) in enumerate(data_types):\n",
    "        axes[i].plot(dates, values, form)\n",
    "        axes[i].set_title(title)\n",
    "\n",
    "print 'Using Target Time %.2d00' % 8\n",
    "sel_df = int_0800_df[(int_0800_df.date_local >= fire_season[0]) & (int_0800_df.date_local <= fire_season[1])]\n",
    "data_types = get_day_df_vals(sel_df)\n",
    "make_weather_plot(data_types, season_dates)"
   ]
  },
  {
   "cell_type": "code",
   "execution_count": null,
   "metadata": {},
   "outputs": [],
   "source": [
    "print 'Using Target Time %.2d00' % 14\n",
    "sel_df = int_1400_df[(int_1400_df.date_local >= fire_season[0]) & (int_1400_df.date_local <= fire_season[1])]\n",
    "data_types = get_day_df_vals(sel_df)\n",
    "make_weather_plot(data_types, season_dates)"
   ]
  },
  {
   "cell_type": "code",
   "execution_count": null,
   "metadata": {},
   "outputs": [],
   "source": []
  },
  {
   "cell_type": "code",
   "execution_count": null,
   "metadata": {},
   "outputs": [],
   "source": []
  },
  {
   "cell_type": "code",
   "execution_count": null,
   "metadata": {},
   "outputs": [],
   "source": []
  }
 ],
 "metadata": {
  "language_info": {
   "name": "python",
   "pygments_lexer": "ipython3"
  }
 },
 "nbformat": 4,
 "nbformat_minor": 2
}
