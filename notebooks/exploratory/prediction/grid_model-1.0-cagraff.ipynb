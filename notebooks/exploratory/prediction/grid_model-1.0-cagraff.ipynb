{
 "cells": [
  {
   "cell_type": "markdown",
   "metadata": {},
   "source": [
    "# Global Model Testing (v3.1)\n",
    "\n",
    "Casey A Graff\n",
    "\n",
    "November 30th, 2017\n",
    "\n",
    "Now using updated model evaluation pipeline."
   ]
  },
  {
   "cell_type": "code",
   "execution_count": null,
   "metadata": {},
   "outputs": [],
   "source": [
    "# === IMPORTS ===\n",
    "\n",
    "REP_DIR = \"/home/cagraff/Documents/dev/fire_prediction/\"\n",
    "SRC_DIR = REP_DIR + 'src/'\n",
    "DATA_DIR = REP_DIR + 'data/'\n",
    "\n",
    "# --- System imports\n",
    "import os\n",
    "import numpy as np\n",
    "import datetime as dt\n",
    "from matplotlib import pyplot as plt\n",
    "from collections import defaultdict\n",
    "import tabulate\n",
    "import xarray as xr\n",
    "\n",
    "# --- Package imports\n",
    "os.chdir(SRC_DIR)\n",
    "import evaluation.metrics as metrics\n",
    "import evaluation.evaluate_model as evm\n",
    "import visualization.mapping as vmap\n",
    "import visualization.stats as vstat\n",
    "\n",
    "import helper.geometry as geo\n",
    "import helper.loaders as load\n",
    "import helper.date_util as du\n",
    "import helper.weather as weather\n",
    "\n",
    "from models import linear_regression as lr\n",
    "from models import poisson_regression as pr\n",
    "from models import poisson_regression_grid as prg\n",
    "from models import quantile_regression as qr\n",
    "from models import grid_predictor as gp\n",
    "from models import bias_grid as bg\n",
    "from models import bias_poisson_weather_grid as bpwg\n",
    "from models import active_ignition_grid as aig\n",
    "\n",
    "\n",
    "# Setup mpl\n",
    "plt.rcParams['figure.figsize'] = [7,5]\n",
    "%matplotlib inline"
   ]
  },
  {
   "cell_type": "code",
   "execution_count": null,
   "metadata": {},
   "outputs": [],
   "source": [
    "# === DATA LOADING ===\n",
    "\n",
    "T_K_MAX = 5\n",
    "T_K_ARR = np.arange(1,T_K_MAX+1)\n",
    "\n",
    "# --- Data files\n",
    "ignition_cube_src = os.path.join(DATA_DIR, 'interim/modis/fire_cube/fire_ignition_cube_modis_alaska_2007-2016.pkl')\n",
    "detection_cube_src = os.path.join(DATA_DIR, 'interim/modis/fire_cube/fire_detection_cube_modis_alaska_2007-2016.pkl')\n",
    "weather_proc_region_src = os.path.join(DATA_DIR, 'interim/gfs/weather_proc/weather_proc_gfs_4_alaska_2007-2016.pkl')\n",
    "\n",
    "integrated_cluster_df_fmt = 'interim/integrated/fire_weather/fire_weather_integrated_gfs_4_modis_5km_10days_1400_%dk_alaska_2007-2016.pkl'\n",
    "integrated_cluster_df_src_list = map(lambda k: os.path.join(DATA_DIR, integrated_cluster_df_fmt % k), T_K_ARR)\n",
    "                                     \n",
    "# --- Load data\n",
    "X_ignition_c, Y_detection_c = evm.setup_ignition_data(ignition_cube_src, detection_cube_src)\n",
    "X_ignition_c.name = 'num_ig'\n",
    "Y_detection_c.name = 'num_det'\n",
    "weather_proc_region = load.load_pickle(weather_proc_region_src)\n",
    "\n",
    "X_active_df = []\n",
    "for f_src in integrated_cluster_df_src_list:\n",
    "    X_active_df.append(evm.setup_active_fire_data(f_src))"
   ]
  },
  {
   "cell_type": "code",
   "execution_count": null,
   "metadata": {},
   "outputs": [],
   "source": [
    "# Non-grid baselines\n",
    "def only_zero_model():\n",
    "    model = aig.ActiveIgnitionGridModel(None, None)\n",
    "    \n",
    "    return model\n",
    "\n",
    "def no_ignition_model_poisson(covariates):\n",
    "    afm = gp.GridPredictorModel(pr.PoissonRegressionModel(covariates))\n",
    "    model = aig.ActiveIgnitionGridModel(afm, None)\n",
    "    \n",
    "    return model\n",
    "\n",
    "def bias_model_poisson(covariates):\n",
    "    afm = gp.GridPredictorModel(pr.PoissonRegressionModel(covariates))\n",
    "    igm = bg.BiasGridModel()\n",
    "    model = aig.ActiveIgnitionGridModel(afm, igm)\n",
    "    \n",
    "    return model\n",
    "\n",
    "def bias_weather_model_poisson(covariates):\n",
    "    afm = gp.GridPredictorModel(pr.PoissonRegressionModel(covariates))\n",
    "    igm = bpwg.BiasPoissonWeatherGridModel(covariates)\n",
    "    model = aig.ActiveIgnitionGridModel(afm, igm)\n",
    "    \n",
    "    return model"
   ]
  },
  {
   "cell_type": "code",
   "execution_count": null,
   "metadata": {},
   "outputs": [],
   "source": [
    "# Grid models\n",
    "def no_ignition_grid_model_poisson(covariates):\n",
    "    afm = prg.PoissonRegressionGridModel(covariates)\n",
    "    model = aig.ActiveIgnitionGridModel(afm, None)\n",
    "    \n",
    "    return model"
   ]
  },
  {
   "cell_type": "code",
   "execution_count": null,
   "metadata": {},
   "outputs": [],
   "source": [
    "def test_model(model_func):\n",
    "    results_all = defaultdict(list)\n",
    "    for t_k in T_K_ARR:\n",
    "        results_k = {}\n",
    "        \n",
    "        # Test baselines\n",
    "        results = evm.evaluate_model(only_zero_model(), X_active_df[t_k-1], X_ignition_c, Y_detection_c, t_k)\n",
    "        results_all['Only_Zero'].append(results)\n",
    "        \n",
    "        #results = evm.evaluate_model(only_bias_model(), X_active_df[t_k-1], Y_detection_c, Y_detection_c, t_k)\n",
    "        #results_all['Only_Bias'].append(results)\n",
    "        \n",
    "        # Test model with different covariates\n",
    "        print 'T_k=%d' % t_k\n",
    "        for name,cov in [('None', []), ('Temp/Humid', ['temperature', 'humidity']), ('All', ['temperature','humidity','wind','rain'])]:\n",
    "            results = evm.evaluate_model(model_func(cov), X_active_df[t_k-1], X_ignition_c, Y_detection_c, t_k)\n",
    "            results_all[name].append(results)\n",
    "    \n",
    "    return results_all\n",
    "\n",
    "def flat(x):\n",
    "    return map(lambda x: x.flatten(), x)\n",
    "\n",
    "def plot_results(results):\n",
    "    for metric in [metrics.mean_absolute_error, metrics.root_mean_squared_error]:\n",
    "        for k,v in results.iteritems():\n",
    "            plt.plot(T_K_ARR, map(lambda x: metric(*flat(x)), results[k]), \"s--\", label=k, linewidth=2)\n",
    "        lgd = plt.legend(bbox_to_anchor=(1.05, 1), loc=2, borderaxespad=0.)\n",
    "        plt.xlabel(\"Day of forecast (k)\")\n",
    "        plt.xticks(T_K_ARR)\n",
    "        plt.ylabel(metric.__name__)\n",
    "        plt.show()\n",
    "        \n",
    "def plot_results_grid(results_list):\n",
    "    #fig = plt.figure()\n",
    "    metrics_ = [metrics.mean_absolute_error, metrics.root_mean_squared_error]\n",
    "    for j,(results,t) in enumerate(results_list):\n",
    "        for i, metric in enumerate(metrics_):    \n",
    "            ax = plt.subplot(len(metrics_),len(results_list),(i*len(results_list))+j+1)\n",
    "            ax.set_title(t)\n",
    "            for k,v in results.iteritems():     \n",
    "                plt.plot(range(1,len(results[k])+1), map(lambda x: metric(*flat(x)), results[k]), \"s--\", label=k, linewidth=2)\n",
    "            plt.xlabel(\"Day of forecast (k)\")\n",
    "            plt.xticks(T_K_ARR)\n",
    "            plt.ylabel(metric.__name__)\n",
    "            \n",
    "    lgd = plt.legend(bbox_to_anchor=(1.05, 1), loc=2, borderaxespad=0.)\n",
    "    \n",
    "def print_results_table(results_list):\n",
    "    metrics_ = [metrics.mean_absolute_error, metrics.root_mean_squared_error]\n",
    "    for results,title in results_list:\n",
    "        print title\n",
    "        print '====================='\n",
    "        for metric in metrics_:\n",
    "            print metric.__name__\n",
    "            table = []\n",
    "            for k,v in results.iteritems():\n",
    "                vals = map(lambda x: round(metric(*flat(x)),5), results[k])\n",
    "                table.append([k]+vals)\n",
    "            print tabulate.tabulate(table)\n",
    "                "
   ]
  },
  {
   "cell_type": "code",
   "execution_count": null,
   "metadata": {},
   "outputs": [],
   "source": [
    "fill_n_days = 5\n",
    "\n",
    "def get_date_index(weather_data, target_datetime):\n",
    "        date_ind = np.searchsorted(weather_data.dates, target_datetime, side='left')\n",
    "\n",
    "        # Check if left or right element is closer\n",
    "        if date_ind != 0:\n",
    "            date_ind_left, date_ind_curr = date_ind-1, date_ind\n",
    "\n",
    "            dist_left = abs((weather_data.dates[date_ind_left] - target_datetime).total_seconds())\n",
    "            dist_curr = abs((weather_data.dates[date_ind_curr] - target_datetime).total_seconds())\n",
    "\n",
    "            if dist_left < dist_curr:\n",
    "                date_ind = date_ind_left\n",
    "\n",
    "        return date_ind\n",
    "\n",
    "def get_weather_variables(vals,weather_data, target_datetime, covariates):                                                             \n",
    "    # Get date index\n",
    "    date_ind = get_date_index(weather_data, target_datetime)                                                  \n",
    "\n",
    "    #vals = []\n",
    "    for key in covariates:                                                                           \n",
    "        data = weather_data[key].values                                                                            \n",
    "        val = data[:, :, date_ind]                                                                 \n",
    "\n",
    "        if np.any(np.isnan(val)):\n",
    "            val = fill_missing_value(data, date_ind)                                        \n",
    "\n",
    "        #vals.append(val)                                                                                           \n",
    "        vals[key].append(val)\n",
    "\n",
    "    #return vals                                                                                                    \n",
    "    \n",
    "def fill_missing_value(data, date_ind):                                                    \n",
    "    \"\"\"\n",
    "    Try to replace with closest prev day in range [1, fill_n_days].                                                \n",
    "\n",
    "    If no non-nan value is found, replaces with mean of all values at the given lat/lon.                           \n",
    "    \"\"\" \n",
    "    for day_offset in range(1,fill_n_days+1):                                                                 \n",
    "        new_date_ind = date_ind - day_offset                                                                       \n",
    "\n",
    "        if new_date_ind < 0:                                                                                       \n",
    "            break                                                                                                  \n",
    "\n",
    "        val = data[:, :, new_date_ind]                                                                 \n",
    "\n",
    "        if not np.any(np.isnan(val)):                                                                                      \n",
    "            return val                                                                                             \n",
    "\n",
    "    return np.nanmean(data[:, :, :], axis=2)"
   ]
  },
  {
   "cell_type": "code",
   "execution_count": null,
   "metadata": {},
   "outputs": [],
   "source": [
    "def test_model2(model_func):\n",
    "    results_all = defaultdict(list)\n",
    "    for t_k in T_K_ARR:\n",
    "        results_k = {}\n",
    "        \n",
    "        #ignitions = X_ignition_c.values\n",
    "        #shape = np.shape(ignitions)[:2]+(t_k,)\n",
    "        #ignitions = np.concatenate((ignitions, np.zeros(shape)), axis=2)\n",
    "        #ignitions = ignitions[:,:,t_k:]\n",
    "\n",
    "        #cube = weather.WeatherCube('num_ig_target', ignitions, None, dates=Y_detection_c.dates)\n",
    "        #X_weather_r[t_k].add_cube(cube)\n",
    "        \n",
    "        # Test baselines\n",
    "        #results = evm.evaluate_model(only_zero_model(), X_active_df[t_k-1], X_ignition_c, Y_detection_c, t_k)\n",
    "        #results_all['Only_Zero'].append(results)\n",
    "        \n",
    "        # Test model with different covariates\n",
    "        print 'T_k=%d' % t_k\n",
    "        for name,cov in [('None', []), ('Temp/Humid', ['temperature', 'humidity']), ('All', ['temperature','humidity','wind','rain'])]:\n",
    "            results = evm.evaluate_model(model_func(cov), X_active_df[t_k-1], X_ignition_weather_r[t_k], Y_detection_c, t_k)\n",
    "            results_all[name].append(results)\n",
    "    \n",
    "    return results_all"
   ]
  },
  {
   "cell_type": "code",
   "execution_count": null,
   "metadata": {},
   "outputs": [],
   "source": [
    "def plot_predictions(result,title):\n",
    "    fig = plt.figure()\n",
    "    fig.suptitle(title)\n",
    "    ax = plt.subplot(121)\n",
    "    a = np.array(result[0].flatten())\n",
    "    b = np.array(result[1].flatten())\n",
    "    \n",
    "    print a.shape, b.shape\n",
    "    ax.plot(a, b, 'o', markeredgecolor='none', markersize=2)\n",
    "    plt.title('Predicted vs. Actual Counts')\n",
    "    plt.xlabel('Actual Counts')\n",
    "    plt.ylabel('Predicted Counts')\n",
    "    plt.plot(xrange(int(np.max(result[0]))),xrange(int(np.max(result[0]))), 'r')\n",
    "    \n",
    "    ax = plt.subplot(122)\n",
    "    plt.plot(np.log(a+1), np.log(b+1), 'o', markeredgecolor='none', markersize=2)\n",
    "    plt.title('Predicted vs. Actual Counts (log+1)')\n",
    "    plt.xlabel('Actual Counts')\n",
    "    plt.ylabel('Predicted Counts')\n",
    "    plt.plot([0, np.max(np.log(a+1))],[0, np.max(np.log(a+1))], 'r')"
   ]
  },
  {
   "cell_type": "code",
   "execution_count": null,
   "metadata": {},
   "outputs": [],
   "source": [
    "X_ignition_weather_r = {}\n",
    "for t_k in [1,2]:#T_K_ARR:\n",
    "    vals = defaultdict(list)\n",
    "    for date in Y_detection_c.dates:\n",
    "        time = 14\n",
    "        date += du.INC_ONE_DAY * t_k # For row t, store weather(t+k)\n",
    "        target_datetime = dt.datetime.combine(date, dt.time(time, 0, 0, tzinfo=du.TrulyLocalTzInfo(153, du.round_to_nearest_quarter_hour)))\n",
    "\n",
    "        get_weather_variables(vals, weather_proc_region, target_datetime, ['temperature','humidity','wind','rain'])\n",
    "\n",
    "    X_ignition_weather_r[t_k] = weather.WeatherRegion('ignition')\n",
    "    for k,v in vals.iteritems():\n",
    "        vals[k] = np.rollaxis(np.array(v), 0, 3)  \n",
    "        cube = weather.WeatherCube(k, vals[k], None, dates=Y_detection_c.dates)\n",
    "        X_ignition_weather_r[t_k].add_cube(cube)\n",
    "        \n",
    "    # Add ignitions (shifted)\n",
    "    ignitions = X_ignition_c.values\n",
    "    shape = np.shape(ignitions)[:2]+(t_k,)\n",
    "    ignitions = np.concatenate((ignitions, np.zeros(shape)), axis=2)\n",
    "    ignitions = ignitions[:,:,t_k:]\n",
    "\n",
    "    cube = weather.WeatherCube('num_ig_target', ignitions, None, dates=Y_detection_c.dates)\n",
    "    X_ignition_weather_r[t_k].add_cube(cube)\n",
    "    \n",
    "    # Add detections\n",
    "    det = Y_detection_c.values\n",
    "\n",
    "    cube = weather.WeatherCube('num_det', det, None, dates=Y_detection_c.dates)\n",
    "    X_ignition_weather_r[t_k].add_cube(cube)\n",
    "    \n",
    "    # Add detections (shifted)\n",
    "    det_target = Y_detection_c.values\n",
    "    shape = np.shape(det_target)[:2]+(t_k,)\n",
    "    det_target = np.concatenate((det_target, np.zeros(shape)), axis=2)\n",
    "    det_target = det_target[:,:,t_k:]\n",
    "\n",
    "    cube = weather.WeatherCube('num_det_target', det_target, None, dates=Y_detection_c.dates)\n",
    "    X_ignition_weather_r[t_k].add_cube(cube)\n",
    "    \n",
    "    print 'T_k=%d' % t_k"
   ]
  },
  {
   "cell_type": "code",
   "execution_count": null,
   "metadata": {},
   "outputs": [],
   "source": [
    "def test_model3(model_func):\n",
    "    results_all = defaultdict(list)\n",
    "    for t_k in [1,2]:#T_K_ARR:\n",
    "        results_k = {}\n",
    "        \n",
    "        results = evm.evaluate_model(only_zero_model(), X_active_df[t_k-1], X_ignition_c, Y_detection_c, t_k)\n",
    "        results_all['Only_Zero'].append(results)\n",
    "        \n",
    "        # Test model with different covariates\n",
    "        print 'T_k=%d' % t_k\n",
    "        for name,cov in [('None', []), ('Temp/Humid', ['temperature', 'humidity']), ('All', ['temperature','humidity','wind','rain'])]:\n",
    "            results = evm.evaluate_model_grid(model_func(cov), X_ignition_weather_r[t_k], X_ignition_weather_r[t_k], Y_detection_c, t_k)\n",
    "            results_all[name].append(results)\n",
    "    \n",
    "    return results_all"
   ]
  },
  {
   "cell_type": "code",
   "execution_count": null,
   "metadata": {},
   "outputs": [],
   "source": [
    "from scipy.stats import gaussian_kde\n",
    "def plot_kde(data,upper=100, data2=None):\n",
    "    density = gaussian_kde(data)\n",
    "    x = np.arange(0., upper, .05)\n",
    "    plt.plot(x, density(x), label='1')\n",
    "    \n",
    "    if data2 is not None:\n",
    "        density = gaussian_kde(data2)\n",
    "        x = np.arange(0., upper, .05)\n",
    "        plt.plot(x, density(x), label='2')\n",
    "        \n",
    "    lgd = plt.legend(bbox_to_anchor=(1.05, 1), loc=2, borderaxespad=0.)"
   ]
  },
  {
   "cell_type": "code",
   "execution_count": null,
   "metadata": {},
   "outputs": [],
   "source": [
    "reload(prg)\n",
    "reload(evm)\n",
    "import evaluation.cross_validation as cv\n",
    "reload(cv)\n",
    "results_no_ig_grid = test_model3(no_ignition_grid_model_poisson)"
   ]
  },
  {
   "cell_type": "code",
   "execution_count": null,
   "metadata": {},
   "outputs": [],
   "source": [
    "# Plot pred vs actual\n",
    "plt.rcParams['figure.figsize'] = [15, 6]\n",
    "plot_predictions(results_no_ig_grid['All'][0], 'Poisson Regression (k=1)')"
   ]
  },
  {
   "cell_type": "code",
   "execution_count": null,
   "metadata": {},
   "outputs": [],
   "source": [
    "reload(prg)\n",
    "reload(evm)\n",
    "import evaluation.cross_validation as cv\n",
    "reload(cv)\n",
    "results_no_ig_grid = test_model3(no_ignition_grid_model_poisson)"
   ]
  },
  {
   "cell_type": "code",
   "execution_count": null,
   "metadata": {},
   "outputs": [],
   "source": [
    "plt.rcParams['figure.figsize'] = [15, 10]\n",
    "plot_results_grid([(results_no_ig, 'Poisson (No Ign.)'), (results_no_ig_grid, 'Poisson Grid (No Ign.)')])"
   ]
  },
  {
   "cell_type": "code",
   "execution_count": null,
   "metadata": {},
   "outputs": [],
   "source": []
  },
  {
   "cell_type": "code",
   "execution_count": null,
   "metadata": {},
   "outputs": [],
   "source": [
    "print np.sum(results_no_ig_grid['All'][0][1].flatten()<1)/(1.*len(results_no_ig_grid['All'][0][1].flatten())),\n",
    "print np.sum(results_no_ig['All'][0][1].flatten()<1)/(1.*len(results_no_ig['All'][0][1].flatten()))\n",
    "\n",
    "print np.mean(results_no_ig_grid['All'][0][1]), np.mean(results_no_ig['All'][0][1])"
   ]
  },
  {
   "cell_type": "code",
   "execution_count": null,
   "metadata": {},
   "outputs": [],
   "source": []
  },
  {
   "cell_type": "code",
   "execution_count": null,
   "metadata": {},
   "outputs": [],
   "source": []
  },
  {
   "cell_type": "code",
   "execution_count": null,
   "metadata": {},
   "outputs": [],
   "source": [
    "# Baselines\n",
    "results_no_ig = test_model(no_ignition_model_poisson)\n",
    "#results_ig_weather = test_model2(bias_weather_model_poisson)"
   ]
  },
  {
   "cell_type": "code",
   "execution_count": null,
   "metadata": {},
   "outputs": [],
   "source": [
    "actual = results_no_ig_grid['All'][0][0].flatten()\n",
    "pred = results_no_ig_grid['All'][0][1].flatten()\n",
    "ind = range(len(actual))\n",
    "ind_samp = np.random.choice(ind, 10000, replace=False)\n",
    "plot_kde(actual[ind], 2, pred[ind])"
   ]
  },
  {
   "cell_type": "code",
   "execution_count": null,
   "metadata": {},
   "outputs": [],
   "source": [
    "actual = results_no_ig['All'][0][0].flatten()\n",
    "pred = results_no_ig['All'][0][1].flatten()\n",
    "ind = range(len(actual))\n",
    "ind_samp = np.random.choice(ind, 10000, replace=False)\n",
    "plot_kde(actual[ind], 2, pred[ind])"
   ]
  },
  {
   "cell_type": "code",
   "execution_count": null,
   "metadata": {},
   "outputs": [],
   "source": [
    "# Plot comparison graph\n",
    "plot_results_grid([(results_no_ig, 'Poisson (No Ign.)'), (results_no_ig, 'Poisson (No Ign.)')])"
   ]
  },
  {
   "cell_type": "code",
   "execution_count": null,
   "metadata": {},
   "outputs": [],
   "source": [
    "# Plot pred vs actual\n",
    "plt.rcParams['figure.figsize'] = [15, 6]\n",
    "plot_predictions(results_no_ig['All'][0], 'Poisson Regression (k=1)')"
   ]
  },
  {
   "cell_type": "code",
   "execution_count": null,
   "metadata": {},
   "outputs": [],
   "source": [
    "print_results_table([(results_no_ig, 'Poisson (No Ign.)'), (results_ig_bias, 'Poisson (Ign. Bias)')])"
   ]
  },
  {
   "cell_type": "code",
   "execution_count": null,
   "metadata": {},
   "outputs": [],
   "source": []
  },
  {
   "cell_type": "code",
   "execution_count": null,
   "metadata": {},
   "outputs": [],
   "source": []
  },
  {
   "cell_type": "code",
   "execution_count": null,
   "metadata": {},
   "outputs": [],
   "source": [
    "data = Y_detection_c.values\n",
    "dates = Y_detection_c.dates\n",
    "lat_min,lat_max,lon_min,lon_max = weather_proc_region.bounding_box.get()\n",
    "lats = np.arange(lat_min,lat_max+.5,.5)\n",
    "lons = np.arange(lon_min,lon_max+.5,.5)\n",
    "print data.shape, dates.shape"
   ]
  },
  {
   "cell_type": "code",
   "execution_count": null,
   "metadata": {},
   "outputs": [],
   "source": [
    "ds = xr.Dataset({'num_det': (('y', 'x', 'time'), data), 'temp': (('y','x','time'), weather_r['temperature'].values)},\n",
    "                {'time': pd.to_datetime(dates), 'lat': (['y'], lats), 'lon': (['x'], lons)})"
   ]
  },
  {
   "cell_type": "code",
   "execution_count": null,
   "metadata": {},
   "outputs": [],
   "source": [
    "ds"
   ]
  },
  {
   "cell_type": "code",
   "execution_count": null,
   "metadata": {},
   "outputs": [],
   "source": [
    "ds['temp'][:,:,0].plot()"
   ]
  },
  {
   "cell_type": "code",
   "execution_count": null,
   "metadata": {},
   "outputs": [],
   "source": [
    "start = time()\n",
    "a = ds.sel(time='2007')\n",
    "b = ds.sel(time='2008')\n",
    "c = xr.concat((a,b), dim='time')\n",
    "print time()-start"
   ]
  },
  {
   "cell_type": "code",
   "execution_count": null,
   "metadata": {},
   "outputs": [],
   "source": [
    "fires = (ds['num_det']>0).groupby('time.month').mean().to_pandas().plot()"
   ]
  },
  {
   "cell_type": "code",
   "execution_count": null,
   "metadata": {},
   "outputs": [],
   "source": [
    "import pandas as pd\n",
    "date_range = pd.date_range('2007-5-14', '2007-5-21', tz='UTC')\n",
    "print dates[0],date_range.to_datetime()[0]\n",
    "print np.in1d(ds['time.year'], [2008,2012]).shape\n",
    "ds.sel(time=ds.time.dt.year!=2007)"
   ]
  },
  {
   "cell_type": "code",
   "execution_count": null,
   "metadata": {},
   "outputs": [],
   "source": [
    "weather_r = {}\n",
    "vals = defaultdict(list)\n",
    "for date in Y_detection_c.dates:\n",
    "    time = 14\n",
    "    date += du.INC_ONE_DAY # For row t, store weather(t+k)\n",
    "    target_datetime = dt.datetime.combine(date, dt.time(time, 0, 0, tzinfo=du.TrulyLocalTzInfo(153, du.round_to_nearest_quarter_hour)))\n",
    "\n",
    "    get_weather_variables(vals, weather_proc_region, target_datetime, ['temperature','humidity','wind','rain'])\n",
    "\n",
    "weather_r = weather.WeatherRegion('ignition')\n",
    "for k,v in vals.iteritems():\n",
    "    vals[k] = np.rollaxis(np.array(v), 0, 3)  \n",
    "    cube = weather.WeatherCube(k, vals[k], None, dates=Y_detection_c.dates)\n",
    "    weather_r.add_cube(cube)"
   ]
  },
  {
   "cell_type": "code",
   "execution_count": null,
   "metadata": {},
   "outputs": [],
   "source": []
  },
  {
   "cell_type": "code",
   "execution_count": null,
   "metadata": {},
   "outputs": [],
   "source": []
  }
 ],
 "metadata": {
  "language_info": {
   "name": "python",
   "pygments_lexer": "ipython3"
  }
 },
 "nbformat": 4,
 "nbformat_minor": 2
}
