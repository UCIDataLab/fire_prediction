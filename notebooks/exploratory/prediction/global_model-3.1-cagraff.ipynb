{
 "cells": [
  {
   "cell_type": "markdown",
   "metadata": {},
   "source": [
    "# Global Model Testing (v3.1)\n",
    "\n",
    "Casey A Graff\n",
    "\n",
    "November 30th, 2017\n",
    "\n",
    "Now using updated model evaluation pipeline."
   ]
  },
  {
   "cell_type": "code",
   "execution_count": null,
   "metadata": {
    "collapsed": true
   },
   "outputs": [],
   "source": [
    "# === IMPORTS ===\n",
    "\n",
    "REP_DIR = \"/home/cagraff/Documents/dev/fire_prediction/\"\n",
    "SRC_DIR = REP_DIR + 'src/'\n",
    "DATA_DIR = REP_DIR + 'data/'\n",
    "\n",
    "# --- System imports\n",
    "import os\n",
    "import numpy as np\n",
    "import datetime as dt\n",
    "from matplotlib import pyplot as plt\n",
    "from collections import defaultdict\n",
    "import tabulate\n",
    "\n",
    "# --- Package imports\n",
    "os.chdir(SRC_DIR)\n",
    "import evaluation.metrics as metrics\n",
    "import evaluation.evaluate_model as evm\n",
    "import visualization.mapping as vmap\n",
    "import visualization.stats as vstat\n",
    "\n",
    "import helper.geometry as geo\n",
    "import helper.loaders as load\n",
    "import helper.date_util as du\n",
    "import helper.weather as weather\n",
    "\n",
    "from models import linear_regression as lr\n",
    "from models import poisson_regression as pr\n",
    "from models import quantile_regression as qr\n",
    "from models import grid_predictor as gp\n",
    "from models import bias_grid as bg\n",
    "from models import bias_poisson_weather_grid as bpwg\n",
    "from models import active_ignition_grid as aig\n",
    "\n",
    "\n",
    "# Setup mpl\n",
    "plt.rcParams['figure.figsize'] = [7,5]\n",
    "%matplotlib inline"
   ]
  },
  {
   "cell_type": "code",
   "execution_count": null,
   "metadata": {
    "collapsed": true
   },
   "outputs": [],
   "source": [
    "# === DATA LOADING ===\n",
    "\n",
    "T_K_MAX = 5\n",
    "T_K_ARR = np.arange(1,T_K_MAX+1)\n",
    "\n",
    "# --- Data files\n",
    "ignition_cube_src = os.path.join(DATA_DIR, 'interim/modis/fire_cube/fire_ignition_cube_modis_alaska_2007-2016.pkl')\n",
    "detection_cube_src = os.path.join(DATA_DIR, 'interim/modis/fire_cube/fire_detection_cube_modis_alaska_2007-2016.pkl')\n",
    "weather_proc_region_src = os.path.join(DATA_DIR, 'interim/gfs/weather_proc/weather_proc_gfs_alaska_2007-2016.pkl')\n",
    "\n",
    "integrated_cluster_df_fmt = 'interim/integrated/fire_weather/fire_weather_integrated_gfs_4_modis_5km_10days_1400_%dk_alaska_2007-2016.pkl'\n",
    "integrated_cluster_df_src_list = map(lambda k: os.path.join(DATA_DIR, integrated_cluster_df_fmt % k), T_K_ARR)\n",
    "\n",
    "# --- Load data\n",
    "X_ignition_c, Y_detection_c = evm.setup_ignition_data(ignition_cube_src, detection_cube_src)\n",
    "X_ignition_c.name = 'num_ig'\n",
    "Y_detection_c.name = 'num_det'\n",
    "weather_proc_region = load.load_pickle(weather_proc_region_src)\n",
    "\n",
    "X_active_df = []\n",
    "for f_src in integrated_cluster_df_src_list:\n",
    "    X_active_df.append(evm.setup_active_fire_data(f_src))"
   ]
  },
  {
   "cell_type": "code",
   "execution_count": null,
   "metadata": {
    "collapsed": true
   },
   "outputs": [],
   "source": [
    "def no_ignition_model_poisson(covariates):\n",
    "    afm = gp.GridPredictorModel(pr.PoissonRegressionModel(covariates))\n",
    "    model = aig.ActiveIgnitionGridModel(afm, None)\n",
    "    \n",
    "    return model\n",
    "\n",
    "def no_ignition_model_quantile(covariates, quantile=.5):\n",
    "    afm = gp.GridPredictorModel(qr.QuantileRegressionModel(quantile, covariates))\n",
    "    model = aig.ActiveIgnitionGridModel(afm, None)\n",
    "    \n",
    "    return model\n",
    "\n",
    "def bias_model_poisson(covariates):\n",
    "    afm = gp.GridPredictorModel(pr.PoissonRegressionModel(covariates))\n",
    "    igm = bg.BiasGridModel()\n",
    "    model = aig.ActiveIgnitionGridModel(afm, igm)\n",
    "    \n",
    "    return model\n",
    "\n",
    "def bias_model_linear(covariates):\n",
    "    afm = gp.GridPredictorModel(lr.LinearRegressionModel(covariates))\n",
    "    igm = bg.BiasGridModel()\n",
    "    model = aig.ActiveIgnitionGridModel(afm, igm)\n",
    "    \n",
    "    return model\n",
    "\n",
    "def only_bias_model():\n",
    "    igm = bg.BiasGridModel()\n",
    "    model = aig.ActiveIgnitionGridModel(None, igm)\n",
    "    \n",
    "    return model\n",
    "\n",
    "def only_zero_model():\n",
    "    model = aig.ActiveIgnitionGridModel(None, None)\n",
    "    \n",
    "    return model\n",
    "\n",
    "def bias_weather_model_poisson(covariates):\n",
    "    afm = gp.GridPredictorModel(pr.PoissonRegressionModel(covariates))\n",
    "    igm = bpwg.BiasPoissonWeatherGridModel(covariates)\n",
    "    model = aig.ActiveIgnitionGridModel(afm, igm)\n",
    "    \n",
    "    return model"
   ]
  },
  {
   "cell_type": "code",
   "execution_count": null,
   "metadata": {
    "collapsed": true
   },
   "outputs": [],
   "source": [
    "def test_model(model_func):\n",
    "    results_all = defaultdict(list)\n",
    "    for t_k in T_K_ARR:\n",
    "        results_k = {}\n",
    "        \n",
    "        # Test baselines\n",
    "        #results = evm.evaluate_model(only_zero_model(), X_active_df[t_k-1], X_ignition_c, Y_detection_c, t_k)\n",
    "        #results_all['Only_Zero'].append(results)\n",
    "        \n",
    "        results = evm.evaluate_model(only_bias_model(), X_active_df[t_k-1], Y_detection_c, Y_detection_c, t_k)\n",
    "        results_all['Only_Bias'].append(results)\n",
    "        \n",
    "        # Test model with different covariates\n",
    "        print 'T_k=%d' % t_k\n",
    "        for name,cov in [('None', []), ('Temp/Humid', ['temperature', 'humidity']), ('All', ['temperature','humidity','wind','rain'])]:\n",
    "            results = evm.evaluate_model(model_func(cov), X_active_df[t_k-1], X_ignition_c, Y_detection_c, t_k)\n",
    "            results_all[name].append(results)\n",
    "    \n",
    "    return results_all\n",
    "\n",
    "def flat(x):\n",
    "    return map(lambda x: x.flatten(), x)\n",
    "\n",
    "def plot_results(results):\n",
    "    for metric in [metrics.mean_absolute_error, metrics.root_mean_squared_error]:\n",
    "        for k,v in results.iteritems():\n",
    "            plt.plot(T_K_ARR, map(lambda x: metric(*flat(x)), results[k]), \"s--\", label=k, linewidth=2)\n",
    "        lgd = plt.legend(bbox_to_anchor=(1.05, 1), loc=2, borderaxespad=0.)\n",
    "        plt.xlabel(\"Day of forecast (k)\")\n",
    "        plt.xticks(T_K_ARR)\n",
    "        plt.ylabel(metric.__name__)\n",
    "        plt.show()\n",
    "        \n",
    "def plot_results_grid(results_list):\n",
    "    #fig = plt.figure()\n",
    "    metrics_ = [metrics.mean_absolute_error, metrics.root_mean_squared_error]\n",
    "    for j,(results,t) in enumerate(results_list):\n",
    "        for i, metric in enumerate(metrics_):    \n",
    "            ax = plt.subplot(len(metrics_),len(results_list),(i*len(results_list))+j+1)\n",
    "            ax.set_title(t)\n",
    "            for k,v in results.iteritems():     \n",
    "                plt.plot(T_K_ARR, map(lambda x: metric(*flat(x)), results[k]), \"s--\", label=k, linewidth=2)\n",
    "            plt.xlabel(\"Day of forecast (k)\")\n",
    "            plt.xticks(T_K_ARR)\n",
    "            plt.ylabel(metric.__name__)\n",
    "            \n",
    "    lgd = plt.legend(bbox_to_anchor=(1.05, 1), loc=2, borderaxespad=0.)\n",
    "    \n",
    "def print_results_table(results_list):\n",
    "    metrics_ = [metrics.mean_absolute_error, metrics.root_mean_squared_error]\n",
    "    for results,title in results_list:\n",
    "        print title\n",
    "        print '====================='\n",
    "        for metric in metrics_:\n",
    "            print metric.__name__\n",
    "            table = []\n",
    "            for k,v in results.iteritems():\n",
    "                vals = map(lambda x: round(metric(*flat(x)),5), results[k])\n",
    "                table.append([k]+vals)\n",
    "            print tabulate.tabulate(table)\n",
    "                "
   ]
  },
  {
   "cell_type": "code",
   "execution_count": null,
   "metadata": {
    "collapsed": true
   },
   "outputs": [],
   "source": [
    "fill_n_days = 5\n",
    "\n",
    "def get_date_index(weather_data, target_datetime):\n",
    "        date_ind = np.searchsorted(weather_data.dates, target_datetime, side='left')\n",
    "\n",
    "        # Check if left or right element is closer\n",
    "        if date_ind != 0:\n",
    "            date_ind_left, date_ind_curr = date_ind-1, date_ind\n",
    "\n",
    "            dist_left = abs((weather_data.dates[date_ind_left] - target_datetime).total_seconds())\n",
    "            dist_curr = abs((weather_data.dates[date_ind_curr] - target_datetime).total_seconds())\n",
    "\n",
    "            if dist_left < dist_curr:\n",
    "                date_ind = date_ind_left\n",
    "\n",
    "        return date_ind\n",
    "\n",
    "def get_weather_variables(vals,weather_data, target_datetime, covariates):                                                             \n",
    "    # Get date index\n",
    "    date_ind = get_date_index(weather_data, target_datetime)                                                  \n",
    "\n",
    "    #vals = []\n",
    "    for key in covariates:                                                                           \n",
    "        data = weather_data[key].values                                                                            \n",
    "        val = data[:, :, date_ind]                                                                 \n",
    "\n",
    "        if np.any(np.isnan(val)):\n",
    "            val = fill_missing_value(data, date_ind)                                        \n",
    "\n",
    "        #vals.append(val)                                                                                           \n",
    "        vals[key].append(val)\n",
    "\n",
    "    #return vals                                                                                                    \n",
    "    \n",
    "def fill_missing_value(data, date_ind):                                                    \n",
    "    \"\"\"\n",
    "    Try to replace with closest prev day in range [1, fill_n_days].                                                \n",
    "\n",
    "    If no non-nan value is found, replaces with mean of all values at the given lat/lon.                           \n",
    "    \"\"\" \n",
    "    for day_offset in range(1,fill_n_days+1):                                                                 \n",
    "        new_date_ind = date_ind - day_offset                                                                       \n",
    "\n",
    "        if new_date_ind < 0:                                                                                       \n",
    "            break                                                                                                  \n",
    "\n",
    "        val = data[:, :, new_date_ind]                                                                 \n",
    "\n",
    "        if not np.any(np.isnan(val)):                                                                                      \n",
    "            return val                                                                                             \n",
    "\n",
    "    return np.nanmean(data[:, :, :], axis=2)"
   ]
  },
  {
   "cell_type": "code",
   "execution_count": null,
   "metadata": {
    "collapsed": true
   },
   "outputs": [],
   "source": [
    "def test_model2(model_func):\n",
    "    results_all = defaultdict(list)\n",
    "    for t_k in T_K_ARR:\n",
    "        results_k = {}\n",
    "        \n",
    "        ignitions = X_ignition_c.values\n",
    "        shape = np.shape(ignitions)[:2]+(t_k,)\n",
    "        ignitions = np.concatenate((ignitions, np.zeros(shape)), axis=2)\n",
    "        ignitions = ignitions[:,:,t_k:]\n",
    "\n",
    "        cube = weather.WeatherCube('num_ig_target', ignitions, None, dates=Y_detection_c.dates)\n",
    "        region[t_k].add_cube(cube)\n",
    "        \n",
    "        # Test baselines\n",
    "        #results = evm.evaluate_model(only_zero_model(), X_active_df[t_k-1], X_ignition_c, Y_detection_c, t_k)\n",
    "        #results_all['Only_Zero'].append(results)\n",
    "        \n",
    "        results = evm.evaluate_model(only_bias_model(), X_active_df[t_k-1], Y_detection_c, Y_detection_c, t_k)\n",
    "        results_all['Only_Bias'].append(results)\n",
    "        \n",
    "        # Test model with different covariates\n",
    "        print 'T_k=%d' % t_k\n",
    "        for name,cov in [('None', []), ('Temp/Humid', ['temperature', 'humidity']), ('All', ['temperature','humidity','wind','rain'])]:\n",
    "            results = evm.evaluate_model(model_func(cov), X_active_df[t_k-1], region[t_k], Y_detection_c, t_k)\n",
    "            results_all[name].append(results)\n",
    "    \n",
    "    return results_all"
   ]
  },
  {
   "cell_type": "code",
   "execution_count": null,
   "metadata": {
    "collapsed": true
   },
   "outputs": [],
   "source": [
    "def plot_predictions(result,title):\n",
    "    fig = plt.figure()\n",
    "    fig.suptitle(title)\n",
    "    ax = plt.subplot(121)\n",
    "    a = np.array(result[0].flatten())\n",
    "    b = np.array(result[1].flatten())\n",
    "    \n",
    "    print a.shape, b.shape\n",
    "    ax.plot(a, b, 'o', markeredgecolor='none', markersize=2)\n",
    "    plt.title('Predicted vs. Actual Counts')\n",
    "    plt.xlabel('Actual Counts')\n",
    "    plt.ylabel('Predicted Counts')\n",
    "    plt.plot(xrange(int(np.max(result[0]))),xrange(int(np.max(result[0]))), 'r')\n",
    "    \n",
    "    ax = plt.subplot(122)\n",
    "    plt.plot(np.log(a+1), np.log(b+1), 'o', markeredgecolor='none', markersize=2)\n",
    "    plt.title('Predicted vs. Actual Counts (log+1)')\n",
    "    plt.xlabel('Actual Counts')\n",
    "    plt.ylabel('Predicted Counts')\n",
    "    plt.plot([0, np.max(np.log(a+1))],[0, np.max(np.log(a+1))], 'r')"
   ]
  },
  {
   "cell_type": "code",
   "execution_count": null,
   "metadata": {
    "collapsed": true
   },
   "outputs": [],
   "source": [
    "region = {}\n",
    "for t_k in [1]: #T_K_ARR:\n",
    "    vals = defaultdict(list)\n",
    "    for date in Y_detection_c.dates:\n",
    "        time = 14\n",
    "        date += du.INC_ONE_DAY * t_k # For row t, store weather(t+k)\n",
    "        target_datetime = dt.datetime.combine(date, dt.time(time, 0, 0, tzinfo=du.TrulyLocalTzInfo(153, du.round_to_nearest_quarter_hour)))\n",
    "\n",
    "        get_weather_variables(vals, weather_proc_region, target_datetime, ['temperature','humidity','wind','rain'])\n",
    "\n",
    "    region[t_k] = weather.WeatherRegion('ignition')\n",
    "    for k,v in vals.iteritems():\n",
    "        vals[k] = np.rollaxis(np.array(v), 0, 3)  \n",
    "        cube = weather.WeatherCube(k, vals[k], None, dates=Y_detection_c.dates)\n",
    "        region[t_k].add_cube(cube)"
   ]
  },
  {
   "cell_type": "code",
   "execution_count": null,
   "metadata": {
    "collapsed": true
   },
   "outputs": [],
   "source": [
    "results_no_ig = test_model(no_ignition_model_poisson)"
   ]
  },
  {
   "cell_type": "code",
   "execution_count": null,
   "metadata": {
    "collapsed": true
   },
   "outputs": [],
   "source": [
    "plt.rcParams['figure.figsize'] = [15, 6]\n",
    "plot_predictions(results_no_ig['All'][0], 'Poisson Regression (k=1)')"
   ]
  },
  {
   "cell_type": "code",
   "execution_count": null,
   "metadata": {
    "collapsed": true
   },
   "outputs": [],
   "source": [
    "plt.rcParams['figure.figsize'] = [15,6]\n",
    "plot_predictions(results_no_ig_qr['All'][0], 'Quantile Regression (q=.5, k=1)')"
   ]
  },
  {
   "cell_type": "code",
   "execution_count": null,
   "metadata": {
    "collapsed": true
   },
   "outputs": [],
   "source": [
    "results_no_ig_qr = test_model(no_ignition_model_quantile)"
   ]
  },
  {
   "cell_type": "code",
   "execution_count": null,
   "metadata": {
    "collapsed": true
   },
   "outputs": [],
   "source": [
    "results_no_ig_qr_9 = test_model(lambda x: no_ignition_model_quantile(x,.9))"
   ]
  },
  {
   "cell_type": "code",
   "execution_count": null,
   "metadata": {
    "collapsed": true
   },
   "outputs": [],
   "source": [
    "results_no_ig_qr2 = dict(results_no_ig_qr)\n",
    "del results_no_ig_qr2['Only_Bias']"
   ]
  },
  {
   "cell_type": "code",
   "execution_count": null,
   "metadata": {
    "collapsed": true
   },
   "outputs": [],
   "source": [
    "results_ig_bias = test_model(bias_model_poisson)"
   ]
  },
  {
   "cell_type": "code",
   "execution_count": null,
   "metadata": {
    "collapsed": true
   },
   "outputs": [],
   "source": [
    "results_ig_bias_lr = test_model(bias_model_linear)"
   ]
  },
  {
   "cell_type": "code",
   "execution_count": null,
   "metadata": {
    "collapsed": true
   },
   "outputs": [],
   "source": [
    "results_ig_weather = test_model2(bias_weather_model_poisson)"
   ]
  },
  {
   "cell_type": "code",
   "execution_count": null,
   "metadata": {
    "collapsed": true
   },
   "outputs": [],
   "source": [
    "plt.rcParams['figure.figsize'] = [15,10]\n",
    "plot_results_grid([(results_no_ig, 'Poisson (No Ign.)'), (results_no_ig_qr, 'Quantile (q=.5, No Ign.)')])"
   ]
  },
  {
   "cell_type": "code",
   "execution_count": null,
   "metadata": {
    "collapsed": true
   },
   "outputs": [],
   "source": [
    "plot_results_grid([(results_no_ig, 'Poisson (No Ign.)'), (results_no_ig_qr2, 'Quantile (q=.5, No Ign.)')])"
   ]
  },
  {
   "cell_type": "code",
   "execution_count": null,
   "metadata": {
    "collapsed": true
   },
   "outputs": [],
   "source": [
    "plot_results_grid([(results_no_ig, 'Poisson (No Ign.)'), (results_no_ig_qr_9, 'Quantile (q=.9, No Ign.)')])"
   ]
  },
  {
   "cell_type": "code",
   "execution_count": null,
   "metadata": {
    "collapsed": true
   },
   "outputs": [],
   "source": [
    "plt.rcParams['figure.figsize'] = [15,10]\n",
    "plot_results_grid([(results_no_ig, 'Poisson (No Ign.)'), (results_ig_bias, 'Poisson (Ign. Bias)')])"
   ]
  },
  {
   "cell_type": "code",
   "execution_count": null,
   "metadata": {
    "collapsed": true
   },
   "outputs": [],
   "source": [
    "plt.rcParams['figure.figsize'] = [15,10]\n",
    "plot_results_grid([(results_ig_bias, 'Poisson (Ign. Bias)'), (results_ig_weather, 'Poisson (Ign. Weather)')])"
   ]
  },
  {
   "cell_type": "code",
   "execution_count": null,
   "metadata": {
    "collapsed": true
   },
   "outputs": [],
   "source": [
    "plt.rcParams['figure.figsize'] = [15,10]\n",
    "plot_results_grid([(results_ig_bias, 'Poisson (Ign. Bias)'), (results_ig_bias_lr, 'Linear (Ign. Bias)')])"
   ]
  },
  {
   "cell_type": "code",
   "execution_count": null,
   "metadata": {
    "collapsed": true
   },
   "outputs": [],
   "source": [
    "print_results_table([(results_no_ig, 'Poisson (No Ign.)'), (results_ig_bias, 'Poisson (Ign. Bias)')])"
   ]
  },
  {
   "cell_type": "code",
   "execution_count": null,
   "metadata": {
    "collapsed": true
   },
   "outputs": [],
   "source": [
    "def map_grid(values, titles, fixed_minmax=False):\n",
    "    values,titles = np.array(values), np.array(titles)\n",
    "    shape = np.shape(values)\n",
    "    \n",
    "    fig = plt.figure()\n",
    "    grid_spacing = [2,.5,4,.5]\n",
    "    \n",
    "    gmin,gmax = np.inf,-np.inf\n",
    "    if fixed_minmax:\n",
    "        for i in range(shape[0]):\n",
    "            for j in range(shape[1]):\n",
    "                lmin,lmax = np.min(values[i,j]),np.max(values[i,j])\n",
    "                gmin = gmin if gmin <= lmin else lmin\n",
    "                gmax = gmax if gmax >= lmax else lmax\n",
    "    \n",
    "    for i in range(shape[0]):\n",
    "        for j in range(shape[1]):\n",
    "            t,v = titles[i,j], values[i,j]\n",
    "            ax = fig.add_subplot(shape[0],shape[1],(i*shape[1])+j+1)\n",
    "            ax.set_title(t)\n",
    "            \n",
    "            if fixed_minmax:\n",
    "                vmin,vmax = gmin,gmax\n",
    "            else:\n",
    "                vmin,vmax = None,None\n",
    "            vmap.make_contourf(vmap.make_map(BB, grid_spacing), v, BB, vmin=vmin, vmax=vmax)\n",
    "BB = geo.LatLonBoundingBox(55, 71, -165, -138)"
   ]
  },
  {
   "cell_type": "code",
   "execution_count": null,
   "metadata": {
    "collapsed": true
   },
   "outputs": [],
   "source": [
    "BB = geo.LatLonBoundingBox(55, 71, -165, -138)\n",
    "plt.rcParams['figure.figsize'] = [15,10]\n",
    "\n",
    "titles = [\n",
    "    ['Mean activity per cell', 'MAE (BM_All(k=1))']\n",
    "]\n",
    "\n",
    "values = [\n",
    "    [np.mean(Y_detection_c.values, axis=2), metrics.mean_absolute_error(*(results['All'][0]), axis=2)]\n",
    "]\n",
    "map_grid(values, titles, fixed_minmax=True)"
   ]
  },
  {
   "cell_type": "code",
   "execution_count": null,
   "metadata": {
    "collapsed": true
   },
   "outputs": [],
   "source": [
    "plt.rcParams['figure.figsize'] = [15,20]\n",
    "\n",
    "titles = [\n",
    "    ['MAE (BM_All(k=2 minus k=1)', 'MAE (BM_All(k=3 minus k=1)'],\n",
    "    ['MAE (BM_All(k=4 minus k=1)', 'MAE (BM_All(k=5 minus k=1)']\n",
    "]\n",
    "\n",
    "k_1 = metrics.mean_absolute_error(*(results['All'][0]), axis=2)\n",
    "k_2 = metrics.mean_absolute_error(*(results['All'][1]), axis=2)\n",
    "k_3 = metrics.mean_absolute_error(*(results['All'][2]), axis=2)\n",
    "k_4 = metrics.mean_absolute_error(*(results['All'][3]), axis=2)\n",
    "k_5 = metrics.mean_absolute_error(*(results['All'][4]), axis=2)\n",
    "\n",
    "values = [\n",
    "    [k_2-k_1, k_3-k_1],\n",
    "    [k_4-k_1, k_5-k_1]\n",
    "]\n",
    "map_grid(values, titles, fixed_minmax=True)"
   ]
  },
  {
   "cell_type": "code",
   "execution_count": null,
   "metadata": {
    "collapsed": true
   },
   "outputs": [],
   "source": [
    "plt.rcParams['figure.figsize'] = [15,10]\n",
    "\n",
    "titles = [\n",
    "    ['MAE (BM_All(k=1)', 'MAE (BM_None(k=1)']\n",
    "]\n",
    "\n",
    "values = [\n",
    "    [metrics.mean_absolute_error(*(results['All'][0]), axis=2), metrics.mean_absolute_error(*(results['None'][0]), axis=2)]\n",
    "]\n",
    "map_grid(values, titles)"
   ]
  },
  {
   "cell_type": "code",
   "execution_count": null,
   "metadata": {
    "collapsed": true
   },
   "outputs": [],
   "source": [
    "plt.rcParams['figure.figsize'] = [15,20]\n",
    "\n",
    "titles = [\n",
    "    ['MAE (BM_None(k=1) minus BM_All(k=1))', 'MAE (BM_TempHumid(k=1) minus BM_All(k=1))']\n",
    "]\n",
    "\n",
    "bm_all_k_1 = metrics.mean_absolute_error(*(results['All'][0]), axis=2)\n",
    "bm_tg_k_1 = metrics.mean_absolute_error(*(results['Temp/Humid'][1]), axis=2)\n",
    "bm_none_k_1 = metrics.mean_absolute_error(*(results['None'][1]), axis=2)\n",
    "\n",
    "values = [\n",
    "    [bm_none_k_1-bm_all_k_1, bm_tg_k_1-bm_all_k_1]\n",
    "]\n",
    "map_grid(values, titles, fixed_minmax=True)"
   ]
  },
  {
   "cell_type": "code",
   "execution_count": null,
   "metadata": {
    "collapsed": true
   },
   "outputs": [],
   "source": [
    "plt.rcParams['figure.figsize'] = [15,10]\n",
    "values = metrics.mean_absolute_error(*(results['Only_Bias'][0]), axis=2)\n",
    "vmap.make_contourf(vmap.make_map(BB, grid_spacing), values, BB)"
   ]
  },
  {
   "cell_type": "code",
   "execution_count": null,
   "metadata": {
    "collapsed": true
   },
   "outputs": [],
   "source": [
    "plt.rcParams['figure.figsize'] = [15,10]\n",
    "\n",
    "titles = [\n",
    "    ['MAE (BM_All(k=1) Central', 'MAE (BM_None(k=1) Central']\n",
    "]\n",
    "\n",
    "values = [\n",
    "    [metrics.mean_absolute_error(*(results['All'][0]), axis=2)-np.mean(Y_detection_c.values, axis=2),\n",
    "     metrics.mean_absolute_error(*(results['None'][0]), axis=2)-np.mean(Y_detection_c.values, axis=2)]\n",
    "]\n",
    "map_grid(values, titles, fixed_minmax=True)"
   ]
  },
  {
   "cell_type": "code",
   "execution_count": null,
   "metadata": {
    "collapsed": true
   },
   "outputs": [],
   "source": [
    "plt.rcParams['figure.figsize'] = [15,10]\n",
    "\n",
    "titles = [\n",
    "    ['MAE (BM_All(k=1) Central', 'MAE (BM_None(k=1) Central']\n",
    "]\n",
    "\n",
    "values = [\n",
    "    [metrics.mean_absolute_error(*(results['All'][0]), axis=2)/(np.mean(Y_detection_c.values, axis=2)+.0001),\n",
    "     metrics.mean_absolute_error(*(results['None'][0]), axis=2)/(np.mean(Y_detection_c.values, axis=2)+.0001)]\n",
    "]\n",
    "map_grid(values, titles, fixed_minmax=True)"
   ]
  },
  {
   "cell_type": "code",
   "execution_count": null,
   "metadata": {
    "collapsed": true
   },
   "outputs": [],
   "source": []
  },
  {
   "cell_type": "code",
   "execution_count": null,
   "metadata": {
    "collapsed": true
   },
   "outputs": [],
   "source": []
  },
  {
   "cell_type": "code",
   "execution_count": null,
   "metadata": {
    "collapsed": true
   },
   "outputs": [],
   "source": []
  },
  {
   "cell_type": "code",
   "execution_count": null,
   "metadata": {
    "collapsed": true
   },
   "outputs": [],
   "source": []
  },
  {
   "cell_type": "code",
   "execution_count": null,
   "metadata": {
    "collapsed": true
   },
   "outputs": [],
   "source": []
  }
 ],
 "metadata": {
  "kernelspec": {
   "display_name": "Python 2",
   "language": "python",
   "name": "python2"
  },
  "language_info": {
   "codemirror_mode": {
    "name": "ipython",
    "version": 2
   },
   "file_extension": ".py",
   "mimetype": "text/x-python",
   "name": "python",
   "nbconvert_exporter": "python",
   "pygments_lexer": "ipython2",
   "version": "2.7.5"
  }
 },
 "nbformat": 4,
 "nbformat_minor": 2
}
