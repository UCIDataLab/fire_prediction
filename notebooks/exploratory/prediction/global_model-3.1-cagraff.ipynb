{
 "cells": [
  {
   "cell_type": "markdown",
   "metadata": {},
   "source": [
    "# Global Model Testing (v3.1)\n",
    "\n",
    "Casey A Graff\n",
    "\n",
    "November 30th, 2017\n",
    "\n",
    "Now using updated model evaluation pipeline."
   ]
  },
  {
   "cell_type": "code",
   "execution_count": null,
   "metadata": {},
   "outputs": [],
   "source": [
    "# === IMPORTS ===\n",
    "\n",
    "REP_DIR = \"/home/cagraff/Documents/dev/fire_prediction/\"\n",
    "SRC_DIR = REP_DIR + 'src/'\n",
    "DATA_DIR = REP_DIR + 'data/'\n",
    "\n",
    "# --- System imports\n",
    "import os\n",
    "import numpy as np\n",
    "from matplotlib import pyplot as plt\n",
    "from collections import defaultdict\n",
    "\n",
    "# --- Package imports\n",
    "os.chdir(SRC_DIR)\n",
    "import evaluation.metrics as metrics\n",
    "import evaluation.evaluate_model as evm\n",
    "import visualization.mapping as vmap\n",
    "import visualization.stats as vstat\n",
    "\n",
    "import helper.geometry as geo\n",
    "\n",
    "from models import linear_regression as lr\n",
    "from models import poisson_regression as pr\n",
    "from models import grid_predictor as gp\n",
    "from models import bias_grid as bg\n",
    "from models import active_ignition_grid as aig\n",
    "\n",
    "\n",
    "# Setup mpl\n",
    "plt.rcParams['figure.figsize'] = [7,5]\n",
    "%matplotlib inline"
   ]
  },
  {
   "cell_type": "code",
   "execution_count": null,
   "metadata": {},
   "outputs": [],
   "source": [
    "# === DATA LOADING ===\n",
    "\n",
    "T_K_MAX = 5\n",
    "T_K_ARR = np.arange(1,T_K_MAX+1)\n",
    "\n",
    "# --- Data files\n",
    "ignition_cube_src = os.path.join(DATA_DIR, 'interim/modis/fire_cube/fire_ignition_cube_modis_alaska_2007-2016.pkl')\n",
    "detection_cube_src = os.path.join(DATA_DIR, 'interim/modis/fire_cube/fire_detection_cube_modis_alaska_2007-2016.pkl')\n",
    "\n",
    "integrated_cluster_df_fmt = 'interim/integrated/fire_weather/fire_weather_integrated_gfs_4_modis_5km_10days_1400_%dk_alaska_2007-2016.pkl'\n",
    "integrated_cluster_df_src_list = map(lambda k: os.path.join(DATA_DIR, integrated_cluster_df_fmt % k), T_K_ARR)\n",
    "\n",
    "# --- Load data\n",
    "X_ignition_c, Y_detection_c = evm.setup_ignition_data(ignition_cube_src, detection_cube_src)\n",
    "\n",
    "X_active_df = []\n",
    "for f_src in integrated_cluster_df_src_list:\n",
    "    X_active_df.append(evm.setup_active_fire_data(f_src))"
   ]
  },
  {
   "cell_type": "code",
   "execution_count": null,
   "metadata": {},
   "outputs": [],
   "source": [
    "def no_ignition_model_poisson(covariates):\n",
    "    afm = gp.GridPredictorModel(pr.PoissonRegressionModel(covariates))\n",
    "    model = aig.ActiveIgnitionGridModel(afm, None)\n",
    "    \n",
    "    return model\n",
    "\n",
    "def bias_model_poisson(covariates):\n",
    "    afm = gp.GridPredictorModel(pr.PoissonRegressionModel(covariates))\n",
    "    igm = bg.BiasGridModel()\n",
    "    model = aig.ActiveIgnitionGridModel(afm, igm)\n",
    "    \n",
    "    return model\n",
    "\n",
    "def bias_model_linear(covariates):\n",
    "    afm = gp.GridPredictorModel(lr.LinearRegressionModel(covariates))\n",
    "    igm = bg.BiasGridModel()\n",
    "    model = aig.ActiveIgnitionGridModel(afm, igm)\n",
    "    \n",
    "    return model\n",
    "\n",
    "def only_bias_model():\n",
    "    igm = bg.BiasGridModel()\n",
    "    model = aig.ActiveIgnitionGridModel(None, igm)\n",
    "    \n",
    "    return model\n",
    "\n",
    "def only_zero_model():\n",
    "    model = aig.ActiveIgnitionGridModel(None, None)\n",
    "    \n",
    "    return model"
   ]
  },
  {
   "cell_type": "code",
   "execution_count": null,
   "metadata": {},
   "outputs": [],
   "source": [
    "def test_model(model_func):\n",
    "    results_all = defaultdict(list)\n",
    "    for t_k in T_K_ARR:\n",
    "        results_k = {}\n",
    "        \n",
    "        # Test baselines\n",
    "        #results = evm.evaluate_model(only_zero_model(), X_active_df[t_k-1], X_ignition_c, Y_detection_c, t_k)\n",
    "        #results_all['Only_Zero'].append(results)\n",
    "        \n",
    "        results = evm.evaluate_model(only_bias_model(), X_active_df[t_k-1], Y_detection_c, Y_detection_c, t_k)\n",
    "        results_all['Only_Bias'].append(results)\n",
    "        \n",
    "        # Test model with different covariates\n",
    "        print 'T_k=%d' % t_k\n",
    "        for name,cov in [('None', []), ('Temp/Humid', ['temperature', 'humidity']), ('All', ['temperature','humidity','wind','rain'])]:\n",
    "            results = evm.evaluate_model(model_func(cov), X_active_df[t_k-1], X_ignition_c, Y_detection_c, t_k)\n",
    "            results_all[name].append(results)\n",
    "    \n",
    "    return results_all\n",
    "\n",
    "def flat(x):\n",
    "    return map(lambda x: x.flatten(), x)\n",
    "\n",
    "def plot_results(results):\n",
    "    for metric in [metrics.mean_absolute_error, metrics.root_mean_squared_error]:\n",
    "        for k,v in results.iteritems():\n",
    "            plt.plot(T_K_ARR, map(lambda x: metric(*flat(x)), results[k]), \"s--\", label=k, linewidth=2)\n",
    "        lgd = plt.legend(bbox_to_anchor=(1.05, 1), loc=2, borderaxespad=0.)\n",
    "        plt.xlabel(\"Day of forecast (k)\")\n",
    "        plt.xticks(T_K_ARR)\n",
    "        plt.ylabel(metric.__name__)\n",
    "        plt.show()"
   ]
  },
  {
   "cell_type": "code",
   "execution_count": null,
   "metadata": {},
   "outputs": [],
   "source": [
    "plt.rcParams['figure.figsize'] = [7,5]\n",
    "\n",
    "results = test_model(no_ignition_model_poisson)\n",
    "plot_results(results)"
   ]
  },
  {
   "cell_type": "code",
   "execution_count": null,
   "metadata": {},
   "outputs": [],
   "source": [
    "results = test_model(bias_model_poisson)\n",
    "plot_results(results)"
   ]
  },
  {
   "cell_type": "code",
   "execution_count": null,
   "metadata": {},
   "outputs": [],
   "source": [
    "results = test_model(bias_model_linear)\n",
    "plot_results(results)"
   ]
  },
  {
   "cell_type": "code",
   "execution_count": null,
   "metadata": {},
   "outputs": [],
   "source": [
    "def map_grid(values, titles, fixed_minmax=False):\n",
    "    values,titles = np.array(values), np.array(titles)\n",
    "    shape = np.shape(values)\n",
    "    \n",
    "    fig = plt.figure()\n",
    "    grid_spacing = [2,.5,4,.5]\n",
    "    \n",
    "    gmin,gmax = np.inf,-np.inf\n",
    "    if fixed_minmax:\n",
    "        for i in range(shape[0]):\n",
    "            for j in range(shape[1]):\n",
    "                lmin,lmax = np.min(values[i,j]),np.max(values[i,j])\n",
    "                gmin = gmin if gmin <= lmin else lmin\n",
    "                gmax = gmax if gmax >= lmax else lmax\n",
    "    \n",
    "    for i in range(shape[0]):\n",
    "        for j in range(shape[1]):\n",
    "            t,v = titles[i,j], values[i,j]\n",
    "            ax = fig.add_subplot(shape[0],shape[1],(i*shape[1])+j+1)\n",
    "            ax.set_title(t)\n",
    "            \n",
    "            if fixed_minmax:\n",
    "                vmin,vmax = gmin,gmax\n",
    "            else:\n",
    "                vmin,vmax = None,None\n",
    "            vmap.make_contourf(vmap.make_map(BB, grid_spacing), v, BB, vmin=vmin, vmax=vmax)"
   ]
  },
  {
   "cell_type": "code",
   "execution_count": null,
   "metadata": {},
   "outputs": [],
   "source": [
    "BB = geo.LatLonBoundingBox(55, 71, -165, -138)\n",
    "plt.rcParams['figure.figsize'] = [15,10]\n",
    "\n",
    "titles = [\n",
    "    ['Mean activity per cell', 'MAE (BM_All(k=1))']\n",
    "]\n",
    "\n",
    "values = [\n",
    "    [np.mean(Y_detection_c.values, axis=2), metrics.mean_absolute_error(*(results['All'][0]), axis=2)]\n",
    "]\n",
    "map_grid(values, titles, fixed_minmax=True)"
   ]
  },
  {
   "cell_type": "code",
   "execution_count": null,
   "metadata": {},
   "outputs": [],
   "source": [
    "plt.rcParams['figure.figsize'] = [15,20]\n",
    "\n",
    "titles = [\n",
    "    ['MAE (BM_All(k=2 minus k=1)', 'MAE (BM_All(k=3 minus k=1)'],\n",
    "    ['MAE (BM_All(k=4 minus k=1)', 'MAE (BM_All(k=5 minus k=1)']\n",
    "]\n",
    "\n",
    "k_1 = metrics.mean_absolute_error(*(results['All'][0]), axis=2)\n",
    "k_2 = metrics.mean_absolute_error(*(results['All'][1]), axis=2)\n",
    "k_3 = metrics.mean_absolute_error(*(results['All'][2]), axis=2)\n",
    "k_4 = metrics.mean_absolute_error(*(results['All'][3]), axis=2)\n",
    "k_5 = metrics.mean_absolute_error(*(results['All'][4]), axis=2)\n",
    "\n",
    "values = [\n",
    "    [k_2-k_1, k_3-k_1],\n",
    "    [k_4-k_1, k_5-k_1]\n",
    "]\n",
    "map_grid(values, titles, fixed_minmax=True)"
   ]
  },
  {
   "cell_type": "code",
   "execution_count": null,
   "metadata": {},
   "outputs": [],
   "source": [
    "plt.rcParams['figure.figsize'] = [15,10]\n",
    "\n",
    "titles = [\n",
    "    ['MAE (BM_All(k=1)', 'MAE (BM_None(k=1)']\n",
    "]\n",
    "\n",
    "k_1 = metrics.mean_absolute_error(*(results['All'][0]), axis=2)\n",
    "k_2 = metrics.mean_absolute_error(*(results['All'][1]), axis=2)\n",
    "\n",
    "values = [\n",
    "    [metrics.mean_absolute_error(*(results['All'][0]), axis=2), metrics.mean_absolute_error(*(results['None'][0]), axis=2)]\n",
    "]\n",
    "map_grid(values, titles)"
   ]
  },
  {
   "cell_type": "code",
   "execution_count": null,
   "metadata": {},
   "outputs": [],
   "source": [
    "plt.rcParams['figure.figsize'] = [15,20]\n",
    "\n",
    "titles = [\n",
    "    ['MAE (BM_None(k=1) minus BM_All(k=1))', 'MAE (BM_TempHumid(k=1) minus BM_All(k=1))']\n",
    "]\n",
    "\n",
    "bm_all_k_1 = metrics.mean_absolute_error(*(results['All'][0]), axis=2)\n",
    "bm_tg_k_1 = metrics.mean_absolute_error(*(results['Temp/Humid'][1]), axis=2)\n",
    "bm_none_k_1 = metrics.mean_absolute_error(*(results['None'][1]), axis=2)\n",
    "\n",
    "values = [\n",
    "    [bm_none_k_1-bm_all_k_1, bm_tg_k_1-bm_all_k_1]\n",
    "]\n",
    "map_grid(values, titles, fixed_minmax=True)"
   ]
  },
  {
   "cell_type": "code",
   "execution_count": null,
   "metadata": {},
   "outputs": [],
   "source": [
    "plt.rcParams['figure.figsize'] = [15,10]\n",
    "values = metrics.mean_absolute_error(*(results['Only_Bias'][0]), axis=2)\n",
    "vmap.make_contourf(vmap.make_map(BB, grid_spacing), values, BB)"
   ]
  },
  {
   "cell_type": "code",
   "execution_count": null,
   "metadata": {},
   "outputs": [],
   "source": []
  },
  {
   "cell_type": "code",
   "execution_count": null,
   "metadata": {},
   "outputs": [],
   "source": []
  }
 ],
 "metadata": {
  "language_info": {
   "name": "python",
   "pygments_lexer": "ipython3"
  }
 },
 "nbformat": 4,
 "nbformat_minor": 2
}
