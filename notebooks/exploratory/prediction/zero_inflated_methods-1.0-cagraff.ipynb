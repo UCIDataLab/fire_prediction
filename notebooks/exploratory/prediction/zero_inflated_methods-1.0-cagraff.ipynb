{
 "cells": [
  {
   "cell_type": "code",
   "execution_count": 134,
   "metadata": {},
   "outputs": [],
   "source": [
    "from __future__ import division\n",
    "\n",
    "from matplotlib import  pyplot as plt\n",
    "import numpy as np\n",
    "from scipy import stats\n",
    "import seaborn as sns\n",
    "from statsmodels.base.model import GenericLikelihoodModel\n",
    "from statsmodels.discrete.count_model import ZeroInflatedPoisson, ZeroInflatedNegativeBinomialP, ZeroInflatedGeneralizedPoisson, Poisson, NegativeBinomialP\n",
    "%matplotlib inline\n",
    "\n",
    "np.random.seed(123456789)"
   ]
  },
  {
   "cell_type": "code",
   "execution_count": 184,
   "metadata": {
    "collapsed": true
   },
   "outputs": [],
   "source": [
    "pi = 0.3\n",
    "lambda_ = 2.\n",
    "N = 10000\n",
    "\n",
    "inflated_zero = stats.bernoulli.rvs(pi, size=N)\n",
    "x = (1 - inflated_zero) * stats.poisson.rvs(lambda_, size=N)"
   ]
  },
  {
   "cell_type": "code",
   "execution_count": 72,
   "metadata": {
    "collapsed": true
   },
   "outputs": [],
   "source": [
    "class MyPoisson(GenericLikelihoodModel):\n",
    "    def __init__(self, endog, exog=None, **kwds):\n",
    "        if exog is None:\n",
    "            exog = np.zeros_like(endog)\n",
    "            \n",
    "        super(MyPoisson, self).__init__(endog, exog, **kwds)\n",
    "    \n",
    "    def nloglikeobs(self, params):\n",
    "        lambda_ = params[0]\n",
    "\n",
    "        return -np.log(stats.poisson.pmf(self.endog, lambda_))\n",
    "    \n",
    "    def fit(self, start_params=None, maxiter=10000, maxfun=5000, **kwds):\n",
    "        if start_params is None:\n",
    "            lambda_start = self.endog.mean()\n",
    "            \n",
    "            start_params = np.array([lambda_start])\n",
    "            \n",
    "        return super(MyPoisson, self).fit(start_params=start_params,\n",
    "                                                    maxiter=maxiter, maxfun=maxfun, **kwds)"
   ]
  },
  {
   "cell_type": "code",
   "execution_count": 156,
   "metadata": {},
   "outputs": [
    {
     "name": "stdout",
     "output_type": "stream",
     "text": [
      "Optimization terminated successfully.\n",
      "         Current function value: 1.681022\n",
      "         Iterations: 11\n",
      "         Function evaluations: 22\n",
      "1.3847\n"
     ]
    }
   ],
   "source": [
    "model = MyPoisson(x)\n",
    "results = model.fit()\n",
    "\n",
    "lambda_mle_p = results.params[0]\n",
    "print lambda_mle_p"
   ]
  },
  {
   "cell_type": "code",
   "execution_count": 170,
   "metadata": {},
   "outputs": [
    {
     "name": "stdout",
     "output_type": "stream",
     "text": [
      "Optimization terminated successfully.\n",
      "         Current function value: 1.576974\n",
      "         Iterations: 7\n",
      "         Function evaluations: 8\n",
      "         Gradient evaluations: 8\n",
      "[-0.84428527  0.68306207]\n"
     ]
    }
   ],
   "source": [
    "model = ZeroInflatedPoisson(x, np.ones((len(x),1)), np.ones((len(x), 1)) )\n",
    "results = model.fit()\n",
    "\n",
    "print results.params"
   ]
  },
  {
   "cell_type": "code",
   "execution_count": 177,
   "metadata": {},
   "outputs": [
    {
     "name": "stdout",
     "output_type": "stream",
     "text": [
      "0.3006330249115034\n",
      "1.9799311472784147\n"
     ]
    }
   ],
   "source": [
    "x = -.84428527\n",
    "lam = .68306207\n",
    "print 1/(1+np.exp(-x))\n",
    "print np.exp(lam)"
   ]
  },
  {
   "cell_type": "code",
   "execution_count": 191,
   "metadata": {
    "collapsed": true
   },
   "outputs": [],
   "source": [
    "def zip_pmf(x, pi=pi, lambda_=lambda_):\n",
    "    if pi < 0 or pi > 1 or lambda_ <= 0:\n",
    "        return np.zeros_like(x)\n",
    "    else:\n",
    "        return (x == 0) * pi + (1 - pi) * stats.poisson.pmf(x, lambda_)"
   ]
  },
  {
   "cell_type": "code",
   "execution_count": 192,
   "metadata": {
    "collapsed": true
   },
   "outputs": [],
   "source": [
    "class MyZeroInflatedPoisson(GenericLikelihoodModel):\n",
    "    def __init__(self, endog, exog=None, **kwds):\n",
    "        if exog is None:\n",
    "            exog = np.zeros_like(endog)\n",
    "            \n",
    "        super(MyZeroInflatedPoisson, self).__init__(endog, exog, **kwds)\n",
    "    \n",
    "    def nloglikeobs(self, params):\n",
    "        pi, lambda_ = params\n",
    "\n",
    "        return -np.log(zip_pmf(self.endog, pi=pi, lambda_=lambda_))\n",
    "    \n",
    "    def fit(self, start_params=None, maxiter=10000, maxfun=5000, **kwds):\n",
    "        if start_params is None:\n",
    "            lambda_start = self.endog.mean()\n",
    "            excess_zeros = (self.endog == 0).mean() - stats.poisson.pmf(0, lambda_start)\n",
    "            \n",
    "            start_params = np.array([excess_zeros, lambda_start])\n",
    "            \n",
    "        return super(MyZeroInflatedPoisson, self).fit(start_params=start_params,\n",
    "                                                    maxiter=maxiter, maxfun=maxfun, **kwds)\n",
    "    def predict(self, params, exog=None):\n",
    "        pi, lambda_ = params\n",
    "        return np.repeat((1-pi)*lambda_, len(exog))"
   ]
  },
  {
   "cell_type": "code",
   "execution_count": 193,
   "metadata": {},
   "outputs": [
    {
     "name": "stdout",
     "output_type": "stream",
     "text": [
      "Optimization terminated successfully.\n",
      "         Current function value: 1.586895\n",
      "         Iterations: 38\n",
      "         Function evaluations: 75\n",
      "0.3099178135400755 2.018405093738763\n"
     ]
    }
   ],
   "source": [
    "model = MyZeroInflatedPoisson(x)\n",
    "results = model.fit()\n",
    "\n",
    "pi_mle_zip, lambda_mle_zip = results.params\n",
    "print pi_mle_zip, lambda_mle_zip"
   ]
  },
  {
   "cell_type": "code",
   "execution_count": 202,
   "metadata": {},
   "outputs": [],
   "source": [
    "def zip_hurdle_pmf(x, pi=pi, lambda_=lambda_):\n",
    "    if pi < 0 or pi > 1 or lambda_ <= 0:\n",
    "        return np.zeros_like(x)\n",
    "    else:\n",
    "        zero_part = (x == 0) * stats.bernoulli.pmf(0, 1-pi)\n",
    "        positive_part = (x > 0) * (1 - stats.bernoulli.pmf(0, 1-pi))/(1 - stats.poisson.pmf(0, lambda_)) * stats.poisson.pmf(x, lambda_)\n",
    "        return zero_part + positive_part"
   ]
  },
  {
   "cell_type": "code",
   "execution_count": 203,
   "metadata": {
    "collapsed": true
   },
   "outputs": [],
   "source": [
    "class MyZeroInflatedPoissonHurdle(GenericLikelihoodModel):\n",
    "    def __init__(self, endog, exog=None, **kwds):\n",
    "        if exog is None:\n",
    "            exog = np.zeros_like(endog)\n",
    "            \n",
    "        super(MyZeroInflatedPoissonHurdle, self).__init__(endog, exog, **kwds)\n",
    "    \n",
    "    def nloglikeobs(self, params):\n",
    "        pi = params[0]\n",
    "        lambda_ = params[1]\n",
    "\n",
    "        return -np.log(zip_hurdle_pmf(self.endog, pi=pi, lambda_=lambda_))\n",
    "    \n",
    "    def fit(self, start_params=None, maxiter=10000, maxfun=5000, **kwds):\n",
    "        if start_params is None:\n",
    "            lambda_start = self.endog.mean()\n",
    "            excess_zeros = (self.endog == 0).mean() - stats.poisson.pmf(0, lambda_start)\n",
    "            \n",
    "            start_params = np.array([excess_zeros, lambda_start])\n",
    "            \n",
    "        return super(MyZeroInflatedPoissonHurdle, self).fit(start_params=start_params,\n",
    "                                                    maxiter=maxiter, maxfun=maxfun, **kwds)"
   ]
  },
  {
   "cell_type": "code",
   "execution_count": 204,
   "metadata": {},
   "outputs": [
    {
     "name": "stdout",
     "output_type": "stream",
     "text": [
      "Optimization terminated successfully.\n",
      "         Current function value: 1.586895\n",
      "         Iterations: 36\n",
      "         Function evaluations: 73\n",
      "0.4016059693643461 2.0184692369999357\n"
     ]
    }
   ],
   "source": [
    "model = MyZeroInflatedPoissonHurdle(x)\n",
    "results = model.fit()\n",
    "\n",
    "pi_mle_h, lambda_mle_h = results.params\n",
    "print pi_mle_h, lambda_mle_h"
   ]
  },
  {
   "cell_type": "code",
   "execution_count": 196,
   "metadata": {},
   "outputs": [
    {
     "data": {
      "text/plain": [
       "0.4016059693643461"
      ]
     },
     "execution_count": 196,
     "metadata": {},
     "output_type": "execute_result"
    }
   ],
   "source": [
    "zip_hurdle_pmf(0, pi_mle_h, 2.0)"
   ]
  },
  {
   "cell_type": "code",
   "execution_count": 98,
   "metadata": {},
   "outputs": [],
   "source": [
    "def plot_pmf(pmf, support, scale=1, linestyle='-', label=None):\n",
    "    lo,hi = support\n",
    "    r = np.arange(lo, hi+1)\n",
    "    plt.plot(r, pmf(r)*scale, linestyle=linestyle, label=label)"
   ]
  },
  {
   "cell_type": "code",
   "execution_count": 205,
   "metadata": {},
   "outputs": [
    {
     "data": {
      "text/plain": [
       "<matplotlib.legend.Legend at 0x8d9cd90>"
      ]
     },
     "execution_count": 205,
     "metadata": {},
     "output_type": "execute_result"
    },
    {
     "data": {
      "image/png": "[encoded data removed]",
      "text/plain": [
       "<matplotlib.figure.Figure at 0x68d2310>"
      ]
     },
     "metadata": {},
     "output_type": "display_data"
    }
   ],
   "source": [
    "plt.rcParams['figure.figsize'] = [15,7]\n",
    "plt.hist(x, bins=np.arange(len(set(x)))-.5, normed=True)\n",
    "plot_pmf(lambda x: stats.poisson.pmf(x, lambda_mle_p), (np.min(x),np.max(x)), label='Poisson')\n",
    "plot_pmf(lambda x: zip_pmf(x, pi=pi_mle_zip, lambda_=lambda_mle_zip), (np.min(x),np.max(x)), label='ZIP')\n",
    "plot_pmf(lambda x: zip_hurdle_pmf(x, pi=pi_mle_h, lambda_=lambda_mle_h), (np.min(x),np.max(x)), linestyle='--', label='Hurdle')\n",
    "plt.legend()"
   ]
  },
  {
   "cell_type": "code",
   "execution_count": 133,
   "metadata": {},
   "outputs": [
    {
     "data": {
      "text/plain": [
       "array([1.38470661, 1.38470661, 1.38470661, 1.38470661, 1.38470661])"
      ]
     },
     "execution_count": 133,
     "metadata": {},
     "output_type": "execute_result"
    }
   ],
   "source": [
    "results.predict(np.zeros(5))"
   ]
  },
  {
   "cell_type": "code",
   "execution_count": null,
   "metadata": {
    "collapsed": true
   },
   "outputs": [],
   "source": []
  }
 ],
 "metadata": {
  "kernelspec": {
   "display_name": "Python 2",
   "language": "python",
   "name": "python2"
  },
  "language_info": {
   "codemirror_mode": {
    "name": "ipython",
    "version": 2
   },
   "file_extension": ".py",
   "mimetype": "text/x-python",
   "name": "python",
   "nbconvert_exporter": "python",
   "pygments_lexer": "ipython2",
   "version": "2.7.5"
  }
 },
 "nbformat": 4,
 "nbformat_minor": 2
}
