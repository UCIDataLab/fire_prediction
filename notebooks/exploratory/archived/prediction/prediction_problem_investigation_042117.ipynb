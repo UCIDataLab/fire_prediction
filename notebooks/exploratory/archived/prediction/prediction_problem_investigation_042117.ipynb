{
 "cells": [
  {
   "cell_type": "code",
   "execution_count": null,
   "metadata": {},
   "outputs": [],
   "source": [
    "import os\n",
    "os.chdir(\"/Users/zbutler/research/fire_prediction\")\n",
    "from geometry.grid_conversion import get_latlon_xy_fxns, ak_bb\n",
    "from geometry.get_xys import append_xy\n",
    "from util.daymonth import day2monthday, monthday2day\n",
    "from prediction.fire_clustering import cluster_fires\n",
    "from metrics.fire_metrics import get_summary_stats, get_time_series\n",
    "import cPickle\n",
    "import numpy as np\n",
    "import pandas as pd\n",
    "import matplotlib.pyplot as plt\n",
    "from scipy.stats import pearsonr\n",
    "%matplotlib inline"
   ]
  },
  {
   "cell_type": "code",
   "execution_count": null,
   "metadata": {},
   "outputs": [],
   "source": [
    "# First load our bigass dataframe\n",
    "with open(\"data/ak_fires.pkl\") as fpkl:\n",
    "    modis = cPickle.load(fpkl)"
   ]
  },
  {
   "cell_type": "code",
   "execution_count": null,
   "metadata": {},
   "outputs": [],
   "source": [
    "# Now, make our nice data frame\n",
    "print \"%d modis fires\" %(len(modis))\n",
    "ak_fires = append_xy(modis, ak_bb)\n",
    "print \"%d ak fires\" %(len(ak_fires))\n",
    "with open('data/ak_fires.pkl','w') as fpkl:\n",
    "    cPickle.dump(ak_fires, fpkl, cPickle.HIGHEST_PROTOCOL)\n",
    "ak_fires_2015 = ak_fires[ak_fires.year == 2015]\n",
    "print \"%d ak 2015 fires\" %(len(ak_fires_2015))"
   ]
  },
  {
   "cell_type": "code",
   "execution_count": null,
   "metadata": {},
   "outputs": [],
   "source": [
    "# Try several clustering thresholds\n",
    "threshs = [1, 2, 5, 10, 20, 50, 100, 200]\n",
    "n_clusts = []\n",
    "for thresh in threshs:\n",
    "    n_fires, fires = cluster_fires(ak_fires_2015, thresh)\n",
    "    n_clusts.append(n_fires)\n",
    "    print \"Done with %d\" %thresh\n",
    "plt.scatter(threshs, n_clusts, c='r')\n",
    "plt.show()\n",
    "plt.close()"
   ]
  },
  {
   "cell_type": "code",
   "execution_count": null,
   "metadata": {},
   "outputs": [],
   "source": [
    "import metrics.fire_metrics as fm\n",
    "reload(fm)\n",
    "thresh = 5\n",
    "n_clusts, clusts = cluster_fires(ak_fires_2015, thresh)\n",
    "print \"%d fires\" %(n_clusts)\n",
    "summary_stat_dict = fm.get_summary_stats(ak_fires_2015, clusts, n_clusts)\n",
    "time_series = fm.get_time_series(ak_fires_2015, clusts, n_clusts, zero_centered=False)\n",
    "time_series_0_centered = fm.get_time_series(ak_fires_2015, clusts, n_clusts, zero_centered=True)"
   ]
  },
  {
   "cell_type": "code",
   "execution_count": null,
   "metadata": {},
   "outputs": [],
   "source": [
    "# Plots!\n",
    "plt.hist(summary_stat_dict['len'], bins=100)\n",
    "plt.title(\"histogram of fire sizes\")\n",
    "plt.show()\n",
    "\n",
    "plt.hist(np.log(summary_stat_dict['len'] + 1), bins=100)\n",
    "plt.title(\"Log histogram of fire sizes\")\n",
    "plt.show()\n",
    "\n",
    "plt.hist(summary_stat_dict['area'], bins=100)  # convert to km\n",
    "plt.title(\"Histogram of convex hull of fires\")\n",
    "plt.show()\n",
    "\n",
    "plt.hist(summary_stat_dict['dist_from_center'], bins=100) # convert to km\n",
    "plt.title(\"Histogram of mean distance from cluster center (in km)\")\n",
    "plt.show()\n",
    "\n",
    "plt.hist(summary_stat_dict['duration'], bins=100)\n",
    "plt.title(\"Histograms of fire duration\")\n",
    "plt.show()"
   ]
  },
  {
   "cell_type": "code",
   "execution_count": null,
   "metadata": {},
   "outputs": [],
   "source": [
    "# Time series\n",
    "for clust,series in enumerate(time_series):\n",
    "    plt.plot(series, np.zeros(len(series)) + clust, 'r.')\n",
    "plt.title(\"Time series (not zero centered)\")\n",
    "plt.show()\n",
    "plt.close()\n",
    "\n",
    "for clust,series in enumerate(time_series_0_centered):\n",
    "    plt.plot(series, np.zeros(len(series)) + clust, 'r.')\n",
    "plt.title(\"Time series (zero centered)\")\n",
    "plt.show()\n",
    "plt.close()"
   ]
  },
  {
   "cell_type": "code",
   "execution_count": null,
   "metadata": {},
   "outputs": [],
   "source": [
    "day2monthday(220)"
   ]
  },
  {
   "cell_type": "code",
   "execution_count": null,
   "metadata": {},
   "outputs": [],
   "source": [
    "boop = ak_fires[np.in1d(ak_fires.year, [2013,2015])]\n",
    "print len(boop)\n",
    "print len(ak_fires)\n",
    "print len(ak_fires_2013)"
   ]
  },
  {
   "cell_type": "code",
   "execution_count": null,
   "metadata": {},
   "outputs": [],
   "source": [
    "import geometry\n",
    "reload(geometry)\n",
    "from carpentry.get_feat_df import get_feat_df\n",
    "get_feat_df(2013, 'data/feat_df.pkl')"
   ]
  },
  {
   "cell_type": "code",
   "execution_count": null,
   "metadata": {},
   "outputs": [],
   "source": [
    "with open(\"data/feat_df_2013.pkl\") as fpkl:\n",
    "    feat_df = cPickle.load(fpkl)\n",
    "print \"len feat df: \" + str(len(feat_df))"
   ]
  },
  {
   "cell_type": "code",
   "execution_count": null,
   "metadata": {},
   "outputs": [],
   "source": [
    "feat_df"
   ]
  },
  {
   "cell_type": "code",
   "execution_count": null,
   "metadata": {},
   "outputs": [],
   "source": [
    "n_big_fires = 0\n",
    "for fireid in xrange(162):\n",
    "    if np.max(feat_df[feat_df.fire_id == fireid].n_det_cum) > 4:\n",
    "        n_big_fires += 1\n",
    "print \"%d big fires\" % n_big_fires"
   ]
  },
  {
   "cell_type": "code",
   "execution_count": null,
   "metadata": {},
   "outputs": [],
   "source": [
    "# Lets plot each fire's trajectory overlayed on to one plot\n",
    "n_fires = np.max(feat_df.fire_id)\n",
    "for fire in xrange(n_fires):\n",
    "    det_arr = feat_df[feat_df.fire_id == fire].n_det\n",
    "    if len(det_arr) < 5:\n",
    "        continue\n",
    "    plt.figure(figsize=(20,10))\n",
    "    plt.plot(np.arange(len(det_arr)), det_arr, 'r-')\n",
    "    plt.show()\n",
    "    plt.close()"
   ]
  },
  {
   "cell_type": "code",
   "execution_count": null,
   "metadata": {},
   "outputs": [],
   "source": [
    "from mpl_toolkits.basemap import Basemap\n",
    "import matplotlib.pyplot as plt\n",
    "%matplotlib inline\n",
    "\n",
    "plt.figure(figsize=(7,14))\n",
    "n_clusts, clusts = cluster_fires(ak_fires_2015, 20)\n",
    "\n",
    "centers = np.zeros((n_clusts,2))\n",
    "for fire in xrange(n_clusts):\n",
    "    clust_fires = ak_fires_2015[clusts == fire]\n",
    "    centers[fire,0] = np.mean(clust_fires.lat)\n",
    "    centers[fire,1] = np.mean(clust_fires.long)\n",
    "\n",
    "mp = Basemap(projection=\"merc\",\n",
    "                 lat_0=ak_bb[0], lon_0=ak_bb[2],\n",
    "                 llcrnrlat=ak_bb[0],\n",
    "                 llcrnrlon=ak_bb[2],\n",
    "                 urcrnrlat=ak_bb[1],\n",
    "                 urcrnrlon=ak_bb[3],\n",
    "                 resolution='i')\n",
    "center_lons, center_lats = mp(centers[:,1], centers[:,0])\n",
    "mp.plot(center_lons, center_lats, 'rs')\n",
    "mp.drawmapboundary(fill_color='aqua')\n",
    "mp.fillcontinents(color='yellow',lake_color='aqua')\n",
    "mp.drawcoastlines()\n",
    "plt.show()"
   ]
  },
  {
   "cell_type": "code",
   "execution_count": null,
   "metadata": {},
   "outputs": [],
   "source": []
  }
 ],
 "metadata": {
  "language_info": {
   "name": "python",
   "pygments_lexer": "ipython3"
  }
 },
 "nbformat": 4,
 "nbformat_minor": 0
}
