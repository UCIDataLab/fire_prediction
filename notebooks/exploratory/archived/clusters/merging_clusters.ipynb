{
 "cells": [
  {
   "cell_type": "code",
   "execution_count": null,
   "metadata": {},
   "outputs": [],
   "source": [
    "import cPickle\n",
    "import pandas as pd\n",
    "import numpy as np\n",
    "import matplotlib.pyplot as plt\n",
    "import os\n",
    "from time import time, sleep\n",
    "from IPython import display\n",
    "os.chdir(u'/Users/zbutler/research/fire_prediction')\n",
    "from data import data\n",
    "from geometry.grid_conversion import ak_bb, fairbanks_lat_lon, get_latlon_xy_fxns\n",
    "from prediction.fire_clustering import cluster_over_time_with_merging, FIRE_SEASON\n",
    "from util.daymonth import day2monthday\n",
    "%matplotlib inline"
   ]
  },
  {
   "cell_type": "code",
   "execution_count": null,
   "metadata": {},
   "outputs": [],
   "source": [
    "# Load all data\n",
    "modis = data.load_modis() \n",
    "gfs_dict = data.load_gfs_dict()\n",
    "clust_df = data.load_clust_df()\n",
    "merge_dict = data.load_merge_dict()\n",
    "min_year = np.min(modis.year)\n",
    "max_year = np.max(modis.year)\n",
    "clust_df.iloc[0:10]"
   ]
  },
  {
   "cell_type": "code",
   "execution_count": null,
   "metadata": {},
   "outputs": [],
   "source": [
    "# Plot some merge statistics first\n",
    "mergee_size = []\n",
    "merger_size = []\n",
    "for merger, (mergee, dayofyear) in merge_dict.iteritems():\n",
    "    mergee_size.append(len(clust_df[(clust_df.cluster==mergee) & (clust_df.dayofyear < dayofyear)]))\n",
    "    merger_size.append(len(clust_df[(clust_df.cluster==merger) & (clust_df.dayofyear < dayofyear)]))\n",
    "plt.hist(merger_size, bins=100)\n",
    "plt.xlabel(\"Merger size\")\n",
    "plt.savefig(\"pics/merger_size_10_hist.png\")\n",
    "plt.show()\n",
    "plt.close()\n",
    "plt.hist(mergee_size, bins=100)\n",
    "plt.xlabel(\"Mergee size\")\n",
    "plt.savefig(\"pics/mergee_size_10_hist.png\")\n",
    "plt.show()"
   ]
  },
  {
   "cell_type": "code",
   "execution_count": null,
   "metadata": {},
   "outputs": [],
   "source": [
    "# Find a couple merges that might be interesting to plot\n",
    "for merger, (mergee, dayofyear) in merge_dict.iteritems():\n",
    "    mergee_size = len(clust_df[(clust_df.cluster==mergee) & (clust_df.dayofyear < dayofyear)])\n",
    "    if mergee_size > 1000:\n",
    "        print \"mergee %d (size %d, year %d)\" % (mergee, mergee_size, clust_df[(clust_df.cluster==mergee)].year.unique()[0]),\n",
    "        print \"merger %d (size %d)\" % (merger, len(clust_df[(clust_df.cluster==merger) & (clust_df.dayofyear < dayofyear)]))\n",
    "        print \"lat lon: \" + str((np.mean(clust_df[(clust_df.cluster==merger)].lat), np.mean(clust_df[(clust_df.cluster==merger)].long)))\n"
   ]
  },
  {
   "cell_type": "code",
   "execution_count": null,
   "metadata": {},
   "outputs": [],
   "source": [
    "# Let's check out monster merger 917/961\n",
    "from util.daymonth import monthday2day\n",
    "mergee = 917\n",
    "merger = 961\n",
    "mergee_df = clust_df[clust_df.cluster == mergee]\n",
    "merger_df = clust_df[clust_df.cluster == merger]\n",
    "year = mergee_df.year.unique()[0]\n",
    "min_day = min(np.min(mergee_df.dayofyear), np.min(merger_df.dayofyear))\n",
    "max_day = np.max(mergee_df.dayofyear)\n",
    "\n",
    "# Get size in grid\n",
    "min_x = min(np.min(mergee_df.x), np.min(merger_df.x))\n",
    "max_x = max(np.max(mergee_df.x), np.max(merger_df.x))\n",
    "min_y = min(np.min(mergee_df.y), np.min(merger_df.y))\n",
    "max_y = max(np.max(mergee_df.y), np.max(merger_df.y))\n",
    "prev_merger_xs = []\n",
    "prev_mergee_xs = []\n",
    "prev_merger_ys = []\n",
    "prev_mergee_ys = []\n",
    "day = monthday2day(8,1)\n",
    "for dayofyear in xrange(int(min_day), int(merge_dict[merger][1])+2):\n",
    "    merger_fires = merger_df[merger_df.dayofyear == dayofyear]\n",
    "    mergee_fires = mergee_df[mergee_df.dayofyear == dayofyear]\n",
    "    display.clear_output(wait=True)\n",
    "#    plt.figure(figsize=(5,10))\n",
    "    axes = plt.gca()\n",
    "    axes.set_xlim([min_x,max_x])\n",
    "    axes.set_ylim([min_y,max_y])\n",
    "    if len(prev_merger_xs):\n",
    "        plt.plot(prev_merger_xs, prev_merger_ys, 'ro')\n",
    "    if len(prev_mergee_xs):\n",
    "        plt.plot(prev_mergee_xs, prev_mergee_ys, 'bo')\n",
    "\n",
    "    if len(merger_fires):\n",
    "        today_xs, today_ys = (np.array(merger_fires.x), np.array(merger_fires.y))\n",
    "        plt.plot(today_xs, today_ys, 'r*')\n",
    "        prev_merger_xs += list(today_xs)\n",
    "        prev_merger_ys += list(today_ys)\n",
    "    if len(mergee_fires):\n",
    "        today_xs, today_ys = (np.array(mergee_fires.x), np.array(mergee_fires.y))\n",
    "        plt.plot(today_xs, today_ys, 'b*')\n",
    "        prev_mergee_xs += list(today_xs)\n",
    "        prev_mergee_ys += list(today_ys)\n",
    "    month, day = day2monthday(dayofyear, (year % 4) == 0)\n",
    "    plt.title(\"Fires on %d %d\" %(month, day))\n",
    "    plt.show()\n",
    "    sleep(1)\n",
    "    dayofyear += 1"
   ]
  },
  {
   "cell_type": "code",
   "execution_count": null,
   "metadata": {},
   "outputs": [],
   "source": []
  }
 ],
 "metadata": {
  "language_info": {
   "name": "python",
   "pygments_lexer": "ipython3"
  }
 },
 "nbformat": 4,
 "nbformat_minor": 0
}
