{
 "cells": [
  {
   "cell_type": "code",
   "execution_count": null,
   "metadata": {},
   "outputs": [],
   "source": [
    "import cPickle\n",
    "import pandas as pd\n",
    "import numpy as np\n",
    "import matplotlib.pyplot as plt\n",
    "import os\n",
    "from time import time\n",
    "os.chdir(u'/Users/zbutler/research/fire_prediction')\n",
    "from data import data\n",
    "from geometry.grid_conversion import ak_bb, fairbanks_lat_lon, get_latlon_xy_fxns\n",
    "from prediction.fire_clustering import cluster_over_time_with_merging, FIRE_SEASON\n",
    "%matplotlib inline"
   ]
  },
  {
   "cell_type": "code",
   "execution_count": null,
   "metadata": {},
   "outputs": [],
   "source": [
    "# Load all data\n",
    "modis = data.load_modis() \n",
    "gfs_dict = data.load_gfs_dict()\n",
    "min_year = np.min(modis.year)\n",
    "max_year = np.max(modis.year)"
   ]
  },
  {
   "cell_type": "code",
   "execution_count": null,
   "metadata": {},
   "outputs": [],
   "source": [
    "# Add daymonth to standard modis dataset and save it\n",
    "from carpentry.get_feat_df import add_daymonth\n",
    "modis = add_daymonth(modis)\n",
    "with open(\"data/ak_fires.pkl\", \"w\") as fout:\n",
    "    cPickle.dump(modis, fout, protocol=cPickle.HIGHEST_PROTOCOL)\n",
    "modis = data.load_modis()\n",
    "modis.iloc[0:10]"
   ]
  },
  {
   "cell_type": "code",
   "execution_count": null,
   "metadata": {},
   "outputs": [],
   "source": [
    "# Try a bunch of potential clustering thresholds, see what seems like it makes sense\n",
    "threshes = [2.5, 5, 10, 20, 50, 100]\n",
    "n_clust_arr = []\n",
    "n_merge_arr = []\n",
    "for thresh in threshes:\n",
    "    t = time()\n",
    "    clust_annual = []\n",
    "    merge_annual = []\n",
    "    for year in xrange(min_year, max_year+1):\n",
    "        clust_df, merge_dict = cluster_over_time_with_merging(modis[modis.year==year], thresh)\n",
    "        clust_annual.append(len(clust_df.cluster.unique()))\n",
    "        merge_annual.append(len(merge_dict))\n",
    "    print \"%f thresh took %f sec\" %(thresh, time() - t)\n",
    "    n_clust_arr.append(clust_annual)\n",
    "    n_merge_arr.append(merge_annual)"
   ]
  },
  {
   "cell_type": "code",
   "execution_count": null,
   "metadata": {},
   "outputs": [],
   "source": [
    "marker_arr = ['b--', 'k--', 'r--', 'g--', 'y--', 'b-', 'r-']\n",
    "plt.figure(figsize=(10,7))\n",
    "for i, thresh in enumerate(threshes):\n",
    "    plt.plot(np.arange(min_year, max_year+1), n_clust_arr[i], marker_arr[i], label=\"Thresh %.2f\" % thresh)\n",
    "plt.legend(bbox_to_anchor=(1.05, 1), loc=2, borderaxespad=0.)\n",
    "ax = plt.gca()\n",
    "ax.get_xaxis().get_major_formatter().set_useOffset(False)\n",
    "plt.xlabel(\"Year\")\n",
    "plt.ylabel(\"Number of clusters\")\n",
    "plt.savefig(\"pics/n_clusts_by_year.png\", bbox_inches='tight')\n",
    "plt.show()\n",
    "plt.close()\n",
    "plt.figure(figsize=(10,7))\n",
    "for i, thresh in enumerate(threshes):\n",
    "    plt.plot(np.arange(min_year, max_year+1), n_merge_arr[i], marker_arr[i], label=\"Thresh %.2f\" % thresh)\n",
    "plt.legend(bbox_to_anchor=(1.05, 1), loc=2, borderaxespad=0.)\n",
    "ax = plt.gca()\n",
    "ax.get_xaxis().get_major_formatter().set_useOffset(False)\n",
    "plt.xlabel(\"Year\")\n",
    "plt.ylabel(\"Number of merged fires this fire season\")\n",
    "plt.savefig(\"pics/n_merges_by_year.png\", bbox_inches='tight')\n",
    "plt.show()\n",
    "plt.close()"
   ]
  },
  {
   "cell_type": "code",
   "execution_count": null,
   "metadata": {},
   "outputs": [],
   "source": [
    "# Get the cluster data set we want\n",
    "import prediction.fire_clustering as fc\n",
    "reload(fc)\n",
    "from prediction.fire_clustering import cluster_over_time_with_merging, FIRE_SEASON\n",
    "\n",
    "tau_f = 10.\n",
    "merge_dict_dict = dict()\n",
    "clust_df, merge_dict_dict = cluster_over_time_with_merging(modis, tau_f)\n",
    "print \"Big clust df size: \" + str(clust_df)\n",
    "with open(\"data/merge_dict_dict.pkl\", \"w\") as fpkl:\n",
    "    cPickle.dump(merge_dict_dict, fpkl, protocol=cPickle.HIGHEST_PROTOCOL)\n",
    "with open(\"data/clust_df.pkl\", \"w\") as fpkl:\n",
    "    cPickle.dump(clust_df, fpkl, protocol=cPickle.HIGHEST_PROTOCOL)\n",
    "clust_df.iloc[0:10]"
   ]
  },
  {
   "cell_type": "code",
   "execution_count": null,
   "metadata": {},
   "outputs": [],
   "source": [
    "# Now, make some plots comparing the number of fires in new clusters vs fires in preexisting fires\n",
    "years = range(min_year, max_year+1)\n",
    "days = range(FIRE_SEASON[0], FIRE_SEASON[1]+1)\n",
    "new_fires_mat = np.zeros((len(years), len(days)))\n",
    "preex_fires_mat = np.zeros((len(years), len(days)))\n",
    "\n",
    "for i,year in enumerate(years):\n",
    "    annual_fires = clust_df[clust_df.year == year]\n",
    "    clust2startday = dict()\n",
    "    for clust in annual_fires.cluster.unique():\n",
    "        clust2startday[clust] = np.min(annual_fires[annual_fires.cluster==clust].dayofyear)\n",
    "    for j,day in enumerate(days):\n",
    "        daily_fires = annual_fires[annual_fires.dayofyear == day]\n",
    "        counts = daily_fires.cluster.value_counts()\n",
    "        for clust, count in zip(counts.index, np.array(counts)):\n",
    "            if day == clust2startday[clust]:\n",
    "                new_fires_mat[year-min_year,day-days[0]] += count\n",
    "            else:\n",
    "                preex_fires_mat[year-min_year,day-days[0]] += count\n",
    "\n",
    "# First, a simple plot by year\n",
    "plt.figure(figsize=(10,7))\n",
    "plt.plot(years, np.sum(new_fires_mat, axis=1), 'rs', label=\"New fires\")\n",
    "plt.plot(years, np.sum(preex_fires_mat, axis=1), 'bs', label=\"Preexisting fires\")\n",
    "ax = plt.gca()\n",
    "ax.get_xaxis().get_major_formatter().set_useOffset(False)\n",
    "plt.xlabel(\"Year\")\n",
    "plt.ylabel(\"Number of fires\")\n",
    "plt.legend(bbox_to_anchor=(1.05, 1), loc=2, borderaxespad=0.)\n",
    "plt.savefig(\"pics/yearly_new_vs_preex.png\", bbox_inches='tight')\n",
    "plt.show()\n",
    "plt.close()\n",
    "plt.figure(figsize=(10,7))\n",
    "plt.plot(days, np.sum(new_fires_mat, axis=0), 'r--', label=\"New fires\")\n",
    "plt.plot(days, np.sum(preex_fires_mat, axis=0), 'b--', label=\"Preexisting fires\")\n",
    "plt.xlabel(\"Day of season\")\n",
    "plt.ylabel(\"Number of fires (across all years)\")\n",
    "plt.legend(bbox_to_anchor=(1.05, 1), loc=2, borderaxespad=0.)\n",
    "plt.savefig(\"pics/daily_new_vs_preex.png\", bbox_inches='tight')\n",
    "plt.show()\n",
    "plt.close()\n",
    "plt.figure(figsize=(10,7))\n",
    "plt.plot(days, new_fires_mat[2013-min_year,:], 'r--', label=\"New fires\")\n",
    "plt.plot(days, preex_fires_mat[2013-min_year,:], 'b--', label=\"Preexisting fires\")\n",
    "plt.xlabel(\"Day of season\")\n",
    "plt.ylabel(\"Number of fires (2013)\")\n",
    "plt.legend(bbox_to_anchor=(1.05, 1), loc=2, borderaxespad=0.)\n",
    "plt.savefig(\"pics/2013_new_vs_preex.png\", bbox_inches='tight')\n",
    "plt.show()"
   ]
  },
  {
   "cell_type": "code",
   "execution_count": null,
   "metadata": {},
   "outputs": [],
   "source": [
    "# Load clust_feat_df\n",
    "clust_feat_df = data.load_clust_feat_df(clust_thresh=5.)\n",
    "clust_feat_df.iloc[0:10]"
   ]
  },
  {
   "cell_type": "code",
   "execution_count": null,
   "metadata": {},
   "outputs": [],
   "source": []
  }
 ],
 "metadata": {
  "language_info": {
   "name": "python",
   "pygments_lexer": "ipython3"
  }
 },
 "nbformat": 4,
 "nbformat_minor": 0
}
