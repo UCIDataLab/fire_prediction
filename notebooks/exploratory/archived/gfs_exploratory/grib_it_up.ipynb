{
 "cells": [
  {
   "cell_type": "code",
   "execution_count": null,
   "metadata": {},
   "outputs": [],
   "source": [
    "import pygrib"
   ]
  },
  {
   "cell_type": "code",
   "execution_count": null,
   "metadata": {},
   "outputs": [],
   "source": [
    "grbs = pygrib.open(\"../data/gfsanl_3_20130706_1200_000.grb\")\n",
    "i = 0\n",
    "for grb in grbs:\n",
    "    print grb\n",
    "    i += 1\n",
    "    if i == 4:\n",
    "        height_grb = grb\n",
    "print \"%d grbs\" %(i)\n"
   ]
  },
  {
   "cell_type": "code",
   "execution_count": null,
   "metadata": {},
   "outputs": [],
   "source": [
    "\n",
    "print height_grb['gridDefinition']\n",
    "print height_grb['parameterName']\n",
    "print height_grb['typeOfLevel']\n",
    "print height_grb['level']\n",
    "print height_grb['hundred']\n",
    "print height_grb['Ni']\n",
    "print height_grb['Nj']\n",
    "print height_grb['numberOfDataPoints']\n",
    "print height_grb['latLonValues']\n",
    "print len(height_grb['latLonValues'])\n",
    "print height_grb['latitudes']\n",
    "print len(height_grb['latitudes'])\n",
    "print height_grb['longitudes']\n",
    "print len(height_grb['longitudes'])"
   ]
  },
  {
   "cell_type": "code",
   "execution_count": null,
   "metadata": {},
   "outputs": [],
   "source": [
    "height_grb.keys()"
   ]
  },
  {
   "cell_type": "code",
   "execution_count": null,
   "metadata": {},
   "outputs": [],
   "source": [
    "print map(len, height_grb.data(0))\n",
    "print map(len, height_grb.data(1))\n",
    "print map(len, height_grb.data(2))\n",
    "print height_grb.data(3,4)"
   ]
  },
  {
   "cell_type": "code",
   "execution_count": null,
   "metadata": {},
   "outputs": [],
   "source": [
    "ak_bb = [55, 71, -165, -138]\n",
    "import matplotlib.pyplot as plt\n",
    "%matplotlib\n",
    "plt.imshow(height_grb.values)\n",
    "plt.savefig('geopot_height.png')"
   ]
  },
  {
   "cell_type": "code",
   "execution_count": null,
   "metadata": {},
   "outputs": [],
   "source": [
    "grbs = pygrib.open(\"../data/gfsanl_3_20130706_1200_000.grb\")\n",
    "for i,layer in enumerate(grbs):\n",
    "    if layer.name == \"Temperature\" and layer.level == 0:\n",
    "        print \"found at layer %d\" %(i)\n",
    "        temp_layer = layer\n",
    "        break\n",
    "for key in temp_layer.keys():\n",
    "    val = temp_layer[key]\n",
    "    if val == \"surface\":\n",
    "        print \"key = \" + str(key)\n",
    "        break"
   ]
  },
  {
   "cell_type": "code",
   "execution_count": null,
   "metadata": {},
   "outputs": [],
   "source": [
    "plt.imshow(temp_layer.values)"
   ]
  },
  {
   "cell_type": "code",
   "execution_count": null,
   "metadata": {},
   "outputs": [],
   "source": [
    "grbs = pygrib.open(\"../data/gfsanl_3_20130706_1200_000.grb\")\n",
    "for i,layer in enumerate(grbs):\n",
    "    if layer.name == \"Relative humidity\" and layer.typeOfLevelECMF == \"entireAtmosphere\":\n",
    "        print \"found at layer %d\" %(i)\n",
    "        humidity_layer = layer\n",
    "        break"
   ]
  },
  {
   "cell_type": "code",
   "execution_count": null,
   "metadata": {},
   "outputs": [],
   "source": [
    "plt.imshow(humidity_layer.values)"
   ]
  },
  {
   "cell_type": "code",
   "execution_count": null,
   "metadata": {},
   "outputs": [],
   "source": [
    "humidity_layer.latlons()"
   ]
  },
  {
   "cell_type": "code",
   "execution_count": null,
   "metadata": {},
   "outputs": [],
   "source": [
    "grbs = pygrib.open(\"../data/20150101.grb\")\n",
    "print grbs[212]\n",
    "print grbs[234]\n",
    "print grbs[235]\n",
    "for i,_ in enumerate(grbs):\n",
    "    pass\n",
    "print i\n",
    "print \"\\n\"\n",
    "grbs2 = pygrib.open(\"../data/20150215.grb\")\n",
    "for layer in grbs2:\n",
    "    if layer.name == \"Temperature\" and layer.level == 0:\n",
    "        print layer\n",
    "print grbs2[233]\n",
    "for i,_ in enumerate(grbs2):\n",
    "    pass\n",
    "print i\n",
    "print \"\\n\"\n",
    "grbs3 = pygrib.open(\"../data/20130215.grb\")\n",
    "print grbs3[211]\n",
    "print grbs3[233]\n",
    "print grbs3[234]\n",
    "for i,_ in enumerate(grbs2):\n",
    "    pass\n",
    "print i\n",
    "grbs4 = pygrib.open(\"../data/20130215.grb\")\n",
    "print grbs3[211]\n",
    "print grbs3[233]\n",
    "print grbs3[234]"
   ]
  },
  {
   "cell_type": "code",
   "execution_count": null,
   "metadata": {},
   "outputs": [],
   "source": []
  }
 ],
 "metadata": {
  "language_info": {
   "name": "python",
   "pygments_lexer": "ipython3"
  }
 },
 "nbformat": 4,
 "nbformat_minor": 0
}
