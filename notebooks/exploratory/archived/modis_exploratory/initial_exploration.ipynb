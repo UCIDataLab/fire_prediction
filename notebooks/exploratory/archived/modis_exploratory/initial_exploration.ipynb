{
 "cells": [
  {
   "cell_type": "markdown",
   "metadata": {},
   "source": [
    "# MODIS data summary\n",
    "The data comes from UMD's ftp server: fuoco.geog.umd.edu\n",
    "\n",
    "I'm getting the data from modis/C6/mcd14ml, is that right?\n",
    "\n",
    "They have daily data from Nov 2000-Oct 2016"
   ]
  },
  {
   "cell_type": "code",
   "execution_count": null,
   "metadata": {},
   "outputs": [],
   "source": [
    "import matplotlib.pyplot as plt\n",
    "from carpentry.raw_to_dict import read_raw_data\n",
    "from scipy.stats import pearsonr\n",
    "from IPython import display\n",
    "import numpy as np\n",
    "import time\n",
    "import os\n",
    "import math"
   ]
  },
  {
   "cell_type": "code",
   "execution_count": null,
   "metadata": {},
   "outputs": [],
   "source": [
    "# Read in data\n",
    "data_list = read_raw_data('mcd14ml/MCD14ML.201307.006.01.txt')  # July\n",
    "data_list = data_list[1:]\n",
    "print \"read data file with %d data points\" %len(data_list)"
   ]
  },
  {
   "cell_type": "code",
   "execution_count": null,
   "metadata": {},
   "outputs": [],
   "source": [
    "# First, let's plot the data overall\n",
    "%matplotlib inline\n",
    "lat_arr = map(lambda x: x[3], data_list[1:])   # latitude\n",
    "long_arr = map(lambda x: x[4], data_list[1:])  # longitude\n",
    "plt.plot(long_arr, lat_arr, 'r+')\n",
    "plt.show()"
   ]
  },
  {
   "cell_type": "code",
   "execution_count": null,
   "metadata": {},
   "outputs": [],
   "source": [
    "# Lots of fires! Let's check out just Alaska\n",
    "ak_bb = [55, 72, -170, -140]  # min lat, max lat, min long, max long\n",
    "alaska_lat = []\n",
    "alaska_long = []\n",
    "alaska_inds = []\n",
    "alaska_days = []\n",
    "for i,(lat,lon) in enumerate(zip(lat_arr, long_arr)):\n",
    "    if (ak_bb[0] < lat < ak_bb[1]) and (ak_bb[2] < lon < ak_bb[3]):\n",
    "        alaska_lat.append(lat)\n",
    "        alaska_long.append(lon)\n",
    "        alaska_days.append(data_list[i][2])\n",
    "print \"%d fire pixels in alaksa bounding box\" %len(alaska_lat)\n",
    "alaska_lat = np.array(alaska_lat)\n",
    "alaska_long = np.array(alaska_long)\n",
    "alaska_inds = np.array(alaska_inds)\n",
    "alaska_days = np.array(alaska_days)\n",
    "plt.plot(alaska_long, alaska_lat, 'r+')\n",
    "plt.show()"
   ]
  },
  {
   "cell_type": "code",
   "execution_count": null,
   "metadata": {},
   "outputs": [],
   "source": [
    "# Now, get the day for each fire, and plot the pixels by day\n",
    "prev_inds = []\n",
    "for day in xrange(1,32):\n",
    "    day_inds = (alaska_days == day).nonzero()[0]\n",
    "    if len(day_inds):\n",
    "        display.clear_output(wait=True)\n",
    "        if len(prev_inds):\n",
    "            plt.plot(alaska_long[prev_inds], alaska_lat[prev_inds], 'k+')\n",
    "        plt.plot(alaska_long[day_inds], alaska_lat[day_inds], 'r+')\n",
    "        plt.title(\"Fires in Alaska on July %d\" %day)\n",
    "        plt.ylim((58,72))\n",
    "        plt.xlim((-170, -140))\n",
    "        plt.show()\n",
    "        time.sleep(1)\n",
    "        prev_inds += list(day_inds)\n"
   ]
  },
  {
   "cell_type": "code",
   "execution_count": null,
   "metadata": {},
   "outputs": [],
   "source": [
    "# Let's look at FRP and cofidence, are they correlated?\n",
    "conf = map(lambda x: x[-1], data_list)\n",
    "frp = map(lambda x: x[-2], data_list)\n",
    "plt.plot(conf, frp, 'k+')\n",
    "plt.ylabel('Fire radiative power')\n",
    "plt.xlabel('Confidence')\n",
    "plt.show()\n",
    "\n",
    "corr = pearsonr(conf,frp)\n",
    "print \"Pearson correlation: %.4f, pvalue %.4f\" %(corr[0],corr[1])\n",
    "\n",
    "# Histograms of each\n",
    "plt.hist(conf, bins=200)\n",
    "plt.title('Confidence level histogram')\n",
    "plt.show()\n",
    "\n",
    "plt.hist(frp, bins=200)\n",
    "plt.title('Fire radiative power histogram')\n",
    "plt.show()\n",
    "\n",
    "plt.hist(np.log(np.array(frp)+1), bins=200)\n",
    "plt.title(\"FRP log histogram\")\n",
    "plt.show()"
   ]
  },
  {
   "cell_type": "code",
   "execution_count": null,
   "metadata": {},
   "outputs": [],
   "source": [
    "# Now, let's look at some stats for all the data\n",
    "data_list_list = []\n",
    "for finame in os.listdir('mcd14ml'):\n",
    "    data_list_list.append(read_raw_data(\"mcd14ml/\" + finame)[1:])\n",
    "n_months = len(data_list_list)\n",
    "print \"Read from %d months\" %(n_months)\n",
    "total_fires_arr = np.zeros(n_months)\n",
    "month_float_arr = np.zeros(n_months)\n",
    "for i,dl in enumerate(data_list_list):\n",
    "    year = dl[0][0]\n",
    "    month = dl[0][1]\n",
    "    month_float = year + (float(month-1) / 12.)\n",
    "    total_fires = len(dl)\n",
    "    month_float_arr[i] = month_float\n",
    "    total_fires_arr[i] = total_fires\n",
    "plt.plot(month_float_arr, total_fires_arr, 'r+')\n",
    "plt.title(\"Total fires per month (%d-%d)\" %(int(math.floor(np.min(month_float_arr))), int(math.floor(np.max(month_float_arr)))))\n",
    "plt.show()\n"
   ]
  },
  {
   "cell_type": "code",
   "execution_count": null,
   "metadata": {},
   "outputs": [],
   "source": [
    "# Now let's do the above graph but with a northern/southern hemisphere split\n",
    "total_fires_north = np.zeros(n_months)\n",
    "total_fires_south = np.zeros(n_months)\n",
    "for i,dl in enumerate(data_list_list):\n",
    "    year = dl[0][0]\n",
    "    month = dl[0][1]\n",
    "    month_float = year + (float(month-1) / 12.)\n",
    "    north_fires = np.sum(np.array(map(lambda x: x[3] > 0, dl)))\n",
    "    south_fires = np.sum(np.array(map(lambda x: x[3] < 0, dl)))\n",
    "    total_fires_north[i] = north_fires\n",
    "    total_fires_south[i] = south_fires\n",
    "    \n",
    "plt.plot(month_float_arr, total_fires_north, 'r+')\n",
    "plt.title(\"Total northern hemisphere fires per month (%d-%d)\" %(int(math.floor(np.min(month_float_arr))), int(math.floor(np.max(month_float_arr)))))\n",
    "plt.show()\n",
    "plt.plot(month_float_arr, total_fires_south, 'r+')\n",
    "plt.title(\"Total southern hemisphere fires per month (%d-%d)\" %(int(math.floor(np.min(month_float_arr))), int(math.floor(np.max(month_float_arr)))))\n",
    "plt.show()"
   ]
  },
  {
   "cell_type": "code",
   "execution_count": null,
   "metadata": {},
   "outputs": [],
   "source": [
    "# Plot summer and winter in a single year\n",
    "lat_summer = map(lambda x: x[3], data_list_list[18])   # latitude\n",
    "long_summer = map(lambda x: x[4], data_list_list[18])  # longitude\n",
    "print data_list_list[18][0]\n",
    "plt.plot(long_summer, lat_summer, 'r+')\n",
    "plt.ylim((-80, 100))\n",
    "plt.xlim((-200, 200))\n",
    "plt.show()\n",
    "\n",
    "lat_winter = map(lambda x: x[3], data_list_list[12])   # latitude\n",
    "long_winter = map(lambda x: x[4], data_list_list[12])  # longitude\n",
    "print data_list_list[12][0]\n",
    "plt.plot(long_winter, lat_winter, 'r+')\n",
    "plt.ylim((-80, 100))\n",
    "plt.xlim((-200, 200))\n",
    "plt.show()"
   ]
  },
  {
   "cell_type": "code",
   "execution_count": null,
   "metadata": {},
   "outputs": [],
   "source": [
    "# Let's try the hemisphere plots but broken down by top part and bottom part of the hemisphere\n",
    "extreme_north = np.zeros(n_months)\n",
    "mild_north = np.zeros(n_months)\n",
    "extreme_south = np.zeros(n_months)\n",
    "mild_south = np.zeros(n_months)\n",
    "for i,dl in enumerate(data_list_list):\n",
    "    year = dl[0][0]\n",
    "    month = dl[0][1]\n",
    "    month_float = year + (float(month-1) / 12.)\n",
    "    extreme_north_fires = np.sum(np.array(map(lambda x: x[3] > 40, dl)))\n",
    "    mild_north_fires = np.sum(np.array(map(lambda x: 0 < x[3] < 40, dl)))\n",
    "    extreme_south_fires = np.sum(np.array(map(lambda x: x[3] < -40, dl)))\n",
    "    mild_south_fires = np.sum(np.array(map(lambda x: -40 < x[3] < 0, dl)))\n",
    "    extreme_north[i] = extreme_north_fires\n",
    "    mild_north[i] = mild_north_fires\n",
    "    extreme_south[i] = extreme_south_fires\n",
    "    mild_south[i] = mild_south_fires\n",
    "    \n",
    "plt.plot(month_float_arr, extreme_north, 'r+')\n",
    "plt.title(\"Extreme northern hemisphere fires per month (%d-%d)\" %(int(math.floor(np.min(month_float_arr))), int(math.floor(np.max(month_float_arr)))))\n",
    "plt.show()\n",
    "plt.plot(month_float_arr, mild_north, 'r+')\n",
    "plt.title(\"Mild northern hemisphere fires per month (%d-%d)\" %(int(math.floor(np.min(month_float_arr))), int(math.floor(np.max(month_float_arr)))))\n",
    "plt.show()\n",
    "plt.plot(month_float_arr, extreme_south, 'r+')\n",
    "plt.title(\"Extreme southern hemisphere fires per month (%d-%d)\" %(int(math.floor(np.min(month_float_arr))), int(math.floor(np.max(month_float_arr)))))\n",
    "plt.show()\n",
    "plt.plot(month_float_arr, mild_south, 'r+')\n",
    "plt.title(\"Mild southern hemisphere fires per month (%d-%d)\" %(int(math.floor(np.min(month_float_arr))), int(math.floor(np.max(month_float_arr)))))\n",
    "plt.show()"
   ]
  },
  {
   "cell_type": "code",
   "execution_count": null,
   "metadata": {},
   "outputs": [],
   "source": [
    "# Now, let's make make heatmaps for the world! One heatmap per month\n",
    "lats = [-80, 100]   # latitude range\n",
    "lons = [-200, 200]  # longitude range\n",
    "gran = 2.           # how large grid cells will be\n",
    "lat_grid = np.linspace(lats[0], lats[1], ((lats[1]-lats[0])/gran)+1)\n",
    "lon_grid = np.linspace(lons[0], lons[1], ((lons[1]-lons[0])/gran)+1)\n",
    "heatmap_tensor = np.zeros(((lons[1]-lons[0])/gran, (lats[1]-lats[0])/gran, 12))\n",
    "for month in xrange(12):  # 0-indexed: month 0 is January\n",
    "    for dl_ind in xrange(month, len(data_list_list), 12):\n",
    "        for fire in data_list_list[dl_ind]:\n",
    "            lat,lon = (fire[3], fire[4])\n",
    "            lat_grid_pos = np.where(lat_grid > lat)[0][0] - 1\n",
    "            lon_grid_pos = np.where(lon_grid > lon)[0][0] - 1\n",
    "            heatmap_tensor[lon_grid_pos, lat_grid_pos, month] += 1\n"
   ]
  },
  {
   "cell_type": "code",
   "execution_count": null,
   "metadata": {},
   "outputs": [],
   "source": [
    "#heatmap_tensor = heatmap_tensor / float(len(data_list_list)/12)\n",
    "zero_lat = np.where(lat_grid > 0)[0][0]\n",
    "zero_lon = np.where(lon_grid > 0)[0][0]\n",
    "for month in xrange(12):\n",
    "    plt.imshow(np.transpose(np.log(heatmap_tensor[:,-1:0:-1,month]+1)))\n",
    "    plt.colorbar()\n",
    "    plt.title(\"Heatmap of fires for month %d\" %month)\n",
    "    plt.plot([zero_lon,zero_lon], [0,90], 'w--')\n",
    "    plt.plot([0,200], [zero_lat,zero_lat], 'w--')\n",
    "    plt.xlim((0,200))\n",
    "    plt.ylim((0,90))\n",
    "    plt.show()"
   ]
  },
  {
   "cell_type": "code",
   "execution_count": null,
   "metadata": {},
   "outputs": [],
   "source": []
  }
 ],
 "metadata": {
  "language_info": {
   "name": "python",
   "pygments_lexer": "ipython3"
  }
 },
 "nbformat": 4,
 "nbformat_minor": 0
}
