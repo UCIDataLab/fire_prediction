{
 "cells": [
  {
   "cell_type": "code",
   "execution_count": null,
   "metadata": {},
   "outputs": [],
   "source": [
    "import cPickle\n",
    "import numpy as np\n",
    "import pandas as pd\n",
    "from carpentry.raw_to_dict import read_raw_data"
   ]
  },
  {
   "cell_type": "code",
   "execution_count": null,
   "metadata": {},
   "outputs": [],
   "source": [
    "# Load one month first just to see how it works\n",
    "dl = read_raw_data(\"mcd14ml/MCD14ML.201307.006.01.txt\")[1:]\n",
    "print \"loaded dataset with %d points\" %(len(dl))"
   ]
  },
  {
   "cell_type": "code",
   "execution_count": null,
   "metadata": {},
   "outputs": [],
   "source": [
    "# Create a pandas DataFrame using a dict\n",
    "pd_dict = dict()\n",
    "pd_dict['year'] = np.array(map(lambda x: x[0], dl))\n",
    "pd_dict['month'] = np.array(map(lambda x: x[1], dl))\n",
    "pd_dict['day'] = np.array(map(lambda x: x[2], dl))\n",
    "pd_dict['lat'] = np.array(map(lambda x: x[3], dl))\n",
    "pd_dict['long'] = np.array(map(lambda x: x[4], dl))\n",
    "pd_dict['frp'] = np.array(map(lambda x: x[5], dl))\n",
    "pd_dict['confidence'] = np.array(map(lambda x: x[6], dl))\n",
    "df = pd.DataFrame(pd_dict)\n",
    "print \"created a dataframe of size %d\" %(len(df))"
   ]
  },
  {
   "cell_type": "code",
   "execution_count": null,
   "metadata": {},
   "outputs": [],
   "source": [
    "# Now, play around with it\n",
    "print np.mean(df.long)\n",
    "print np.mean(df.lat)\n",
    "print np.mean(df.frp)\n",
    "print df.loc[0]\n",
    "print df[df.lat > 0]"
   ]
  },
  {
   "cell_type": "code",
   "execution_count": null,
   "metadata": {},
   "outputs": [],
   "source": []
  },
  {
   "cell_type": "code",
   "execution_count": null,
   "metadata": {},
   "outputs": [],
   "source": []
  }
 ],
 "metadata": {
  "language_info": {
   "name": "python",
   "pygments_lexer": "ipython3"
  }
 },
 "nbformat": 4,
 "nbformat_minor": 0
}
