{
 "cells": [
  {
   "cell_type": "code",
   "execution_count": null,
   "metadata": {},
   "outputs": [],
   "source": [
    "from pyhdf.SD import SD,SDC\n",
    "from glob import glob\n",
    "import matplotlib.pyplot as plt\n",
    "import numpy as np\n",
    "import os\n",
    "PROJECT_DIR = \"/Users/zbutler/research/fire_prediction/\"\n",
    "os.chdir(PROJECT_DIR)\n",
    "from util.tile2latlon import tile2latlon, latlon2tile\n",
    "os.chdir(\"data/burnt/modis\")\n",
    "%matplotlib inline"
   ]
  },
  {
   "cell_type": "code",
   "execution_count": null,
   "metadata": {},
   "outputs": [],
   "source": [
    "# First, let's just look at the dates of each of the files in each of the folders\n",
    "dr2dates = dict()\n",
    "dr2fracs = dict()\n",
    "for dr in os.listdir('.'):\n",
    "    dates = []\n",
    "    fracs = []\n",
    "    for filename in os.listdir('./%s' % dr):\n",
    "        map_year = int(filename.split('.')[0][1:5])\n",
    "        map_day = int(filename.split('.')[0][5:])\n",
    "        frac = map_year + (float(map_day) / 365)\n",
    "        dates.append((map_year, map_day))\n",
    "        fracs.append(frac)\n",
    "    dr2dates[dr] = dates\n",
    "    dr2fracs[dr] = fracs"
   ]
  },
  {
   "cell_type": "code",
   "execution_count": null,
   "metadata": {},
   "outputs": [],
   "source": [
    "tester = np.array(dr2fracs['h10v02'])\n",
    "for i,(dr, fracs) in enumerate(dr2fracs.iteritems()):\n",
    "    plt.plot(fracs, np.zeros(len(fracs)) + i, 'rs')\n",
    "    if (np.array(fracs) == tester).all():\n",
    "        eq = 1\n",
    "    else:\n",
    "        eq = 0\n",
    "    print \"cell %d: %s (%d records, eq = %d)\" %(i, dr, len(fracs), eq)\n",
    "plt.show()\n"
   ]
  },
  {
   "cell_type": "code",
   "execution_count": null,
   "metadata": {},
   "outputs": [],
   "source": [
    "# Now, let's plot all the tiles next to each other in a subplot\n",
    "time_str = 'A2013213'  # Collect data from 2013 \n",
    "hstart = 9\n",
    "hend = 11\n",
    "vstart = 2\n",
    "vend = 3\n",
    "f, axarr = plt.subplots(vend-vstart+1, hend-hstart+1)\n",
    "for h in xrange(hstart, hend+1):\n",
    "    for v in xrange(vstart, vend+1):\n",
    "        filename = glob(\"./h%.2dv%.2d/%s*\" % (h, v, time_str))[0]\n",
    "        hdf = SD(filename, SDC.READ)\n",
    "        axarr[v-vstart, h-hstart].imshow(hdf.select(\"Burn Date\")[:])\n",
    "plt.show()\n",
    "\n",
    "time_str_2 = 'A2013335'  # Collect data from 2013 \n",
    "f, axarr = plt.subplots(vend-vstart+1, hend-hstart+1)\n",
    "for h in xrange(hstart, hend+1):\n",
    "    for v in xrange(vstart, vend+1):\n",
    "        filename = glob(\"./h%.2dv%.2d/%s*\" % (h, v, time_str_2))[0]\n",
    "        hdf = SD(filename, SDC.READ)\n",
    "        axarr[v-vstart, h-hstart].imshow(hdf.select(\"Burn Date\")[:])\n",
    "plt.show()"
   ]
  },
  {
   "cell_type": "code",
   "execution_count": null,
   "metadata": {},
   "outputs": [],
   "source": [
    "# use tile2latlon to see the borders we're plotting rn--is it all of Alaska?\n",
    "mat = hdf.select(\"Burn Date\")[:]\n",
    "n_pix = mat.shape[0]\n",
    "min_lat_1, min_lon_1 = tile2latlon(9,2,0,0,n_pix)\n",
    "print (min_lat_1, min_lon_1-360)\n",
    "min_lat_2, min_lon_2 = tile2latlon(9,2,n_pix-1,n_pix-1,n_pix)\n",
    "print (min_lat_2, min_lon_2-360)\n",
    "min_lat_1, min_lon_1 = tile2latlon(9,2,0,n_pix-1,n_pix)\n",
    "print (min_lat_1, min_lon_1-360)\n",
    "min_lat_2, min_lon_2 = tile2latlon(9,2,n_pix-1,0,n_pix)\n",
    "print (min_lat_2, min_lon_2-360)\n",
    "min_lat_1, min_lon_1 = tile2latlon(9,3,0,0,n_pix)\n",
    "print (min_lat_1, min_lon_1-360)\n",
    "min_lat_2, min_lon_2 = tile2latlon(9,3,n_pix-1,n_pix-1,n_pix)\n",
    "print (min_lat_2, min_lon_2-360)\n",
    "min_lat_1, min_lon_1 = tile2latlon(9,3,0,n_pix-1,n_pix)\n",
    "print (min_lat_1, min_lon_1-360)\n",
    "min_lat_2, min_lon_2 = tile2latlon(9,3,n_pix-1,0,n_pix)\n",
    "print (min_lat_2, min_lon_2-360)\n",
    "min_lat, min_lon = tile2latlon(9, 3, 0, n_pix-1, n_pix)\n",
    "max_lat, max_lon = tile2latlon(11, 2, n_pix-1, 0, n_pix)\n",
    "print \"Our bb1: \" + str((min_lat, max_lat, min_lon-360, max_lon-360))\n",
    "\n",
    "ak_bb = [55, 71, -165, -138]"
   ]
  },
  {
   "cell_type": "code",
   "execution_count": null,
   "metadata": {},
   "outputs": [],
   "source": [
    "# ok this is annoying. let's try going the opposite way--figure out which tile each point of\n",
    "# the ak_bb is in\n",
    "tr_h, tr_v = latlon2tile(ak_bb[1], ak_bb[3])\n",
    "br_h, br_v = latlon2tile(ak_bb[0], ak_bb[3])\n",
    "tl_h, tl_v = latlon2tile(ak_bb[1], ak_bb[2])\n",
    "bl_h, bl_v = latlon2tile(ak_bb[0], ak_bb[2])\n",
    "\n",
    "print \"top right: \" + str((tr_h, tr_v))\n",
    "print \"bottom right: \" + str((br_h, br_v))\n",
    "print \"top left: \" + str((tl_h, tl_v))\n",
    "print \"bottom left: \" + str((bl_h, bl_v))"
   ]
  },
  {
   "cell_type": "code",
   "execution_count": null,
   "metadata": {},
   "outputs": [],
   "source": [
    "# use dumb haxx to see what we have rn\n",
    "ak_lats = []\n",
    "ak_lons = []\n",
    "for h in xrange(9,12):\n",
    "    for v in xrange(2,4):\n",
    "        for i in xrange(n_pix):\n",
    "            for j in xrange(n_pix):\n",
    "                lat,lon = tile2latlon(h, v, i, j, n_pix)\n",
    "                if ak_bb[0] < lat < ak_bb[1] and ak_bb[2] < lon-360 < ak_bb[3]:\n",
    "                    ak_lats.append(lat)\n",
    "                    ak_lons.append(lon)\n",
    "        print \"finished h %d v %d\" %(h,v)"
   ]
  },
  {
   "cell_type": "code",
   "execution_count": null,
   "metadata": {},
   "outputs": [],
   "source": [
    "n_pts = len(ak_lats)\n",
    "ak_lats = np.array(ak_lats, dtype='float')\n",
    "ak_lons = np.array(ak_lons, dtype='float') - 360\n",
    "print \"%d pts\" %(n_pts)\n",
    "print \"min lat: %f, max lat: %f\" %(min(ak_lats), max(ak_lats))\n",
    "print \"min lon: %f, max lon: %f\" %(min(ak_lons), max(ak_lons))\n",
    "plt.scatter(ak_lons[0:n_pts:4], ak_lats[0:n_pts:4], c='k')\n",
    "plt.xlim(ak_bb[2], ak_bb[3])\n",
    "plt.ylim(ak_bb[0], ak_bb[1])\n",
    "plt.show()"
   ]
  },
  {
   "cell_type": "code",
   "execution_count": null,
   "metadata": {},
   "outputs": [],
   "source": [
    "print np.min(hdf.select(\"First Day\")[:])\n",
    "print np.max(hdf.select(\"First Day\")[:])\n",
    "print np.min(hdf.select(\"Last Day\")[:])\n",
    "print np.max(hdf.select(\"Last Day\")[:])"
   ]
  },
  {
   "cell_type": "code",
   "execution_count": null,
   "metadata": {},
   "outputs": [],
   "source": [
    "filename_2 = glob(\"data/burnt/modis/h10v02/A2013182.*\")[0]\n",
    "hdf_2 = SD(filename_2, SDC.READ)\n",
    "print np.min(hdf_2.select(\"First Day\")[:])\n",
    "print np.max(hdf_2.select(\"First Day\")[:])\n",
    "print np.min(hdf_2.select(\"Last Day\")[:])\n",
    "print np.max(hdf_2.select(\"Last Day\")[:])\n",
    "print np.unique(hdf_2.select(\"Burn Date\")[:])"
   ]
  },
  {
   "cell_type": "code",
   "execution_count": null,
   "metadata": {},
   "outputs": [],
   "source": [
    "#os.chdir(\"../../..\")\n",
    "from util.daymonth import day2monthday\n",
    "print day2monthday(213)"
   ]
  },
  {
   "cell_type": "code",
   "execution_count": null,
   "metadata": {},
   "outputs": [],
   "source": [
    "# How much overlap do we have between consecutive months?\n",
    "fn_h10v02_jul = glob(\"data/burnt/modis/h10v02/A2013182.*\")[0]\n",
    "hdf_jul = SD(fn_h10v02_jul, SDC.READ)\n",
    "fn_h10v02_aug = glob(\"data/burnt/modis/h10v02/A2013213.*\")[0]\n",
    "hdf_aug = SD(fn_h10v02_aug, SDC.READ)\n",
    "\n",
    "print \"%d burnt pixels in july\" %np.sum(hdf_jul.select(\"Burn Date\")[:] > 0)\n",
    "print \"%d burnt pixels in august\" %np.sum(hdf_aug.select(\"Burn Date\")[:] > 0)\n",
    "combo = np.logical_and(hdf_jul.select(\"Burn Date\")[:] > 0, hdf_aug.select(\"Burn Date\")[:] > 0)\n",
    "print \"%d burned in both\" %np.sum(combo)"
   ]
  },
  {
   "cell_type": "code",
   "execution_count": null,
   "metadata": {},
   "outputs": [],
   "source": [
    "start_of_month_arr = ['001','032','060','091','121','152','182','213','244','274','305','335']\n",
    "overall_arr = np.zeros((n_pix, n_pix))\n",
    "for month,daystr in enumerate(start_of_month_arr):\n",
    "    fn = glob(\"data/burnt/modis/h10v02/A2010%s.*\" % daystr)[0]\n",
    "    hdf_data = SD(fn, SDC.READ).select(\"Burn Date\")[:]\n",
    "    print \"%d pixels burnt in month %d\" %(np.sum(hdf_data > 0), month)\n",
    "    if month > 0:\n",
    "        last_month_overlap = np.logical_and(hdf_data > 0, last_hdf > 0)\n",
    "        print \"%d pixels overlap with last month in month %d\" %(np.sum(last_month_overlap), month)\n",
    "    overall_overlap = np.logical_and(hdf_data > 0, overall_arr > 0)\n",
    "    print \"%d overlap with past in month %d\" %(np.sum(overall_overlap), month)\n",
    "    overall_arr = np.logical_or(overall_arr, hdf_data > 0)\n",
    "    last_hdf = hdf_data"
   ]
  },
  {
   "cell_type": "code",
   "execution_count": null,
   "metadata": {},
   "outputs": [],
   "source": [
    "bin(hdf_jul.select(\"QA\")[:][-10,-10])"
   ]
  },
  {
   "cell_type": "code",
   "execution_count": null,
   "metadata": {},
   "outputs": [],
   "source": []
  }
 ],
 "metadata": {
  "language_info": {
   "name": "python",
   "pygments_lexer": "ipython3"
  }
 },
 "nbformat": 4,
 "nbformat_minor": 0
}
