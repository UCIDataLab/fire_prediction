{
 "cells": [
  {
   "cell_type": "code",
   "execution_count": null,
   "metadata": {},
   "outputs": [],
   "source": [
    "import cPickle\n",
    "import time\n",
    "import numpy as np\n",
    "import pandas as pd\n",
    "import matplotlib.pyplot as plt\n",
    "from mpl_toolkits.basemap import Basemap\n",
    "from IPython import display\n",
    "import scipy.sparse as sp\n",
    "from scipy.stats import pearsonr\n",
    "%matplotlib inline"
   ]
  },
  {
   "cell_type": "code",
   "execution_count": null,
   "metadata": {},
   "outputs": [],
   "source": [
    "west_coast_bb = [32,50,-125,-110]\n",
    "plt.figure(figsize=(7,14))\n",
    "mp = Basemap(projection=\"merc\",\n",
    "              lat_0=west_coast_bb[0], lon_0=west_coast_bb[2],\n",
    "              llcrnrlat=west_coast_bb[0],\n",
    "              llcrnrlon=west_coast_bb[2],\n",
    "              urcrnrlat=west_coast_bb[1],\n",
    "              urcrnrlon=west_coast_bb[3],\n",
    "              resolution='i')\n",
    "mp.etopo()\n",
    "mp.drawmapboundary(fill_color='aqua')\n",
    "mp.drawrivers()\n",
    "mp.drawcoastlines()\n",
    "\n",
    "plt.show()"
   ]
  },
  {
   "cell_type": "code",
   "execution_count": null,
   "metadata": {},
   "outputs": [],
   "source": [
    "with open(\"../data/modis.pkl\") as fpd:\n",
    "    modis = cPickle.load(fpd)\n",
    "print \"loaded pandas database with %d points\" %len(modis)"
   ]
  },
  {
   "cell_type": "code",
   "execution_count": null,
   "metadata": {},
   "outputs": [],
   "source": [
    "wc_fires = modis[(modis.lat < west_coast_bb[1]) & (modis.lat > west_coast_bb[0]) & \n",
    "                 (modis.long > west_coast_bb[2]) & (modis.long < west_coast_bb[3])]\n",
    "print \"%d west coast fires\" % len(wc_fires)\n",
    "\n",
    "n_per_year = []\n",
    "for year in xrange(2010, 2017):\n",
    "    n_per_year.append(len(wc_fires[wc_fires.year==year]))\n",
    "plt.plot(range(2010,2017), n_per_year, 'b--')\n",
    "plt.title(\"Fires per year\")\n",
    "plt.show()\n",
    "\n",
    "n_per_month = []\n",
    "for month in xrange(1,13):\n",
    "    n_per_month.append(len(wc_fires[wc_fires.month==month]))\n",
    "plt.plot(range(1,13), n_per_month, 'r--')\n",
    "plt.title(\"Fires per month\")\n",
    "plt.show()"
   ]
  },
  {
   "cell_type": "code",
   "execution_count": null,
   "metadata": {},
   "outputs": [],
   "source": [
    "plt.figure(figsize=(7,14))\n",
    "mp = Basemap(projection=\"merc\",\n",
    "              lat_0=west_coast_bb[0], lon_0=west_coast_bb[2],\n",
    "              llcrnrlat=west_coast_bb[0],\n",
    "              llcrnrlon=west_coast_bb[2],\n",
    "              urcrnrlat=west_coast_bb[1],\n",
    "              urcrnrlon=west_coast_bb[3])\n",
    "month = 5\n",
    "day = 1\n",
    "prev_lats = []\n",
    "prev_longs = []\n",
    "while month < 11:\n",
    "    todays_fires = wc_fires[(wc_fires.year == 2013) & (wc_fires.month == month) &\n",
    "                            (wc_fires.day == day)]\n",
    "    display.clear_output(wait=True)\n",
    "    plt.figure(figsize=(7,14))\n",
    "    mp.drawmapboundary(fill_color='aqua')\n",
    "    mp.fillcontinents(color='yellow',lake_color='aqua')\n",
    "    mp.drawcoastlines()\n",
    "    if len(prev_lats):\n",
    "        mp.plot(prev_longs, prev_lats, 'ko')\n",
    "    if len(todays_fires):\n",
    "        today_longs, today_lats = mp(np.array(todays_fires.long), np.array(todays_fires.lat))\n",
    "        mp.plot(today_longs, today_lats, 'ro')\n",
    "        prev_lats += list(today_lats)\n",
    "        prev_longs += list(today_longs)\n",
    "    plt.title(\"Fires on west coast on %d %d\" %(month, day))\n",
    "    plt.show()\n",
    "    time.sleep(.3)\n",
    "    day += 1\n",
    "    if day >= 31 or (day >= 30 and month == 6):\n",
    "        day = 1\n",
    "        month += 1"
   ]
  },
  {
   "cell_type": "code",
   "execution_count": null,
   "metadata": {},
   "outputs": [],
   "source": []
  },
  {
   "cell_type": "code",
   "execution_count": null,
   "metadata": {},
   "outputs": [],
   "source": []
  }
 ],
 "metadata": {
  "language_info": {
   "name": "python",
   "pygments_lexer": "ipython3"
  }
 },
 "nbformat": 4,
 "nbformat_minor": 0
}
