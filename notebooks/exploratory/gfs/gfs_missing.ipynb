{
 "cells": [
  {
   "cell_type": "markdown",
   "metadata": {},
   "source": [
    "# GFS data"
   ]
  },
  {
   "cell_type": "code",
   "execution_count": null,
   "metadata": {},
   "outputs": [],
   "source": [
    "import os\n",
    "REP_DIR = \"/home/cagraff/Documents/dev/fire_prediction/\"\n",
    "os.chdir(REP_DIR)\n",
    "from data import data\n",
    "import numpy as np\n",
    "from tabulate import tabulate\n",
    "from util.daymonth import monthday2day, day2monthday"
   ]
  },
  {
   "cell_type": "code",
   "execution_count": null,
   "metadata": {},
   "outputs": [],
   "source": [
    "# Load data\n",
    "gfs = data.load_gfs_dict()\n",
    "gfs.keys()"
   ]
  },
  {
   "cell_type": "code",
   "execution_count": null,
   "metadata": {},
   "outputs": [],
   "source": [
    "temp = gfs['temp']\n",
    "days = gfs['days']\n",
    "\n",
    "print np.shape(temp)\n",
    "print np.shape(days)"
   ]
  },
  {
   "cell_type": "markdown",
   "metadata": {},
   "source": [
    "## Number of missing days"
   ]
  },
  {
   "cell_type": "code",
   "execution_count": null,
   "metadata": {},
   "outputs": [],
   "source": [
    "days_per_year = 365\n",
    "years = range(2007, 2017)\n",
    "num_years = len(years)\n",
    "\n",
    "def is_leap_year(year):\n",
    "    return year % 4 == 0\n",
    "\n",
    "# Missing per year\n",
    "missing = []\n",
    "for year in years:\n",
    "    sel = [x for x in days if x[0]==year]\n",
    "    \n",
    "    days_present = len(sel)\n",
    "    days_missing = (days_per_year + is_leap_year(year)) - days_present\n",
    "    \n",
    "    \n",
    "    missing.append((year, days_present, days_missing))\n",
    "\n",
    "# Missing total\n",
    "missing.append(('Total', sum([x[1] for x in missing]), sum([x[2] for x in missing])))\n",
    "print tabulate(missing, headers=['Year', 'Present', 'Missing'])\n",
    "\n",
    "  "
   ]
  },
  {
   "cell_type": "markdown",
   "metadata": {},
   "source": [
    "## Number of missing days (in fire season)"
   ]
  },
  {
   "cell_type": "code",
   "execution_count": null,
   "metadata": {},
   "outputs": [],
   "source": [
    "fire_season = (133,242)\n",
    "print 'Fire Season:', day2monthday(133), 'to', day2monthday(242), '\\n'\n",
    "days_per_season = fire_season[1] - fire_season[0] + 1\n",
    "\n",
    "# Missing per year\n",
    "missing = []\n",
    "for year in years:\n",
    "    sel = [x for x in days if x[0]==year and (monthday2day(x[1], x[2], is_leap_year(x[0])) in range(fire_season[0], fire_season[1]+1))]\n",
    "    \n",
    "    days_present = len(sel)\n",
    "    days_missing = days_per_season - days_present\n",
    "    \n",
    "    \n",
    "    missing.append((year, days_present, days_missing))\n",
    "\n",
    "# Missing total\n",
    "missing.append(('Total', sum([x[1] for x in missing]), sum([x[2] for x in missing])))\n",
    "print tabulate(missing, headers=['Year', 'Present', 'Missing'])\n"
   ]
  },
  {
   "cell_type": "markdown",
   "metadata": {},
   "source": [
    "## Number of missing days per month"
   ]
  },
  {
   "cell_type": "code",
   "execution_count": null,
   "metadata": {},
   "outputs": [],
   "source": [
    "months = range(1, 13)\n",
    "\n",
    "MONTH_IND = 0\n",
    "PRESENT_IND = 1\n",
    "MISSING_IND = 2\n",
    "\n",
    "def days_per_month(month, is_leap):\n",
    "    if is_leap:\n",
    "        month_arr = [31, 29, 31, 30, 31, 30, 31, 31, 30, 31, 30, 31]\n",
    "    else:\n",
    "        month_arr = [31, 28, 31, 30, 31, 30, 31, 31, 30, 31, 30, 31]\n",
    "    return month_arr[month-1]\n",
    "\n",
    "missing = np.zeros((12,3), dtype=np.int32)\n",
    "missing[:, MONTH_IND] = months\n",
    "\n",
    "# Missing per month\n",
    "for year in years:\n",
    "    for month in months:\n",
    "        sel = [x for x in days if x[0]==year and x[1]==month]\n",
    "\n",
    "        days_present = len(sel)\n",
    "        days_missing = days_per_month(month, is_leap_year(year)) - days_present\n",
    "\n",
    "\n",
    "        missing[month-1,PRESENT_IND] += days_present\n",
    "        missing[month-1,MISSING_IND] += days_missing\n",
    "        \n",
    "\n",
    "\n",
    "\n",
    "# Missing total\n",
    "present_total = np.sum(missing[:, PRESENT_IND])\n",
    "missing_total = np.sum(missing[:, MISSING_IND])\n",
    "missing = list(missing)\n",
    "missing.append(['Total', present_total, missing_total])\n",
    "\n",
    "print tabulate(missing, headers=['Month', 'Present', 'Missing'])\n"
   ]
  },
  {
   "cell_type": "markdown",
   "metadata": {},
   "source": [
    "## List of Missing Days"
   ]
  },
  {
   "cell_type": "code",
   "execution_count": null,
   "metadata": {},
   "outputs": [],
   "source": [
    "def generate_month(year, month):\n",
    "    days = range(1, days_per_month(month, is_leap_year(year))+1)\n",
    "    return [(year, month, d) for d in days]\n",
    "\n",
    "missing_days = []\n",
    "\n",
    "for year in years:\n",
    "    for month in months:\n",
    "        days_in_month = days_per_month(month, is_leap_year(year))\n",
    "        sel = [x for x in days if x[0]==year and x[1]==month]\n",
    "        if len(sel) < days_in_month:\n",
    "            missing_days += set(generate_month(year, month)).difference(set(sel))\n",
    "            \n",
    "missing_days.sort()\n",
    "print len(missing_days)\n",
    "print missing_days"
   ]
  },
  {
   "cell_type": "code",
   "execution_count": null,
   "metadata": {},
   "outputs": [],
   "source": []
  }
 ],
 "metadata": {
  "language_info": {
   "name": "python",
   "pygments_lexer": "ipython3"
  }
 },
 "nbformat": 4,
 "nbformat_minor": 1
}
