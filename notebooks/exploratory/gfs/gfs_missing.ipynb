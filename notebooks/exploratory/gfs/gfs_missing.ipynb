{
 "cells": [
  {
   "cell_type": "markdown",
   "metadata": {},
   "source": [
    "# GFS data"
   ]
  },
  {
   "cell_type": "code",
   "execution_count": 3,
   "metadata": {},
   "outputs": [],
   "source": [
    "import os\n",
    "REP_DIR = \"/home/cagraff/Documents/dev/fire_prediction/\"\n",
    "os.chdir(REP_DIR)\n",
    "from data import data\n",
    "import numpy as np\n",
    "from tabulate import tabulate\n",
    "from util.daymonth import monthday2day, day2monthday"
   ]
  },
  {
   "cell_type": "code",
   "execution_count": 4,
   "metadata": {},
   "outputs": [
    {
     "data": {
      "text/plain": [
       "['lats',\n",
       " 'temp',\n",
       " 'days',\n",
       " 'rain',\n",
       " 'humidity',\n",
       " 'vpd',\n",
       " 'lons',\n",
       " 'valid_bits',\n",
       " 'wind']"
      ]
     },
     "execution_count": 4,
     "metadata": {},
     "output_type": "execute_result"
    }
   ],
   "source": [
    "# Load data\n",
    "gfs = data.load_gfs_dict()\n",
    "gfs.keys()"
   ]
  },
  {
   "cell_type": "code",
   "execution_count": 46,
   "metadata": {},
   "outputs": [
    {
     "name": "stdout",
     "output_type": "stream",
     "text": [
      "(30, 52, 3429)\n",
      "(3429, 3)\n"
     ]
    }
   ],
   "source": [
    "temp = gfs['temp']\n",
    "days = gfs['days']\n",
    "\n",
    "print np.shape(temp)\n",
    "print np.shape(days)"
   ]
  },
  {
   "cell_type": "markdown",
   "metadata": {},
   "source": [
    "## Number of missing days"
   ]
  },
  {
   "cell_type": "code",
   "execution_count": 7,
   "metadata": {},
   "outputs": [
    {
     "name": "stdout",
     "output_type": "stream",
     "text": [
      "Year      Present    Missing\n",
      "------  ---------  ---------\n",
      "2007          280         85\n",
      "2008          366          0\n",
      "2009          365          0\n",
      "2010          363          2\n",
      "2011          335         30\n",
      "2012          345         21\n",
      "2013          363          2\n",
      "2014          357          8\n",
      "2015          325         40\n",
      "2016          330         36\n",
      "Total        3429        224\n"
     ]
    }
   ],
   "source": [
    "days_per_year = 365\n",
    "years = range(2007, 2017)\n",
    "num_years = len(years)\n",
    "\n",
    "def is_leap_year(year):\n",
    "    return year % 4 == 0\n",
    "\n",
    "# Missing per year\n",
    "missing = []\n",
    "for year in years:\n",
    "    sel = [x for x in days if x[0]==year]\n",
    "    \n",
    "    days_present = len(sel)\n",
    "    days_missing = (days_per_year + is_leap_year(year)) - days_present\n",
    "    \n",
    "    \n",
    "    missing.append((year, days_present, days_missing))\n",
    "\n",
    "# Missing total\n",
    "missing.append(('Total', sum([x[1] for x in missing]), sum([x[2] for x in missing])))\n",
    "print tabulate(missing, headers=['Year', 'Present', 'Missing'])\n",
    "\n",
    "  "
   ]
  },
  {
   "cell_type": "markdown",
   "metadata": {},
   "source": [
    "## Number of missing days (in fire season)"
   ]
  },
  {
   "cell_type": "code",
   "execution_count": 8,
   "metadata": {},
   "outputs": [
    {
     "name": "stdout",
     "output_type": "stream",
     "text": [
      "Fire Season: (5, 14) to (8, 31) \n",
      "\n",
      "Year      Present    Missing\n",
      "------  ---------  ---------\n",
      "2007          103          7\n",
      "2008          110          0\n",
      "2009          110          0\n",
      "2010          110          0\n",
      "2011           86         24\n",
      "2012           95         15\n",
      "2013          108          2\n",
      "2014          108          2\n",
      "2015          101          9\n",
      "2016           88         22\n",
      "Total        1019         81\n"
     ]
    }
   ],
   "source": [
    "fire_season = (133,242)\n",
    "print 'Fire Season:', day2monthday(133), 'to', day2monthday(242), '\\n'\n",
    "days_per_season = fire_season[1] - fire_season[0] + 1\n",
    "\n",
    "# Missing per year\n",
    "missing = []\n",
    "for year in years:\n",
    "    sel = [x for x in days if x[0]==year and (monthday2day(x[1], x[2], is_leap_year(x[0])) in range(fire_season[0], fire_season[1]+1))]\n",
    "    \n",
    "    days_present = len(sel)\n",
    "    days_missing = days_per_season - days_present\n",
    "    \n",
    "    \n",
    "    missing.append((year, days_present, days_missing))\n",
    "\n",
    "# Missing total\n",
    "missing.append(('Total', sum([x[1] for x in missing]), sum([x[2] for x in missing])))\n",
    "print tabulate(missing, headers=['Year', 'Present', 'Missing'])\n"
   ]
  },
  {
   "cell_type": "markdown",
   "metadata": {},
   "source": [
    "## Number of missing days per month"
   ]
  },
  {
   "cell_type": "code",
   "execution_count": 38,
   "metadata": {},
   "outputs": [
    {
     "name": "stdout",
     "output_type": "stream",
     "text": [
      "Month      Present    Missing\n",
      "-------  ---------  ---------\n",
      "1              280         30\n",
      "2              260         23\n",
      "3              285         25\n",
      "4              281         19\n",
      "5              299         11\n",
      "6              274         26\n",
      "7              288         22\n",
      "8              287         23\n",
      "9              283         17\n",
      "10             305          5\n",
      "11             295          5\n",
      "12             292         18\n",
      "Total         3429        224\n"
     ]
    }
   ],
   "source": [
    "months = range(1, 13)\n",
    "\n",
    "MONTH_IND = 0\n",
    "PRESENT_IND = 1\n",
    "MISSING_IND = 2\n",
    "\n",
    "def days_per_month(month, is_leap):\n",
    "    if is_leap:\n",
    "        month_arr = [31, 29, 31, 30, 31, 30, 31, 31, 30, 31, 30, 31]\n",
    "    else:\n",
    "        month_arr = [31, 28, 31, 30, 31, 30, 31, 31, 30, 31, 30, 31]\n",
    "    return month_arr[month-1]\n",
    "\n",
    "missing = np.zeros((12,3), dtype=np.int32)\n",
    "missing[:, MONTH_IND] = months\n",
    "\n",
    "# Missing per month\n",
    "for year in years:\n",
    "    for month in months:\n",
    "        sel = [x for x in days if x[0]==year and x[1]==month]\n",
    "\n",
    "        days_present = len(sel)\n",
    "        days_missing = days_per_month(month, is_leap_year(year)) - days_present\n",
    "\n",
    "\n",
    "        missing[month-1,PRESENT_IND] += days_present\n",
    "        missing[month-1,MISSING_IND] += days_missing\n",
    "        \n",
    "\n",
    "\n",
    "\n",
    "# Missing total\n",
    "present_total = np.sum(missing[:, PRESENT_IND])\n",
    "missing_total = np.sum(missing[:, MISSING_IND])\n",
    "missing = list(missing)\n",
    "missing.append(['Total', present_total, missing_total])\n",
    "\n",
    "print tabulate(missing, headers=['Month', 'Present', 'Missing'])\n"
   ]
  },
  {
   "cell_type": "markdown",
   "metadata": {
    "collapsed": true
   },
   "source": [
    "## List of Missing Days"
   ]
  },
  {
   "cell_type": "code",
   "execution_count": 51,
   "metadata": {},
   "outputs": [
    {
     "name": "stdout",
     "output_type": "stream",
     "text": [
      "224\n",
      "[(2007, 1, 7), (2007, 1, 8), (2007, 1, 9), (2007, 1, 10), (2007, 1, 11), (2007, 1, 12), (2007, 1, 13), (2007, 1, 14), (2007, 1, 15), (2007, 1, 16), (2007, 1, 17), (2007, 1, 18), (2007, 1, 19), (2007, 1, 20), (2007, 1, 21), (2007, 1, 22), (2007, 1, 23), (2007, 1, 24), (2007, 1, 25), (2007, 1, 26), (2007, 1, 27), (2007, 1, 28), (2007, 1, 29), (2007, 1, 30), (2007, 1, 31), (2007, 2, 7), (2007, 2, 8), (2007, 2, 9), (2007, 2, 10), (2007, 2, 11), (2007, 2, 12), (2007, 2, 13), (2007, 2, 14), (2007, 2, 15), (2007, 2, 16), (2007, 2, 17), (2007, 2, 18), (2007, 2, 19), (2007, 2, 20), (2007, 2, 21), (2007, 2, 22), (2007, 2, 23), (2007, 2, 24), (2007, 2, 25), (2007, 2, 26), (2007, 2, 27), (2007, 2, 28), (2007, 3, 3), (2007, 3, 4), (2007, 3, 9), (2007, 3, 10), (2007, 3, 11), (2007, 3, 16), (2007, 3, 17), (2007, 3, 20), (2007, 4, 13), (2007, 4, 16), (2007, 4, 29), (2007, 6, 12), (2007, 6, 21), (2007, 6, 29), (2007, 7, 10), (2007, 7, 14), (2007, 7, 22), (2007, 8, 11), (2007, 9, 15), (2007, 9, 16), (2007, 9, 17), (2007, 11, 22), (2007, 11, 27), (2007, 11, 28), (2007, 11, 29), (2007, 12, 6), (2007, 12, 7), (2007, 12, 8), (2007, 12, 9), (2007, 12, 10), (2007, 12, 11), (2007, 12, 14), (2007, 12, 15), (2007, 12, 16), (2007, 12, 20), (2007, 12, 21), (2007, 12, 22), (2007, 12, 23), (2010, 10, 28), (2010, 11, 10), (2011, 2, 27), (2011, 3, 2), (2011, 3, 3), (2011, 3, 4), (2011, 3, 5), (2011, 3, 6), (2011, 5, 27), (2011, 5, 29), (2011, 5, 30), (2011, 6, 7), (2011, 6, 8), (2011, 6, 9), (2011, 6, 10), (2011, 6, 11), (2011, 6, 12), (2011, 6, 21), (2011, 6, 24), (2011, 6, 25), (2011, 6, 26), (2011, 6, 27), (2011, 7, 23), (2011, 8, 3), (2011, 8, 4), (2011, 8, 5), (2011, 8, 8), (2011, 8, 9), (2011, 8, 11), (2011, 8, 12), (2011, 8, 13), (2011, 8, 22), (2012, 1, 5), (2012, 1, 7), (2012, 1, 9), (2012, 5, 18), (2012, 6, 9), (2012, 6, 10), (2012, 6, 13), (2012, 6, 26), (2012, 7, 5), (2012, 7, 6), (2012, 7, 7), (2012, 7, 8), (2012, 7, 29), (2012, 8, 6), (2012, 8, 7), (2012, 8, 11), (2012, 8, 12), (2012, 8, 27), (2012, 9, 4), (2012, 9, 5), (2012, 9, 10), (2013, 8, 19), (2013, 8, 20), (2014, 3, 24), (2014, 3, 25), (2014, 3, 26), (2014, 7, 22), (2014, 8, 19), (2014, 9, 12), (2014, 9, 13), (2014, 9, 15), (2015, 3, 10), (2015, 3, 11), (2015, 3, 12), (2015, 3, 13), (2015, 3, 14), (2015, 3, 15), (2015, 3, 16), (2015, 3, 17), (2015, 3, 18), (2015, 4, 13), (2015, 4, 14), (2015, 4, 15), (2015, 4, 16), (2015, 4, 21), (2015, 4, 27), (2015, 4, 28), (2015, 5, 26), (2015, 6, 10), (2015, 6, 13), (2015, 6, 14), (2015, 6, 16), (2015, 6, 17), (2015, 7, 4), (2015, 8, 23), (2015, 8, 31), (2015, 9, 1), (2015, 9, 4), (2015, 9, 5), (2015, 9, 7), (2015, 9, 16), (2015, 9, 17), (2015, 9, 18), (2015, 9, 19), (2015, 10, 23), (2015, 10, 24), (2015, 12, 3), (2015, 12, 18), (2015, 12, 19), (2015, 12, 20), (2015, 12, 28), (2016, 1, 4), (2016, 1, 11), (2016, 4, 12), (2016, 4, 13), (2016, 4, 14), (2016, 4, 15), (2016, 4, 16), (2016, 4, 17), (2016, 4, 18), (2016, 4, 19), (2016, 4, 20), (2016, 5, 18), (2016, 5, 19), (2016, 5, 20), (2016, 5, 21), (2016, 5, 26), (2016, 5, 31), (2016, 6, 10), (2016, 6, 15), (2016, 6, 16), (2016, 7, 17), (2016, 7, 18), (2016, 7, 19), (2016, 7, 20), (2016, 7, 21), (2016, 7, 22), (2016, 7, 23), (2016, 7, 24), (2016, 7, 25), (2016, 7, 26), (2016, 7, 27), (2016, 8, 25), (2016, 8, 30), (2016, 8, 31), (2016, 10, 19), (2016, 10, 31)]\n"
     ]
    }
   ],
   "source": [
    "def generate_month(year, month):\n",
    "    days = range(1, days_per_month(month, is_leap_year(year))+1)\n",
    "    return [(year, month, d) for d in days]\n",
    "\n",
    "missing_days = []\n",
    "\n",
    "for year in years:\n",
    "    for month in months:\n",
    "        days_in_month = days_per_month(month, is_leap_year(year))\n",
    "        sel = [x for x in days if x[0]==year and x[1]==month]\n",
    "        if len(sel) < days_in_month:\n",
    "            missing_days += set(generate_month(year, month)).difference(set(sel))\n",
    "            \n",
    "missing_days.sort()\n",
    "print len(missing_days)\n",
    "print missing_days"
   ]
  },
  {
   "cell_type": "code",
   "execution_count": null,
   "metadata": {
    "collapsed": true
   },
   "outputs": [],
   "source": []
  }
 ],
 "metadata": {
  "anaconda-cloud": {},
  "kernelspec": {
   "display_name": "Python 2",
   "language": "python",
   "name": "python2"
  },
  "language_info": {
   "codemirror_mode": {
    "name": "ipython",
    "version": 2
   },
   "file_extension": ".py",
   "mimetype": "text/x-python",
   "name": "python",
   "nbconvert_exporter": "python",
   "pygments_lexer": "ipython2",
   "version": "2.7.12"
  }
 },
 "nbformat": 4,
 "nbformat_minor": 1
}
