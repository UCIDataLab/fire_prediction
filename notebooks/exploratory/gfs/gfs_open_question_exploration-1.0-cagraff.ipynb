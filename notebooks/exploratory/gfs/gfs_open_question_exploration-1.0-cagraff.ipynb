{
 "cells": [
  {
   "cell_type": "markdown",
   "metadata": {},
   "source": [
    "# GFS Open Question Exploration (v1.0)\n",
    "Casey A Graff\n",
    "\n",
    "August 11th, 2017"
   ]
  },
  {
   "cell_type": "code",
   "execution_count": null,
   "metadata": {},
   "outputs": [],
   "source": [
    "REP_DIR = \"/home/cagraff/Documents/dev/fire_prediction/\"\n",
    "SRC_DIR = REP_DIR + 'src/'\n",
    "DATA_DIR = REP_DIR + 'data/'\n",
    "\n",
    "# Load system-wide packages\n",
    "import os\n",
    "import numpy as np\n",
    "from tabulate import tabulate\n",
    "from scipy.stats.stats import pearsonr\n",
    "%matplotlib inline\n",
    "\n",
    "# Load project packages\n",
    "os.chdir(SRC_DIR)\n",
    "from features.loaders import load_gfs_df\n",
    "from features.helper.daymonth import monthday2day, day2monthday"
   ]
  },
  {
   "cell_type": "code",
   "execution_count": null,
   "metadata": {},
   "outputs": [],
   "source": [
    "# Load data\n",
    "gfs = load_gfs_df(os.path.join(DATA_DIR, 'archived/weather/gfs_ak_dict.pkl'))\n",
    "temp = gfs['temp']\n",
    "days = gfs['days']\n",
    "print gfs.keys()"
   ]
  },
  {
   "cell_type": "markdown",
   "metadata": {},
   "source": [
    "## Missing days\n",
    "How many days are missing and is there a temporal pattern to the missing days?\n",
    "\n",
    "### Number of missings days per year"
   ]
  },
  {
   "cell_type": "code",
   "execution_count": null,
   "metadata": {},
   "outputs": [],
   "source": [
    "days_per_year = 365\n",
    "years = range(2007, 2017)\n",
    "num_years = len(years)\n",
    "\n",
    "def is_leap_year(year):\n",
    "    return year % 4 == 0\n",
    "\n",
    "# Missing per year\n",
    "missing = []\n",
    "for year in years:\n",
    "    sel = [x for x in days if x[0]==year]\n",
    "    \n",
    "    days_present = len(sel)\n",
    "    days_missing = (days_per_year + is_leap_year(year)) - days_present\n",
    "    \n",
    "    \n",
    "    missing.append((year, days_present, days_missing))\n",
    "\n",
    "# Missing total\n",
    "missing.append(('Total', sum([x[1] for x in missing]), sum([x[2] for x in missing])))\n",
    "print tabulate(missing, headers=['Year', 'Present', 'Missing'])\n",
    "\n",
    "print '\\nPercentage missing is {}%'.format(missing[-1][2]/(.01*missing[-1][1]))\n",
    "\n",
    "  "
   ]
  },
  {
   "cell_type": "markdown",
   "metadata": {},
   "source": [
    "Clearly some years have substantially more missing days than others. The most clear difference is that 2007 has over double the missing days of any other year.\n",
    "\n",
    "### Number of missing days per year (in fire season)"
   ]
  },
  {
   "cell_type": "code",
   "execution_count": null,
   "metadata": {},
   "outputs": [],
   "source": [
    "fire_season = (133,242)\n",
    "print 'Fire Season:', day2monthday(133), 'to', day2monthday(242), '\\n'\n",
    "days_per_season = fire_season[1] - fire_season[0] + 1\n",
    "\n",
    "# Missing per year\n",
    "missing = []\n",
    "for year in years:\n",
    "    sel = [x for x in days if x[0]==year and (monthday2day(x[1], x[2], is_leap_year(x[0])) in range(fire_season[0], fire_season[1]+1))]\n",
    "    \n",
    "    days_present = len(sel)\n",
    "    days_missing = days_per_season - days_present\n",
    "    \n",
    "    missing.append((year, days_present, days_missing))\n",
    "\n",
    "# Missing total\n",
    "missing.append(('Total', sum([x[1] for x in missing]), sum([x[2] for x in missing])))\n",
    "print tabulate(missing, headers=['Year', 'Present', 'Missing'])\n",
    "\n",
    "print '\\nPercentage missing is {}%'.format(missing[-1][2]/(.01*missing[-1][1]))\n"
   ]
  },
  {
   "cell_type": "markdown",
   "metadata": {},
   "source": [
    "Even when constrained to the fire season there is still a significant portion of the data missing (8%).\n",
    "\n",
    "### Number of missing days per month"
   ]
  },
  {
   "cell_type": "code",
   "execution_count": null,
   "metadata": {},
   "outputs": [],
   "source": [
    "months = range(1, 13)\n",
    "\n",
    "MONTH_IND = 0\n",
    "PRESENT_IND = 1\n",
    "MISSING_IND = 2\n",
    "\n",
    "def days_per_month(month, is_leap):\n",
    "    if is_leap:\n",
    "        month_arr = [31, 29, 31, 30, 31, 30, 31, 31, 30, 31, 30, 31]\n",
    "    else:\n",
    "        month_arr = [31, 28, 31, 30, 31, 30, 31, 31, 30, 31, 30, 31]\n",
    "    return month_arr[month-1]\n",
    "\n",
    "missing = np.zeros((12,3), dtype=np.int32)\n",
    "missing[:, MONTH_IND] = months\n",
    "\n",
    "# Missing per month\n",
    "for year in years:\n",
    "    for month in months:\n",
    "        sel = [x for x in days if x[0]==year and x[1]==month]\n",
    "\n",
    "        days_present = len(sel)\n",
    "        days_missing = days_per_month(month, is_leap_year(year)) - days_present\n",
    "\n",
    "\n",
    "        missing[month-1,PRESENT_IND] += days_present\n",
    "        missing[month-1,MISSING_IND] += days_missing\n",
    "        \n",
    "\n",
    "\n",
    "\n",
    "# Missing total\n",
    "present_total = np.sum(missing[:, PRESENT_IND])\n",
    "missing_total = np.sum(missing[:, MISSING_IND])\n",
    "missing = list(missing)\n",
    "missing.append(['Total', present_total, missing_total])\n",
    "\n",
    "print tabulate(missing, headers=['Month', 'Present', 'Missing'])\n"
   ]
  },
  {
   "cell_type": "markdown",
   "metadata": {},
   "source": [
    "There doesn't seem to be a significant difference in the number of missing days when grouped by month.\n",
    "\n",
    "### List of Missing Days"
   ]
  },
  {
   "cell_type": "code",
   "execution_count": null,
   "metadata": {},
   "outputs": [],
   "source": [
    "def generate_month(year, month):\n",
    "    days = range(1, days_per_month(month, is_leap_year(year))+1)\n",
    "    return [(year, month, d) for d in days]\n",
    "\n",
    "missing_days = []\n",
    "\n",
    "for year in years:\n",
    "    for month in months:\n",
    "        days_in_month = days_per_month(month, is_leap_year(year))\n",
    "        sel = [x for x in days if x[0]==year and x[1]==month]\n",
    "        if len(sel) < days_in_month:\n",
    "            missing_days += set(generate_month(year, month)).difference(set(sel))\n",
    "            \n",
    "missing_days.sort()\n",
    "print missing_days"
   ]
  },
  {
   "cell_type": "markdown",
   "metadata": {},
   "source": [
    "## Spatial Correlation of Measurements\n",
    "\n",
    "Do adjacent pixel have a high correlation between measurements? If there is sufficient variability it may be useful to perform linear interpolation between neighboring cells when calculating the weather variables for a fire event."
   ]
  },
  {
   "cell_type": "code",
   "execution_count": null,
   "metadata": {},
   "outputs": [],
   "source": [
    "def calc_cor(lat_off_tup, lon_off_tup):\n",
    "    min_lat_off, max_lat_off, lat_off = lat_off_tup\n",
    "    min_lon_off, max_lon_off, lon_off = lon_off_tup\n",
    "    shape = np.shape(temp)\n",
    "    table = []\n",
    "    for data in ['temp', 'humidity', 'rain', 'wind']:\n",
    "        cor = []\n",
    "        for lat in range(min_lat_off, shape[0] + max_lat_off):\n",
    "            for lon in range(min_lon_off, shape[1] + max_lon_off):\n",
    "                cor.append(pearsonr(gfs[data][lat, lon], gfs[data][lat+lat_off, lon+lon_off])[0])\n",
    "\n",
    "        table.append((data, np.mean(cor), np.std(cor), np.min(cor), np.max(cor)))\n",
    "\n",
    "    return tabulate(table, headers=['Data', 'Mean', 'Std Dev', 'Min', 'Max'])\n",
    "\n",
    "# Calculate correlation for left/right neighbor\n",
    "print 'Left/Right'\n",
    "print calc_cor((0, 0, 0), (1, 0, -1))\n",
    "\n",
    "# Calculate correlation for top/bottom neighbor\n",
    "print '\\nTop/Bottom'\n",
    "print calc_cor((1, 0, -1), (0, 0, 0))\n",
    "\n",
    "# Calculate correlation for up-left/down-right neighbor\n",
    "print '\\nUp-left/Down-right'\n",
    "print calc_cor((1, 0, -1), (1, 0, -1))\n",
    "\n",
    "# Calculate correlation for down-left/up-right neighbor\n",
    "print '\\nDown-left/Up-right'\n",
    "print calc_cor((0, -1, 1), (1, 0, -1))"
   ]
  },
  {
   "cell_type": "markdown",
   "metadata": {},
   "source": [
    "Interestingly the left/right correlation for humidity/rain/wind is much higher than for any other comparison. Could this be due to west/east wind channels that smooth weather horizontally?"
   ]
  },
  {
   "cell_type": "code",
   "execution_count": null,
   "metadata": {},
   "outputs": [],
   "source": []
  }
 ],
 "metadata": {
  "language_info": {
   "name": "python",
   "pygments_lexer": "ipython3"
  }
 },
 "nbformat": 4,
 "nbformat_minor": 1
}
