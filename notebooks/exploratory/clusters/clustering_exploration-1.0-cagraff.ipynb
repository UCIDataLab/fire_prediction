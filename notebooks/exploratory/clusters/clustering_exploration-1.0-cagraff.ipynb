{
 "cells": [
  {
   "cell_type": "code",
   "execution_count": 2,
   "metadata": {},
   "outputs": [],
   "source": [
    "REP_DIR = '/home/graffc/extra/fire_prediction/'\n",
    "SRC_DIR = REP_DIR + 'src/'\n",
    "DATA_DIR = REP_DIR + 'data/'\n",
    "\n",
    "# Load system-wide packages\n",
    "import os\n",
    "from matplotlib import pyplot as plt\n",
    "import numpy as np\n",
    "from scipy.stats import cumfreq\n",
    "from scipy.stats.stats import pearsonr\n",
    "import datetime as dt\n",
    "import pytz\n",
    "import time\n",
    "from matplotlib import animation, rc\n",
    "from IPython.display import HTML\n",
    "import math\n",
    "#%matplotlib inline\n",
    "\n",
    "# Load project packages\n",
    "os.chdir(SRC_DIR)\n",
    "from features.loaders import load_cluster_df\n",
    "from helper import date_util as du\n",
    "from visualization.mapping import make_map\n",
    "from helper.geometry import get_default_bounding_box, LatLonBoundingBox"
   ]
  },
  {
   "cell_type": "code",
   "execution_count": 4,
   "metadata": {},
   "outputs": [],
   "source": [
    "# Load data\n",
    "cluster_id_df = load_cluster_df(os.path.join(DATA_DIR, 'interim/modis/fire_cluster/old/fire_cluster_ids_5km_modis_alaska_2007-2016.pkl'))"
   ]
  },
  {
   "cell_type": "code",
   "execution_count": null,
   "metadata": {
    "collapsed": true
   },
   "outputs": [],
   "source": [
    "cluster_id_df"
   ]
  },
  {
   "cell_type": "code",
   "execution_count": 5,
   "metadata": {
    "collapsed": true
   },
   "outputs": [],
   "source": [
    "ALASKA_BB = get_default_bounding_box()\n",
    "\n",
    "def animate_map_latlon(df, bb, dates):\n",
    "    fig = plt.figure(figsize=(10,15))\n",
    "\n",
    "    mp = make_map(bb)\n",
    "    mp.shadedrelief()\n",
    "\n",
    "    s = mp.scatter([], [], 30, latlon=True, marker='o', color='b')\n",
    "\n",
    "    def init():\n",
    "        s.set_offsets([])\n",
    "        return s,\n",
    "\n",
    "    def animate(i):\n",
    "        date = dates[i]\n",
    "        \n",
    "        _ = plt.title('Date %s (day %d)' % (str(date), du.dayofyear_from_datetime(date)))\n",
    "        \n",
    "        sel_df = df[df.date_local==date]\n",
    "        \n",
    "        lons, lats = mp(list(sel_df.lon), list(sel_df.lat))\n",
    "        s.set_offsets(zip(lons,lats))\n",
    "        \n",
    "        return s,\n",
    "\n",
    "    # call the animator. blit=True means only re-draw the parts that have changed.\n",
    "    anim = animation.FuncAnimation(fig, animate, init_func=init,\n",
    "                                   frames=len(dates), interval=1000, blit=True)\n",
    "\n",
    "    return anim\n",
    "\n",
    "def round_up_to_nearest_half(x):\n",
    "    return math.ceil(x * 2) / 2"
   ]
  },
  {
   "cell_type": "code",
   "execution_count": 6,
   "metadata": {},
   "outputs": [
    {
     "ename": "KeyError",
     "evalue": "u'ffmpeg'",
     "output_type": "error",
     "traceback": [
      "\u001b[0;31m\u001b[0m",
      "\u001b[0;31mKeyError\u001b[0mTraceback (most recent call last)",
      "\u001b[0;32m<ipython-input-6-24d00dac9484>\u001b[0m in \u001b[0;36m<module>\u001b[0;34m()\u001b[0m\n\u001b[1;32m     10\u001b[0m \u001b[0manim\u001b[0m \u001b[0;34m=\u001b[0m \u001b[0manimate_map_latlon\u001b[0m\u001b[0;34m(\u001b[0m\u001b[0msel_df\u001b[0m\u001b[0;34m,\u001b[0m \u001b[0mbb\u001b[0m\u001b[0;34m,\u001b[0m \u001b[0mdates\u001b[0m\u001b[0;34m)\u001b[0m\u001b[0;34m\u001b[0m\u001b[0m\n\u001b[1;32m     11\u001b[0m \u001b[0;34m\u001b[0m\u001b[0m\n\u001b[0;32m---> 12\u001b[0;31m \u001b[0mHTML\u001b[0m\u001b[0;34m(\u001b[0m\u001b[0manim\u001b[0m\u001b[0;34m.\u001b[0m\u001b[0mto_html5_video\u001b[0m\u001b[0;34m(\u001b[0m\u001b[0;34m)\u001b[0m\u001b[0;34m)\u001b[0m\u001b[0;34m\u001b[0m\u001b[0m\n\u001b[0m",
      "\u001b[0;32m/home/graffc/.virtualenvs/fire_pred/lib/python2.7/site-packages/matplotlib/animation.pyc\u001b[0m in \u001b[0;36mto_html5_video\u001b[0;34m(self)\u001b[0m\n\u001b[1;32m   1203\u001b[0m                 \u001b[0;31m# We create a writer manually so that we can get the\u001b[0m\u001b[0;34m\u001b[0m\u001b[0;34m\u001b[0m\u001b[0m\n\u001b[1;32m   1204\u001b[0m                 \u001b[0;31m# appropriate size for the tag\u001b[0m\u001b[0;34m\u001b[0m\u001b[0;34m\u001b[0m\u001b[0m\n\u001b[0;32m-> 1205\u001b[0;31m                 \u001b[0mWriter\u001b[0m \u001b[0;34m=\u001b[0m \u001b[0mwriters\u001b[0m\u001b[0;34m[\u001b[0m\u001b[0mrcParams\u001b[0m\u001b[0;34m[\u001b[0m\u001b[0;34m'animation.writer'\u001b[0m\u001b[0;34m]\u001b[0m\u001b[0;34m]\u001b[0m\u001b[0;34m\u001b[0m\u001b[0m\n\u001b[0m\u001b[1;32m   1206\u001b[0m                 writer = Writer(codec='h264',\n\u001b[1;32m   1207\u001b[0m                                 \u001b[0mbitrate\u001b[0m\u001b[0;34m=\u001b[0m\u001b[0mrcParams\u001b[0m\u001b[0;34m[\u001b[0m\u001b[0;34m'animation.bitrate'\u001b[0m\u001b[0;34m]\u001b[0m\u001b[0;34m,\u001b[0m\u001b[0;34m\u001b[0m\u001b[0m\n",
      "\u001b[0;32m/home/graffc/.virtualenvs/fire_pred/lib/python2.7/site-packages/matplotlib/animation.pyc\u001b[0m in \u001b[0;36m__getitem__\u001b[0;34m(self, name)\u001b[0m\n\u001b[1;32m    158\u001b[0m         \u001b[0;32mif\u001b[0m \u001b[0;32mnot\u001b[0m \u001b[0mself\u001b[0m\u001b[0;34m.\u001b[0m\u001b[0mavail\u001b[0m\u001b[0;34m:\u001b[0m\u001b[0;34m\u001b[0m\u001b[0m\n\u001b[1;32m    159\u001b[0m             \u001b[0;32mraise\u001b[0m \u001b[0mRuntimeError\u001b[0m\u001b[0;34m(\u001b[0m\u001b[0;34m\"No MovieWriters available!\"\u001b[0m\u001b[0;34m)\u001b[0m\u001b[0;34m\u001b[0m\u001b[0m\n\u001b[0;32m--> 160\u001b[0;31m         \u001b[0;32mreturn\u001b[0m \u001b[0mself\u001b[0m\u001b[0;34m.\u001b[0m\u001b[0mavail\u001b[0m\u001b[0;34m[\u001b[0m\u001b[0mname\u001b[0m\u001b[0;34m]\u001b[0m\u001b[0;34m\u001b[0m\u001b[0m\n\u001b[0m\u001b[1;32m    161\u001b[0m \u001b[0;34m\u001b[0m\u001b[0m\n\u001b[1;32m    162\u001b[0m \u001b[0mwriters\u001b[0m \u001b[0;34m=\u001b[0m \u001b[0mMovieWriterRegistry\u001b[0m\u001b[0;34m(\u001b[0m\u001b[0;34m)\u001b[0m\u001b[0;34m\u001b[0m\u001b[0m\n",
      "\u001b[0;31mKeyError\u001b[0m: u'ffmpeg'"
     ]
    }
   ],
   "source": [
    "CLUSTER_ID = 198\n",
    "\n",
    "sel_df = cluster_id_df[cluster_id_df.cluster_id==CLUSTER_ID]\n",
    "date_start, date_end = np.min(sel_df.date_local), np.max(sel_df.date_local)\n",
    "dates = [d for d in du.daterange(date_start, date_end)]\n",
    "\n",
    "lat_min, lat_max, lon_min, lon_max = np.min(sel_df.lat), np.max(sel_df.lat), np.min(sel_df.lon), np.max(sel_df.lon)\n",
    "bb = LatLonBoundingBox(round_up_to_nearest_half(lat_min-1), round_up_to_nearest_half(lat_max+1), round_up_to_nearest_half(lon_min-1), round_up_to_nearest_half(lon_max+1))\n",
    "\n",
    "anim = animate_map_latlon(sel_df, bb, dates)\n",
    "\n",
    "HTML(anim.to_html5_video())"
   ]
  },
  {
   "cell_type": "markdown",
   "metadata": {},
   "source": [
    "## Compare clusters to previous clustering"
   ]
  },
  {
   "cell_type": "code",
   "execution_count": null,
   "metadata": {
    "collapsed": true
   },
   "outputs": [],
   "source": [
    "cluster_id_df_old = load_cluster_df(os.path.join(DATA_DIR, 'archived/cluster/clust_df_5.pkl'))"
   ]
  },
  {
   "cell_type": "code",
   "execution_count": null,
   "metadata": {
    "collapsed": true
   },
   "outputs": [],
   "source": [
    "cluster_id_df_old"
   ]
  },
  {
   "cell_type": "code",
   "execution_count": null,
   "metadata": {
    "collapsed": true
   },
   "outputs": [],
   "source": [
    "def animate_map_latlon_old(df, bb, dates):\n",
    "    fig = plt.figure(figsize=(10,15))\n",
    "\n",
    "    mp = make_map(bb)\n",
    "    mp.shadedrelief()\n",
    "\n",
    "    s = mp.scatter([], [], 30, latlon=True, marker='o', color='b')\n",
    "\n",
    "    def init():\n",
    "        s.set_offsets([])\n",
    "        return s,\n",
    "\n",
    "    def animate(i):\n",
    "        dayofyear = dates[i]\n",
    "        \n",
    "        _ = plt.title('Day %d' % (dayofyear))\n",
    "        \n",
    "        sel_df = df[df.dayofyear==dayofyear]\n",
    "        \n",
    "        lons, lats = mp(list(sel_df.lon), list(sel_df.lat))\n",
    "        s.set_offsets(zip(lons,lats))\n",
    "        \n",
    "        return s,\n",
    "\n",
    "    # call the animator. blit=True means only re-draw the parts that have changed.\n",
    "    anim = animation.FuncAnimation(fig, animate, init_func=init,\n",
    "                                   frames=len(dates), interval=1000, blit=True)\n",
    "\n",
    "    return anim"
   ]
  },
  {
   "cell_type": "code",
   "execution_count": null,
   "metadata": {
    "collapsed": true
   },
   "outputs": [],
   "source": [
    "CLUSTER_ID = 244\n",
    "\n",
    "sel_df = cluster_id_df_old[cluster_id_df_old.cluster==CLUSTER_ID]\n",
    "\n",
    "date_start, date_end = np.min(sel_df.dayofyear), np.max(sel_df.dayofyear)\n",
    "dates = range(date_start, date_end)\n",
    "\n",
    "lat_min, lat_max, lon_min, lon_max = np.min(sel_df.lat), np.max(sel_df.lat), np.min(sel_df.lon), np.max(sel_df.lon)\n",
    "bb = LatLonBoundingBox(round_up_to_nearest_half(lat_min-1), round_up_to_nearest_half(lat_max+1), round_up_to_nearest_half(lon_min-1), round_up_to_nearest_half(lon_max+1))\n",
    "\n",
    "anim = animate_map_latlon_old(sel_df, bb, dates)\n",
    "\n",
    "HTML(anim.to_html5_video())"
   ]
  },
  {
   "cell_type": "code",
   "execution_count": null,
   "metadata": {
    "collapsed": true
   },
   "outputs": [],
   "source": []
  }
 ],
 "metadata": {
  "kernelspec": {
   "display_name": "Python 2",
   "language": "python",
   "name": "python2"
  },
  "language_info": {
   "codemirror_mode": {
    "name": "ipython",
    "version": 2
   },
   "file_extension": ".py",
   "mimetype": "text/x-python",
   "name": "python",
   "nbconvert_exporter": "python",
   "pygments_lexer": "ipython2",
   "version": "2.7.5"
  }
 },
 "nbformat": 4,
 "nbformat_minor": 2
}
