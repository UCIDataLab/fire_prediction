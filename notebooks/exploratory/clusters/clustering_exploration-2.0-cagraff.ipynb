{
 "cells": [
  {
   "cell_type": "code",
   "execution_count": null,
   "metadata": {},
   "outputs": [],
   "source": [
    "REP_DIR = '/home/cagraff/Documents/dev/fire_prediction/'\n",
    "SRC_DIR = REP_DIR + 'src/'\n",
    "DATA_DIR = REP_DIR + 'data/'\n",
    "\n",
    "# Load system-wide packages\n",
    "import os\n",
    "from matplotlib import pyplot as plt\n",
    "import numpy as np\n",
    "from scipy.stats import cumfreq\n",
    "from scipy.stats.stats import pearsonr\n",
    "import datetime as dt\n",
    "import pytz\n",
    "import time\n",
    "from matplotlib import animation, rc\n",
    "from IPython.display import HTML\n",
    "import math\n",
    "#%matplotlib inline\n",
    "\n",
    "# Load project packages\n",
    "os.chdir(SRC_DIR)\n",
    "from features.loaders import load_cluster_df\n",
    "from helper import date_util as du\n",
    "from visualization.mapping import make_map\n",
    "from helper.geometry import get_default_bounding_box, LatLonBoundingBox"
   ]
  },
  {
   "cell_type": "code",
   "execution_count": null,
   "metadata": {},
   "outputs": [],
   "source": [
    "# Load data\n",
    "cluster_id_5km_3day_f_df = load_cluster_df(os.path.join(DATA_DIR, 'interim/modis/fire_cluster/fire_cluster_ids_5km_3days_forwards_modis_alaska_2007-2016.pkl'))\n",
    "cluster_id_5km_3day_df = load_cluster_df(os.path.join(DATA_DIR, 'interim/modis/fire_cluster/fire_cluster_ids_5km_3day_modis_alaska_2007-2016.pkl'))\n",
    "cluster_id_5km_df = load_cluster_df(os.path.join(DATA_DIR, 'interim/modis/fire_cluster/fire_cluster_ids_5km_modis_alaska_2007-2016.pkl'))\n",
    "cluster_id_5km_10day_df = load_cluster_df(os.path.join(DATA_DIR, 'interim/modis/fire_cluster/fire_cluster_ids_5km_10days_modis_alaska_2007-2016.pkl'))"
   ]
  },
  {
   "cell_type": "code",
   "execution_count": null,
   "metadata": {},
   "outputs": [],
   "source": [
    "cluster_id_5km_10day_df"
   ]
  },
  {
   "cell_type": "code",
   "execution_count": null,
   "metadata": {},
   "outputs": [],
   "source": [
    "cluster_counts = []\n",
    "for i in range(int(max(cluster_id_5km_df.cluster_id))):\n",
    "    sel_df = cluster_id_5km_df[cluster_id_5km_df.cluster_id==i]\n",
    "    cluster_counts.append((i, len(sel_df)))\n",
    "cluster_counts.sort(reverse=True, key=lambda x: x[1])\n",
    "print 'Num clusters: %d' % len(cluster_counts)\n",
    "print [c for c in cluster_counts if c[1]][:20]"
   ]
  },
  {
   "cell_type": "code",
   "execution_count": null,
   "metadata": {},
   "outputs": [],
   "source": [
    "cluster_counts = []\n",
    "for i in range(int(max(cluster_id_5km_3day_df.cluster_id))):\n",
    "    sel_df = cluster_id_5km_3day_df[cluster_id_5km_3day_df.cluster_id==i]\n",
    "    cluster_counts.append((i, len(sel_df)))\n",
    "cluster_counts.sort(reverse=True, key=lambda x: x[1])\n",
    "print 'Num clusters: %d' % len(cluster_counts)\n",
    "print [c for c in cluster_counts if c[1]][:20]"
   ]
  },
  {
   "cell_type": "code",
   "execution_count": null,
   "metadata": {},
   "outputs": [],
   "source": [
    "cluster_counts = []\n",
    "for i in range(int(max(cluster_id_5km_10day_df.cluster_id))):\n",
    "    sel_df = cluster_id_5km_10day_df[cluster_id_5km_10day_df.cluster_id==i]\n",
    "    cluster_counts.append((i, len(sel_df)))\n",
    "cluster_counts.sort(reverse=True, key=lambda x: x[1])\n",
    "print 'Num clusters: %d' % len(cluster_counts)\n",
    "print [c for c in cluster_counts if c[1]][:20]"
   ]
  },
  {
   "cell_type": "code",
   "execution_count": null,
   "metadata": {},
   "outputs": [],
   "source": [
    "cluster_counts = []\n",
    "for i in range(int(max(cluster_id_5km_3day_f_df.cluster_id))):\n",
    "    sel_df = cluster_id_5km_3day_f_df[cluster_id_5km_3day_f_df.cluster_id==i]\n",
    "    cluster_counts.append((i, len(sel_df)))\n",
    "cluster_counts.sort(reverse=True, key=lambda x: x[1])\n",
    "print 'Num clusters: %d' % len(cluster_counts)\n",
    "print [c for c in cluster_counts if c[1]][:20]"
   ]
  },
  {
   "cell_type": "code",
   "execution_count": null,
   "metadata": {},
   "outputs": [],
   "source": []
  },
  {
   "cell_type": "code",
   "execution_count": null,
   "metadata": {},
   "outputs": [],
   "source": [
    "ALASKA_BB = get_default_bounding_box()\n",
    "\n",
    "def animate_map_latlon(df, bb, dates):\n",
    "    fig = plt.figure(figsize=(10,15))\n",
    "\n",
    "    mp = make_map(bb)\n",
    "    mp.shadedrelief()\n",
    "\n",
    "    s2 = mp.scatter([], [], 30, latlon=True, marker='o', color='b', alpha=.7)\n",
    "    s = mp.scatter([], [], 30, latlon=True, marker='o', color='r', alpha=.7)\n",
    "    \n",
    "\n",
    "    def init():\n",
    "        s.set_offsets([])\n",
    "        s2.set_offsets([])\n",
    "        return s, s2\n",
    "\n",
    "    def animate(i):\n",
    "        date = dates[i]\n",
    "        \n",
    "        _ = plt.title('Date %s (day %d)' % (str(date), du.dayofyear_from_datetime(date)))\n",
    "        \n",
    "        sel_df = df[df.date_local==date]\n",
    "        \n",
    "        lons, lats = mp(list(sel_df.lon), list(sel_df.lat))\n",
    "        s.set_offsets(zip(lons,lats))\n",
    "        \n",
    "        sel_df = df[df.date_local<date]\n",
    "        lons, lats = mp(list(sel_df.lon), list(sel_df.lat))\n",
    "        s2.set_offsets(zip(lons,lats))\n",
    "        \n",
    "        return s, s2\n",
    "\n",
    "    # call the animator. blit=True means only re-draw the parts that have changed.\n",
    "    anim = animation.FuncAnimation(fig, animate, init_func=init,\n",
    "                                   frames=len(dates), interval=1000, blit=True)\n",
    "\n",
    "    return anim\n",
    "\n",
    "def round_up_to_nearest_half(x):\n",
    "    return math.ceil(x * 2) / 2"
   ]
  },
  {
   "cell_type": "code",
   "execution_count": null,
   "metadata": {},
   "outputs": [],
   "source": [
    "CLUSTER_ID = 198\n",
    "\n",
    "sel_df = cluster_id_5km_df[cluster_id_5km_df.cluster_id==CLUSTER_ID]\n",
    "date_start, date_end = np.min(sel_df.date_local), np.max(sel_df.date_local)\n",
    "dates = [d for d in du.daterange(date_start, date_end)]\n",
    "\n",
    "lat_min, lat_max, lon_min, lon_max = np.min(sel_df.lat), np.max(sel_df.lat), np.min(sel_df.lon), np.max(sel_df.lon)\n",
    "bb = LatLonBoundingBox(round_up_to_nearest_half(lat_min-1), round_up_to_nearest_half(lat_max+1), round_up_to_nearest_half(lon_min-1), round_up_to_nearest_half(lon_max+1))\n",
    "\n",
    "anim = animate_map_latlon(sel_df, bb, dates)\n",
    "\n",
    "HTML(anim.to_html5_video())"
   ]
  },
  {
   "cell_type": "code",
   "execution_count": null,
   "metadata": {},
   "outputs": [],
   "source": [
    "CLUSTER_ID = 301\n",
    "\n",
    "sel_df = cluster_id_5km_3day_df[cluster_id_5km_3day_df.cluster_id==CLUSTER_ID]\n",
    "date_start, date_end = np.min(sel_df.date_local), np.max(sel_df.date_local)\n",
    "dates = [d for d in du.daterange(date_start, date_end)]\n",
    "\n",
    "lat_min, lat_max, lon_min, lon_max = np.min(sel_df.lat), np.max(sel_df.lat), np.min(sel_df.lon), np.max(sel_df.lon)\n",
    "#bb = LatLonBoundingBox(round_up_to_nearest_half(lat_min-1), round_up_to_nearest_half(lat_max+1), round_up_to_nearest_half(lon_min-1), round_up_to_nearest_half(lon_max+1))\n",
    "\n",
    "anim = animate_map_latlon(sel_df, bb, dates)\n",
    "\n",
    "HTML(anim.to_html5_video())"
   ]
  },
  {
   "cell_type": "code",
   "execution_count": null,
   "metadata": {},
   "outputs": [],
   "source": [
    "CLUSTER_ID = 381\n",
    "\n",
    "sel_df = cluster_id_5km_10day_df[cluster_id_5km_10day_df.cluster_id==CLUSTER_ID]\n",
    "date_start, date_end = np.min(sel_df.date_local), np.max(sel_df.date_local)\n",
    "dates = [d for d in du.daterange(date_start, date_end)]\n",
    "\n",
    "lat_min, lat_max, lon_min, lon_max = np.min(sel_df.lat), np.max(sel_df.lat), np.min(sel_df.lon), np.max(sel_df.lon)\n",
    "#bb = LatLonBoundingBox(round_up_to_nearest_half(lat_min-1), round_up_to_nearest_half(lat_max+1), round_up_to_nearest_half(lon_min-1), round_up_to_nearest_half(lon_max+1))\n",
    "\n",
    "anim = animate_map_latlon(sel_df, bb, dates)\n",
    "\n",
    "HTML(anim.to_html5_video())"
   ]
  },
  {
   "cell_type": "code",
   "execution_count": null,
   "metadata": {},
   "outputs": [],
   "source": [
    "CLUSTER_ID = 381\n",
    "\n",
    "sel_df = cluster_id_5km_3day_f_df[cluster_id_5km_3day_f_df.cluster_id==CLUSTER_ID]\n",
    "date_start, date_end = np.min(sel_df.date_local), np.max(sel_df.date_local)\n",
    "dates = [d for d in du.daterange(date_start, date_end)]\n",
    "\n",
    "lat_min, lat_max, lon_min, lon_max = np.min(sel_df.lat), np.max(sel_df.lat), np.min(sel_df.lon), np.max(sel_df.lon)\n",
    "#bb = LatLonBoundingBox(round_up_to_nearest_half(lat_min-1), round_up_to_nearest_half(lat_max+1), round_up_to_nearest_half(lon_min-1), round_up_to_nearest_half(lon_max+1))\n",
    "\n",
    "anim = animate_map_latlon(sel_df, bb, dates)\n",
    "\n",
    "HTML(anim.to_html5_video())"
   ]
  },
  {
   "cell_type": "code",
   "execution_count": null,
   "metadata": {},
   "outputs": [],
   "source": [
    "CLUSTER_ID = 374\n",
    "\n",
    "sel_df = cluster_id_5km_3day_f_df[cluster_id_5km_3day_f_df.cluster_id==CLUSTER_ID]\n",
    "date_start, date_end = np.min(sel_df.date_local), np.max(sel_df.date_local)\n",
    "dates = [d for d in du.daterange(date_start, date_end)]\n",
    "\n",
    "lat_min, lat_max, lon_min, lon_max = np.min(sel_df.lat), np.max(sel_df.lat), np.min(sel_df.lon), np.max(sel_df.lon)\n",
    "#bb = LatLonBoundingBox(round_up_to_nearest_half(lat_min-1), round_up_to_nearest_half(lat_max+1), round_up_to_nearest_half(lon_min-1), round_up_to_nearest_half(lon_max+1))\n",
    "\n",
    "anim = animate_map_latlon(sel_df, bb, dates)\n",
    "\n",
    "HTML(anim.to_html5_video())"
   ]
  },
  {
   "cell_type": "markdown",
   "metadata": {},
   "source": [
    "## Compare clusters to previous clustering"
   ]
  },
  {
   "cell_type": "code",
   "execution_count": null,
   "metadata": {},
   "outputs": [],
   "source": [
    "cluster_id_df_old = load_cluster_df(os.path.join(DATA_DIR, 'archived/cluster/clust_df_5.pkl'))"
   ]
  },
  {
   "cell_type": "code",
   "execution_count": null,
   "metadata": {},
   "outputs": [],
   "source": [
    "cluster_id_df_old"
   ]
  },
  {
   "cell_type": "code",
   "execution_count": null,
   "metadata": {},
   "outputs": [],
   "source": [
    "def animate_map_latlon_old(df, bb, dates):\n",
    "    fig = plt.figure(figsize=(10,15))\n",
    "\n",
    "    mp = make_map(bb)\n",
    "    mp.shadedrelief()\n",
    "\n",
    "    s = mp.scatter([], [], 30, latlon=True, marker='o', color='b')\n",
    "\n",
    "    def init():\n",
    "        s.set_offsets([])\n",
    "        return s,\n",
    "\n",
    "    def animate(i):\n",
    "        dayofyear = dates[i]\n",
    "        \n",
    "        _ = plt.title('Day %d' % (dayofyear))\n",
    "        \n",
    "        sel_df = df[df.dayofyear==dayofyear]\n",
    "        \n",
    "        lons, lats = mp(list(sel_df.lon), list(sel_df.lat))\n",
    "        s.set_offsets(zip(lons,lats))\n",
    "        \n",
    "        return s,\n",
    "\n",
    "    # call the animator. blit=True means only re-draw the parts that have changed.\n",
    "    anim = animation.FuncAnimation(fig, animate, init_func=init,\n",
    "                                   frames=len(dates), interval=1000, blit=True)\n",
    "\n",
    "    return anim"
   ]
  },
  {
   "cell_type": "code",
   "execution_count": null,
   "metadata": {},
   "outputs": [],
   "source": [
    "CLUSTER_ID = 244\n",
    "\n",
    "sel_df = cluster_id_df_old[cluster_id_df_old.cluster==CLUSTER_ID]\n",
    "\n",
    "date_start, date_end = np.min(sel_df.dayofyear), np.max(sel_df.dayofyear)\n",
    "dates = range(date_start, date_end)\n",
    "\n",
    "lat_min, lat_max, lon_min, lon_max = np.min(sel_df.lat), np.max(sel_df.lat), np.min(sel_df.lon), np.max(sel_df.lon)\n",
    "bb = LatLonBoundingBox(round_up_to_nearest_half(lat_min-1), round_up_to_nearest_half(lat_max+1), round_up_to_nearest_half(lon_min-1), round_up_to_nearest_half(lon_max+1))\n",
    "\n",
    "anim = animate_map_latlon_old(sel_df, bb, dates)\n",
    "\n",
    "HTML(anim.to_html5_video())"
   ]
  },
  {
   "cell_type": "code",
   "execution_count": null,
   "metadata": {},
   "outputs": [],
   "source": []
  }
 ],
 "metadata": {
  "language_info": {
   "name": "python",
   "pygments_lexer": "ipython3"
  }
 },
 "nbformat": 4,
 "nbformat_minor": 2
}
