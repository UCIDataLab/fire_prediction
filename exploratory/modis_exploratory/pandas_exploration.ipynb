{
 "cells": [
  {
   "cell_type": "code",
   "execution_count": 2,
   "metadata": {
    "collapsed": true
   },
   "outputs": [],
   "source": [
    "import cPickle\n",
    "import numpy as np\n",
    "import pandas as pd\n",
    "from carpentry.raw_to_dict import read_raw_data"
   ]
  },
  {
   "cell_type": "code",
   "execution_count": 6,
   "metadata": {
    "collapsed": false
   },
   "outputs": [
    {
     "name": "stdout",
     "output_type": "stream",
     "text": [
      "loaded dataset with 470478 points\n"
     ]
    }
   ],
   "source": [
    "# Load one month first just to see how it works\n",
    "dl = read_raw_data(\"mcd14ml/MCD14ML.201307.006.01.txt\")[1:]\n",
    "print \"loaded dataset with %d points\" %(len(dl))"
   ]
  },
  {
   "cell_type": "code",
   "execution_count": 9,
   "metadata": {
    "collapsed": false
   },
   "outputs": [
    {
     "name": "stdout",
     "output_type": "stream",
     "text": [
      "created a dataframe of size 470478\n"
     ]
    }
   ],
   "source": [
    "# Create a pandas DataFrame using a dict\n",
    "pd_dict = dict()\n",
    "pd_dict['year'] = np.array(map(lambda x: x[0], dl))\n",
    "pd_dict['month'] = np.array(map(lambda x: x[1], dl))\n",
    "pd_dict['day'] = np.array(map(lambda x: x[2], dl))\n",
    "pd_dict['lat'] = np.array(map(lambda x: x[3], dl))\n",
    "pd_dict['long'] = np.array(map(lambda x: x[4], dl))\n",
    "pd_dict['frp'] = np.array(map(lambda x: x[5], dl))\n",
    "pd_dict['confidence'] = np.array(map(lambda x: x[6], dl))\n",
    "df = pd.DataFrame(pd_dict)\n",
    "print \"created a dataframe of size %d\" %(len(df))"
   ]
  },
  {
   "cell_type": "code",
   "execution_count": 29,
   "metadata": {
    "collapsed": false
   },
   "outputs": [
    {
     "name": "stdout",
     "output_type": "stream",
     "text": [
      "21.984650447\n",
      "5.09222724548\n",
      "49.1717155744\n",
      "confidence       0.000\n",
      "day              1.000\n",
      "frp             13.400\n",
      "lat             56.642\n",
      "long           161.314\n",
      "month            7.000\n",
      "year          2013.000\n",
      "Name: 0, dtype: float64\n",
      "        confidence  day    frp     lat     long  month  year\n",
      "0             0.00    1   13.4  56.642  161.314      7  2013\n",
      "1             0.58    1   14.4  55.130  160.320      7  2013\n",
      "2             0.53    1    5.9  55.128  160.335      7  2013\n",
      "97            1.00    1  162.9  52.379  -69.630      7  2013\n",
      "98            0.85    1   79.9  52.372  -69.659      7  2013\n",
      "99            0.83    1   52.5  52.484  -69.412      7  2013\n",
      "100           0.60    1   42.6  52.477  -69.440      7  2013\n",
      "101           0.14    1   49.1  52.489  -69.448      7  2013\n",
      "102           0.46    1   72.6  52.486  -69.421      7  2013\n",
      "103           0.26    1   17.7  52.434  -69.640      7  2013\n",
      "104           0.70    1   55.5  52.491  -69.455      7  2013\n",
      "105           0.46    1   27.7  52.611  -69.698      7  2013\n",
      "106           0.73    1   35.5  52.531  -70.034      7  2013\n",
      "107           0.79    1   35.8  52.613  -69.706      7  2013\n",
      "108           0.69    1   32.6  52.531  -70.041      7  2013\n",
      "109           1.00    1  159.5  51.250  -74.924      7  2013\n",
      "110           0.38    1   54.0  51.235  -74.974      7  2013\n",
      "111           0.31    1   26.4  63.501  123.329      7  2013\n",
      "112           0.00    1   77.6  63.365  121.230      7  2013\n",
      "113           0.00    1   51.9  63.363  121.221      7  2013\n",
      "114           0.54    1   60.5  63.342  123.098      7  2013\n",
      "115           0.62    1   92.8  63.103  122.265      7  2013\n",
      "116           0.26    1   63.9  63.008  120.887      7  2013\n",
      "117           0.34    1   31.7  63.064  121.625      7  2013\n",
      "118           0.36    1   52.1  62.832  120.886      7  2013\n",
      "119           0.29    1   53.4  62.814  120.878      7  2013\n",
      "120           0.27    1   48.5  62.673  121.045      7  2013\n",
      "121           0.85    1   27.9  58.168  140.307      7  2013\n",
      "122           0.91    1   42.3  58.165  140.323      7  2013\n",
      "123           0.46    1    5.5  58.159  140.302      7  2013\n",
      "...            ...  ...    ...     ...      ...    ...   ...\n",
      "470417        1.00   31   27.2  28.500   49.721      7  2013\n",
      "470418        0.86   31    8.2  28.493   49.709      7  2013\n",
      "470419        1.00   31   24.9  28.491   49.719      7  2013\n",
      "470420        0.84   31   13.9  27.936   52.200      7  2013\n",
      "470421        0.65   31   17.5  26.852   55.865      7  2013\n",
      "470422        0.94   31   11.0  27.025   49.579      7  2013\n",
      "470423        0.92   31   14.9  25.936   51.608      7  2013\n",
      "470424        0.95   31   16.1  25.934   51.621      7  2013\n",
      "470425        0.87   31   17.6  25.529   53.156      7  2013\n",
      "470426        0.78   31    8.0  25.641   49.396      7  2013\n",
      "470427        0.70   31    7.3  25.442   49.367      7  2013\n",
      "470459        0.82   31   21.7  19.398 -155.275      7  2013\n",
      "470460        0.89   31   31.0  19.396 -155.284      7  2013\n",
      "470461        1.00   31  100.7  19.407 -155.276      7  2013\n",
      "470462        1.00   31  261.1  19.405 -155.286      7  2013\n",
      "470463        0.47   31  139.3  60.984 -154.917      7  2013\n",
      "470464        0.69   31  223.7  60.982 -154.964      7  2013\n",
      "470465        0.53   31   62.6  60.980 -155.009      7  2013\n",
      "470466        0.82   31   97.2  60.995 -154.966      7  2013\n",
      "470467        0.52   31   41.9  60.994 -155.011      7  2013\n",
      "470468        0.25   31   77.3  60.977 -154.924      7  2013\n",
      "470469        0.87   31  107.6  60.976 -154.970      7  2013\n",
      "470470        0.89   31  152.8  60.991 -154.928      7  2013\n",
      "470471        0.95   31  200.7  60.989 -154.974      7  2013\n",
      "470472        0.00   31   46.7  61.275 -155.213      7  2013\n",
      "470473        0.60   31  130.6  61.287 -155.261      7  2013\n",
      "470474        0.43   31   18.1  61.548 -155.098      7  2013\n",
      "470475        0.79   31   87.0  63.441 -152.122      7  2013\n",
      "470476        0.52   31   51.6  63.450 -152.124      7  2013\n",
      "470477        0.41   31   30.6  63.979 -151.337      7  2013\n",
      "\n",
      "[124934 rows x 7 columns]\n"
     ]
    }
   ],
   "source": [
    "# Now, play around with it\n",
    "print np.mean(df.long)\n",
    "print np.mean(df.lat)\n",
    "print np.mean(df.frp)\n",
    "print df.loc[0]\n",
    "print df[df.lat > 0]"
   ]
  },
  {
   "cell_type": "code",
   "execution_count": null,
   "metadata": {
    "collapsed": true
   },
   "outputs": [],
   "source": []
  },
  {
   "cell_type": "code",
   "execution_count": null,
   "metadata": {
    "collapsed": true
   },
   "outputs": [],
   "source": []
  }
 ],
 "metadata": {
  "kernelspec": {
   "display_name": "Python [Root]",
   "language": "python",
   "name": "Python [Root]"
  },
  "language_info": {
   "codemirror_mode": {
    "name": "ipython",
    "version": 2
   },
   "file_extension": ".py",
   "mimetype": "text/x-python",
   "name": "python",
   "nbconvert_exporter": "python",
   "pygments_lexer": "ipython2",
   "version": "2.7.12"
  }
 },
 "nbformat": 4,
 "nbformat_minor": 0
}
