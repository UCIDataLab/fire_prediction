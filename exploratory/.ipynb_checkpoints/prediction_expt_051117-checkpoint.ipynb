{
 "cells": [
  {
   "cell_type": "code",
   "execution_count": 1,
   "metadata": {
    "collapsed": true
   },
   "outputs": [],
   "source": [
    "import statsmodels.formula.api as smf\n",
    "import statsmodels as sm\n",
    "import numpy as np\n",
    "import cPickle\n",
    "import matplotlib.pyplot as plt\n",
    "import pandas as pd\n",
    "import os\n",
    "os.chdir('/Users/zbutler/research/fire_prediction')\n",
    "import prediction.poisson_regression as pr\n",
    "%matplotlib inline"
   ]
  },
  {
   "cell_type": "code",
   "execution_count": 68,
   "metadata": {
    "collapsed": false,
    "scrolled": true
   },
   "outputs": [
    {
     "data": {
      "text/html": [
       "<div>\n",
       "<table border=\"1\" class=\"dataframe\">\n",
       "  <thead>\n",
       "    <tr style=\"text-align: right;\">\n",
       "      <th></th>\n",
       "      <th>day</th>\n",
       "      <th>dayofyear</th>\n",
       "      <th>humidity</th>\n",
       "      <th>month</th>\n",
       "      <th>n_clusters</th>\n",
       "      <th>n_det</th>\n",
       "      <th>temp</th>\n",
       "      <th>vpd</th>\n",
       "      <th>year</th>\n",
       "    </tr>\n",
       "  </thead>\n",
       "  <tbody>\n",
       "    <tr>\n",
       "      <th>27</th>\n",
       "      <td>15</td>\n",
       "      <td>134</td>\n",
       "      <td>69.719748</td>\n",
       "      <td>5</td>\n",
       "      <td>0</td>\n",
       "      <td>0</td>\n",
       "      <td>280.113025</td>\n",
       "      <td>0.421158</td>\n",
       "      <td>2010</td>\n",
       "    </tr>\n",
       "    <tr>\n",
       "      <th>28</th>\n",
       "      <td>16</td>\n",
       "      <td>135</td>\n",
       "      <td>72.449160</td>\n",
       "      <td>5</td>\n",
       "      <td>0</td>\n",
       "      <td>0</td>\n",
       "      <td>280.699440</td>\n",
       "      <td>0.399570</td>\n",
       "      <td>2010</td>\n",
       "    </tr>\n",
       "    <tr>\n",
       "      <th>29</th>\n",
       "      <td>17</td>\n",
       "      <td>136</td>\n",
       "      <td>71.776891</td>\n",
       "      <td>5</td>\n",
       "      <td>1</td>\n",
       "      <td>7</td>\n",
       "      <td>280.084874</td>\n",
       "      <td>0.396307</td>\n",
       "      <td>2010</td>\n",
       "    </tr>\n",
       "    <tr>\n",
       "      <th>30</th>\n",
       "      <td>18</td>\n",
       "      <td>137</td>\n",
       "      <td>67.335014</td>\n",
       "      <td>5</td>\n",
       "      <td>2</td>\n",
       "      <td>9</td>\n",
       "      <td>282.131653</td>\n",
       "      <td>0.520026</td>\n",
       "      <td>2010</td>\n",
       "    </tr>\n",
       "    <tr>\n",
       "      <th>31</th>\n",
       "      <td>19</td>\n",
       "      <td>138</td>\n",
       "      <td>63.952241</td>\n",
       "      <td>5</td>\n",
       "      <td>2</td>\n",
       "      <td>107</td>\n",
       "      <td>283.857283</td>\n",
       "      <td>0.657854</td>\n",
       "      <td>2010</td>\n",
       "    </tr>\n",
       "    <tr>\n",
       "      <th>32</th>\n",
       "      <td>20</td>\n",
       "      <td>139</td>\n",
       "      <td>63.493417</td>\n",
       "      <td>5</td>\n",
       "      <td>3</td>\n",
       "      <td>27</td>\n",
       "      <td>284.309804</td>\n",
       "      <td>0.705236</td>\n",
       "      <td>2010</td>\n",
       "    </tr>\n",
       "    <tr>\n",
       "      <th>33</th>\n",
       "      <td>21</td>\n",
       "      <td>140</td>\n",
       "      <td>66.646078</td>\n",
       "      <td>5</td>\n",
       "      <td>4</td>\n",
       "      <td>8</td>\n",
       "      <td>283.376050</td>\n",
       "      <td>0.562632</td>\n",
       "      <td>2010</td>\n",
       "    </tr>\n",
       "    <tr>\n",
       "      <th>34</th>\n",
       "      <td>22</td>\n",
       "      <td>141</td>\n",
       "      <td>59.812745</td>\n",
       "      <td>5</td>\n",
       "      <td>2</td>\n",
       "      <td>31</td>\n",
       "      <td>285.993417</td>\n",
       "      <td>0.823788</td>\n",
       "      <td>2010</td>\n",
       "    </tr>\n",
       "    <tr>\n",
       "      <th>35</th>\n",
       "      <td>23</td>\n",
       "      <td>142</td>\n",
       "      <td>63.460364</td>\n",
       "      <td>5</td>\n",
       "      <td>1</td>\n",
       "      <td>6</td>\n",
       "      <td>284.583473</td>\n",
       "      <td>0.672060</td>\n",
       "      <td>2010</td>\n",
       "    </tr>\n",
       "    <tr>\n",
       "      <th>36</th>\n",
       "      <td>24</td>\n",
       "      <td>143</td>\n",
       "      <td>65.049580</td>\n",
       "      <td>5</td>\n",
       "      <td>1</td>\n",
       "      <td>1</td>\n",
       "      <td>284.190056</td>\n",
       "      <td>0.620077</td>\n",
       "      <td>2010</td>\n",
       "    </tr>\n",
       "  </tbody>\n",
       "</table>\n",
       "</div>"
      ],
      "text/plain": [
       "    day  dayofyear   humidity  month  n_clusters  n_det        temp       vpd  \\\n",
       "27   15        134  69.719748      5           0      0  280.113025  0.421158   \n",
       "28   16        135  72.449160      5           0      0  280.699440  0.399570   \n",
       "29   17        136  71.776891      5           1      7  280.084874  0.396307   \n",
       "30   18        137  67.335014      5           2      9  282.131653  0.520026   \n",
       "31   19        138  63.952241      5           2    107  283.857283  0.657854   \n",
       "32   20        139  63.493417      5           3     27  284.309804  0.705236   \n",
       "33   21        140  66.646078      5           4      8  283.376050  0.562632   \n",
       "34   22        141  59.812745      5           2     31  285.993417  0.823788   \n",
       "35   23        142  63.460364      5           1      6  284.583473  0.672060   \n",
       "36   24        143  65.049580      5           1      1  284.190056  0.620077   \n",
       "\n",
       "    year  \n",
       "27  2010  \n",
       "28  2010  \n",
       "29  2010  \n",
       "30  2010  \n",
       "31  2010  \n",
       "32  2010  \n",
       "33  2010  \n",
       "34  2010  \n",
       "35  2010  \n",
       "36  2010  "
      ]
     },
     "execution_count": 68,
     "metadata": {},
     "output_type": "execute_result"
    }
   ],
   "source": [
    "# First, load our dataset\n",
    "with open('data/global_df.pkl') as fpkl:\n",
    "    global_df = cPickle.load(fpkl)\n",
    "summer_df = global_df[(global_df.dayofyear >= 134) & (global_df.dayofyear <= 242)]\n",
    "summer_df[0:10]"
   ]
  },
  {
   "cell_type": "code",
   "execution_count": 172,
   "metadata": {
    "collapsed": false
   },
   "outputs": [
    {
     "name": "stdout",
     "output_type": "stream",
     "text": [
      "27    0\n",
      "Name: n_det, dtype: int64\n",
      "Old df had 762 rows, new one without nans has 739\n",
      "     n_det_1   n_det_3   n_det_5  n_det_10  normtemp   normvpd  normhumidity  \\\n",
      "0   0.693147  3.465736  3.332205  0.000000 -0.739954 -0.361175      0.139279   \n",
      "1   1.791759  1.945910  2.197225  0.000000 -0.343657  0.123923     -0.266653   \n",
      "2   3.970292  0.693147  3.465736  2.079442  0.200548  0.578950     -0.656887   \n",
      "3   5.105945  1.791759  1.945910  2.302585  0.759597  1.478497     -1.638235   \n",
      "4   6.035481  3.970292  0.693147  4.682131  0.600367  1.240071     -1.428790   \n",
      "5   6.369901  5.105945  1.791759  3.332205  0.891906  1.641281     -1.722087   \n",
      "6   6.079933  6.035481  3.970292  2.197225  0.851744  1.617921     -1.641602   \n",
      "7   5.934894  6.369901  5.105945  3.465736  0.168878  0.530835     -0.673071   \n",
      "8   5.780744  6.079933  6.035481  1.945910 -0.801501 -0.401364     -0.012549   \n",
      "9   5.135798  5.934894  6.369901  0.693147 -0.197668  0.241892     -0.955728   \n",
      "10  4.753590  5.780744  6.079933  1.791759 -0.477758 -0.316563      0.035952   \n",
      "\n",
      "    dayofyear    year    y  \n",
      "0       144.0  2010.0    5  \n",
      "1       145.0  2010.0   52  \n",
      "2       146.0  2010.0  164  \n",
      "3       147.0  2010.0  417  \n",
      "4       148.0  2010.0  583  \n",
      "5       149.0  2010.0  436  \n",
      "6       150.0  2010.0  377  \n",
      "7       151.0  2010.0  323  \n",
      "8       152.0  2010.0  169  \n",
      "9       153.0  2010.0  115  \n",
      "10      154.0  2010.0  124  \n"
     ]
    }
   ],
   "source": [
    "# Convert into processing-friendly DataFrame\n",
    "reload(pr)\n",
    "autocorrs = [1,3,5,10]\n",
    "print summer_df.loc[lambda x: (x.year==2010) & (x.dayofyear==134), 'n_det']\n",
    "X, y, y_dates = pr.get_regression_df(summer_df, covar_cols=['temp', 'vpd', 'humidity', 'dayofyear', 'year'], normalize=[1,1,1,0,0], log_counts=True, autocorr_windows=autocorrs)\n",
    "# Add our prediction target as a column for easier model prototyping\n",
    "X.loc[:,'y'] = y\n",
    "X1_train, y1_train, X1_test, y1_test = pr.train_test_split(X,y)\n",
    "X2_train, y2_train, X2_test, y2_test = pr.train_test_split(X,y)\n",
    "print X.loc[0:10]"
   ]
  },
  {
   "cell_type": "code",
   "execution_count": 211,
   "metadata": {
    "collapsed": false,
    "scrolled": true
   },
   "outputs": [
    {
     "name": "stdout",
     "output_type": "stream",
     "text": [
      "(0.56465161184130674, 9.8225369961854321e-13)\n",
      "Method\tTrain LL\tMSE\tMedianSE\tMeanAbsErr\tRobustMSE\n",
      "tvh\t-21323.94\t101754.31\t102336.90\t318.98\t101895.37\t\n",
      "(0.57172408417048626, 4.4082449963380219e-13)\n",
      "t\t-18425.11\t41074.64\t34.78\t69.04\t2872.20\t\n",
      "(0.58501695357456018, 9.2751990432134019e-14)\n",
      "v\t-18864.63\t41323.47\t25.44\t68.35\t2494.67\t\n",
      "(0.62176107911742995, 8.4370372978437621e-16)\n",
      "h\t-18548.44\t34526.25\t24.61\t66.06\t2919.65\t\n",
      "(0.56909166249314613, 5.9531409292828538e-13)\n",
      "tv\t-18418.14\t41110.71\t38.68\t69.15\t2943.33\t\n",
      "(0.56768470801734905, 6.9825082852406552e-13)\n",
      "+tv\t-18417.59\t41402.12\t36.60\t69.28\t2933.16\t\n",
      "(0.59766211610878905, 1.9686861665734075e-14)\n",
      "th\t-18139.08\t37954.30\t30.53\t67.53\t2843.78\t\n",
      "(0.58219627965219678, 1.298778541868303e-13)\n",
      "+th\t-17982.64\t41814.59\t26.37\t68.64\t2720.24\t\n",
      "(0.61406282356242003, 2.376213842515489e-15)\n",
      "vh\t-18513.64\t36062.22\t26.78\t66.56\t2812.58\t\n",
      "(0.6136024945840487, 2.5257374100588888e-15)\n",
      "+vh\t-18513.34\t36208.99\t27.67\t66.65\t2808.83\t\n",
      "(0.6008529834362667, 1.3170951402854337e-14)\n",
      "tvh\t-17599.07\t34606.13\t33.70\t66.49\t3200.60\t\n"
     ]
    }
   ],
   "source": [
    "reload(pr)\n",
    "# Now run various versions of the model \n",
    "covars = ['t', 'v', 'h', 'tv', '+tv', 'th', '+th', 'vh', '+vh', 'tvh']\n",
    "res = smf.glm('y ~ n_det_1', data=X1_train, family=sm.genmod.families.family.Poisson()).fit()\n",
    "y1_hat_base = res.predict(X1_test)\n",
    "print pearsonr(y1_hat_base, y1_test)\n",
    "#y_hat_base = X1_test.n_det_1\n",
    "print \"Method\\tTrain LL\\tMSE\\tMedianSE\\tMeanAbsErr\\tRobustMSE\"\n",
    "print \"%s\\t%.2f\\t\" % (covar, res.llf),\n",
    "eval_metrics = ['MSE', 'MedianSE', 'MeanAbsErr', 'RobustMSE']\n",
    "for met in eval_metrics:\n",
    "    print \"%.2f\\t\" % pr.evaluate_glm(y1_test, y_hat_base, metric=met),\n",
    "print \"\"\n",
    "for covar in covars:\n",
    "    form = 'y ~ n_det_1 + '\n",
    "    int_flag = 0\n",
    "    for i,letter in enumerate(covar):\n",
    "        if letter == \"+\":\n",
    "            int_flag = 1\n",
    "            continue\n",
    "        if letter == 't':\n",
    "            form += 'normtemp'\n",
    "        elif letter == 'v':\n",
    "            form += 'normvpd'\n",
    "        elif letter == 'h':\n",
    "            form += 'normhumidity'\n",
    "        if i != len(covar) - 1:\n",
    "            if int_flag:\n",
    "                form += ' * '\n",
    "            else:\n",
    "                form += ' + '\n",
    "    res = smf.glm(form, data=X1_train, family=sm.genmod.families.family.Poisson()).fit()\n",
    "    y1_hat = res.predict(X1_test)\n",
    "    print pearsonr(y1_hat, y1_test)\n",
    "    print \"%s\\t%.2f\\t\" % (covar, res.llf),\n",
    "    for met in eval_metrics:\n",
    "        print \"%.2f\\t\" % pr.evaluate_glm(y1_test, y1_hat, metric=met),\n",
    "    print \"\"\n"
   ]
  },
  {
   "cell_type": "code",
   "execution_count": 202,
   "metadata": {
    "collapsed": false
   },
   "outputs": [
    {
     "name": "stdout",
     "output_type": "stream",
     "text": [
      "Method\tTrain LL\tMSE\tMedianSE\tMeanAbsErr\tRobustMSE\n",
      "Base\tN/A\t101754.31\t102336.90\t318.98\t101895.37\t\n",
      "auto 1\t-18418.14\t41110.71\t38.68\t69.15\t2943.33\t\n",
      "auto 3\t-30995.73\t59232.94\t256.71\t81.73\t3351.77\t\n",
      "auto 5\t-28851.38\t57985.95\t247.81\t84.70\t3816.71\t\n",
      "auto 10\t-40446.32\t219324.54\t360.30\t120.56\t3893.84\t\n"
     ]
    }
   ],
   "source": [
    "# Now, similar expt but with different autocorrs\n",
    "y_hat_base = X1_test.n_det_1\n",
    "print \"Method\\tTrain LL\\tMSE\\tMedianSE\\tMeanAbsErr\\tRobustMSE\"\n",
    "print \"Base\\tN/A\\t\",\n",
    "eval_metrics = ['MSE', 'MedianSE', 'MeanAbsErr', 'RobustMSE']\n",
    "for met in eval_metrics:\n",
    "    print \"%.2f\\t\" % pr.evaluate_glm(y1_test, y_hat_base, metric=met),\n",
    "print \"\"\n",
    "for cor in autocorrs:\n",
    "    form = 'y ~ n_det_%d + normtemp + normvpd' % cor\n",
    "    res = smf.glm(form, data=X1_train, family=sm.genmod.families.family.Poisson()).fit()\n",
    "    y1_hat = res.predict(X1_test)\n",
    "    print \"auto %d\\t%.2f\\t\" % (cor, res.llf),\n",
    "    for met in eval_metrics:\n",
    "        print \"%.2f\\t\" % pr.evaluate_glm(y1_test, y1_hat, metric=met),\n",
    "    print \"\"\n",
    "    #res = smf.glm(form, data=X2_train, family=sm.genmod.families.family.Poisson()).fit()\n",
    "    #print \"(2) Form: %s Train LL: %f Train BIC: %f \" % (form, res.llf, res.bic)\n",
    "    #y2_hat = res.predict(X2_test)\n",
    "    #print \"\\tMSE: %f, Log MSE: %f\" % (pr.evaluate_glm(y2_test, y2_hat), pr.evaluate_glm(y2_test, y2_hat, log=True))\n",
    "#res = smf.glm(\"y ~ n_det_5 + normtemp + normvpd + normhumidity\", data=X2_train, family=sm.genmod.families.family.Poisson()).fit()\n",
    "#y2_hat = res.predict(X2_test)\n",
    "#print np.mean((y2_test - y2_hat)**2)"
   ]
  },
  {
   "cell_type": "code",
   "execution_count": null,
   "metadata": {
    "collapsed": true
   },
   "outputs": [],
   "source": []
  },
  {
   "cell_type": "code",
   "execution_count": 157,
   "metadata": {
    "collapsed": false
   },
   "outputs": [
    {
     "name": "stdout",
     "output_type": "stream",
     "text": [
      "Intercept       1.428972\n",
      "n_det_3         0.468020\n",
      "normtemp        1.750676\n",
      "normvpd        -1.435564\n",
      "normhumidity   -1.545348\n",
      "dtype: float64\n",
      "38488.8579213\n",
      "Intercept       1.664862\n",
      "n_det_5         0.434568\n",
      "normtemp        1.438979\n",
      "normvpd        -0.812336\n",
      "normhumidity   -1.135160\n",
      "dtype: float64\n",
      "24116.9336037\n"
     ]
    }
   ],
   "source": [
    "from scipy.stats import pearsonr\n",
    "res = smf.glm(\"y ~ n_det_3 + normtemp + normvpd + normhumidity\", data=X2_train, family=sm.genmod.families.family.Poisson()).fit()\n",
    "print res.params\n",
    "y2_hat = res.predict(X2_test)\n",
    "print np.mean((y2_test - y2_hat)**2)\n",
    "res = smf.glm(\"y ~ n_det_5 + normtemp + normvpd + normhumidity\", data=X2_train, family=sm.genmod.families.family.Poisson()).fit()\n",
    "print res.params\n",
    "y2_hat = res.predict(X2_test)\n",
    "print np.mean((y2_test - y2_hat)**2)"
   ]
  },
  {
   "cell_type": "code",
   "execution_count": 47,
   "metadata": {
    "collapsed": false
   },
   "outputs": [
    {
     "name": "stdout",
     "output_type": "stream",
     "text": [
      "day               15.000000\n",
      "dayofyear        134.000000\n",
      "humidity          69.719748\n",
      "month              5.000000\n",
      "n_clusters         0.000000\n",
      "n_det              0.000000\n",
      "temp             280.113025\n",
      "vpd                0.421158\n",
      "year            2010.000000\n",
      "normtemp          -2.084018\n",
      "normvpd           -1.263489\n",
      "normhumidity       1.213403\n",
      "Name: 0, dtype: float64\n"
     ]
    },
    {
     "name": "stderr",
     "output_type": "stream",
     "text": [
      "/Users/zbutler/anaconda2/lib/python2.7/site-packages/pandas/core/indexing.py:132: SettingWithCopyWarning: \n",
      "A value is trying to be set on a copy of a slice from a DataFrame\n",
      "\n",
      "See the caveats in the documentation: http://pandas.pydata.org/pandas-docs/stable/indexing.html#indexing-view-versus-copy\n",
      "  self._setitem_with_indexer(indexer, value)\n",
      "/Users/zbutler/anaconda2/lib/python2.7/site-packages/ipykernel/__main__.py:1: SettingWithCopyWarning: \n",
      "A value is trying to be set on a copy of a slice from a DataFrame\n",
      "\n",
      "See the caveats in the documentation: http://pandas.pydata.org/pandas-docs/stable/indexing.html#indexing-view-versus-copy\n",
      "  if __name__ == '__main__':\n"
     ]
    }
   ],
   "source": [
    "summer_df.loc[0] = summer_df.loc[27]\n",
    "print summer_df.loc[0]"
   ]
  },
  {
   "cell_type": "code",
   "execution_count": 158,
   "metadata": {
    "collapsed": false
   },
   "outputs": [],
   "source": [
    "annual_dfs = dict()\n",
    "years = range(2010,2017)\n",
    "for year in years:\n",
    "    annual_dfs[year] = X[X.year==year]"
   ]
  },
  {
   "cell_type": "code",
   "execution_count": 214,
   "metadata": {
    "collapsed": false
   },
   "outputs": [
    {
     "name": "stdout",
     "output_type": "stream",
     "text": [
      "Intercept    0.871947\n",
      "n_det_1      0.483835\n",
      "normvpd      1.051406\n",
      "dtype: float64\n"
     ]
    }
   ],
   "source": [
    "params_dict = dict()\n",
    "for year in years:\n",
    "    glm = smf.glm('y ~ n_det_1 + normvpd', data=annual_dfs[year], family=sm.genmod.families.family.Poisson()).fit()\n",
    "    params_dict[year] = glm.params\n",
    "print glm.params"
   ]
  },
  {
   "cell_type": "code",
   "execution_count": 216,
   "metadata": {
    "collapsed": false
   },
   "outputs": [
    {
     "data": {
      "image/png": "[encoded data removed]",
      "text/plain": [
       "<matplotlib.figure.Figure at 0x135ac3990>"
      ]
     },
     "metadata": {},
     "output_type": "display_data"
    },
    {
     "data": {
      "image/png": "[encoded data removed]",
      "text/plain": [
       "<matplotlib.figure.Figure at 0x13043bd90>"
      ]
     },
     "metadata": {},
     "output_type": "display_data"
    }
   ],
   "source": [
    "dets = []\n",
    "temps = []\n",
    "vpds = []\n",
    "hums = []\n",
    "intercepts = []\n",
    "mean_dets = []\n",
    "nnzs = []\n",
    "for year in years:\n",
    "    dets.append(params_dict[year].n_det_1)\n",
    "#    temps.append(params_dict[year].normtemp)\n",
    "    vpds.append(params_dict[year].normvpd)\n",
    "#    hums.append(params_dict[year].normhumidity)\n",
    "    mean_dets.append(np.mean(summer_df[summer_df.year==year].n_det))\n",
    "    nnzs.append(np.sum(summer_df[summer_df.year==year].n_det > 0))\n",
    "    intercepts.append(params_dict[year].Intercept)\n",
    "\n",
    "plt.plot(years, intercepts)\n",
    "plt.title('Intercepts by year')\n",
    "plt.savefig('pics/intercepts_by_year.png')\n",
    "plt.show()\n",
    "fig, axes = plt.subplots(nrows=3, ncols=2, figsize=(12,10))\n",
    "plt.subplot(321)\n",
    "plt.plot(years, dets)\n",
    "plt.title(\"# detections parameter by year\")\n",
    "#plt.subplot(322)\n",
    "#plt.plot(years, temps)\n",
    "#plt.title(\"temp parameter by year\")\n",
    "plt.subplot(323)\n",
    "plt.plot(years, vpds)\n",
    "plt.title(\"vpd parameter by year\")\n",
    "#plt.subplot(324)\n",
    "#plt.plot(years, hums)\n",
    "#plt.title(\"humidity parameter by year\")\n",
    "plt.subplot(325)\n",
    "plt.plot(years, mean_dets)\n",
    "plt.title(\"mean detections by year\")\n",
    "plt.subplot(326)\n",
    "plt.plot(years, nnzs)\n",
    "plt.title(\"number of nonzeros per year\")\n",
    "plt.savefig(\"pics/other_params_by_year.png\")\n",
    "plt.show()"
   ]
  },
  {
   "cell_type": "code",
   "execution_count": 164,
   "metadata": {
    "collapsed": false
   },
   "outputs": [
    {
     "name": "stdout",
     "output_type": "stream",
     "text": [
      "Old df had 762 rows, new one without nans has 739\n",
      "    n_det_1   n_det_3   n_det_5  n_det_10  normtemp   normvpd  normhumidity  \\\n",
      "0  0.693147  3.465736  3.332205  0.000000 -0.739954 -0.361175      0.139279   \n",
      "1  1.791759  1.945910  2.197225  0.000000 -0.343657  0.123923     -0.266653   \n",
      "2  3.970292  0.693147  3.465736  2.079442  0.200548  0.578950     -0.656887   \n",
      "3  5.105945  1.791759  1.945910  2.302585  0.759597  1.478497     -1.638235   \n",
      "4  6.035481  3.970292  0.693147  4.682131  0.600367  1.240071     -1.428790   \n",
      "5  6.369901  5.105945  1.791759  3.332205  0.891906  1.641281     -1.722087   \n",
      "6  6.079933  6.035481  3.970292  2.197225  0.851744  1.617921     -1.641602   \n",
      "7  5.934894  6.369901  5.105945  3.465736  0.168878  0.530835     -0.673071   \n",
      "8  5.780744  6.079933  6.035481  1.945910 -0.801501 -0.401364     -0.012549   \n",
      "9  5.135798  5.934894  6.369901  0.693147 -0.197668  0.241892     -0.955728   \n",
      "\n",
      "   dayofyear    year    y  n_det_1_nl  n_det_3_nl  n_det_5_nl  n_det_10_nl  \n",
      "0      144.0  2010.0    5         1.0        31.0        27.0          0.0  \n",
      "1      145.0  2010.0   52         5.0         6.0         8.0          0.0  \n",
      "2      146.0  2010.0  164        52.0         1.0        31.0          7.0  \n",
      "3      147.0  2010.0  417       164.0         5.0         6.0          9.0  \n",
      "4      148.0  2010.0  583       417.0        52.0         1.0        107.0  \n",
      "5      149.0  2010.0  436       583.0       164.0         5.0         27.0  \n",
      "6      150.0  2010.0  377       436.0       417.0        52.0          8.0  \n",
      "7      151.0  2010.0  323       377.0       583.0       164.0         31.0  \n",
      "8      152.0  2010.0  169       323.0       436.0       417.0          6.0  \n",
      "9      153.0  2010.0  115       169.0       377.0       583.0          1.0  \n"
     ]
    }
   ],
   "source": [
    "Xnl, ynl, ynl_dates = pr.get_regression_df(summer_df, covar_cols=['temp', 'vpd', 'humidity', 'dayofyear', 'year'], normalize=[1,1,1,0,0], log_counts=False, autocorr_windows=autocorrs)\n",
    "for cor in autocorrs:\n",
    "    X.loc[:,'n_det_%d_nl' %cor] = Xnl['n_det_%d' %cor]\n",
    "# Add our prediction target as a column for easier model prototyping\n",
    "X.loc[:,'y'] = y\n",
    "X1_train, y1_train, X1_test, y1_test = pr.train_test_split(X,y)\n",
    "X2_train, y2_train, X2_test, y2_test = pr.train_test_split(X,y)\n",
    "print X.iloc[0:10]"
   ]
  },
  {
   "cell_type": "code",
   "execution_count": 171,
   "metadata": {
    "collapsed": false
   },
   "outputs": [
    {
     "name": "stdout",
     "output_type": "stream",
     "text": [
      "(135,)\n",
      "MSE base: 16267.2444444\n",
      "(log) Form: y ~ n_det_1 + normtemp + normvpd + normhumidity Train LL: -20646.687585 Train BIC: 36197.678882 \n",
      "\tMSE: 9333.178743, Log MSE: 4.256507\n",
      "(nolog) Form: y ~ n_det_1_nl + normtemp + normvpd + normhumidity Train LL: -41802.503247 Train BIC: 78509.310208 \n",
      "\tMSE: 18032.104369, Log MSE: 6.742409\n",
      "(log) Form: y ~ n_det_3 + normtemp + normvpd + normhumidity Train LL: -31253.167789 Train BIC: 57410.639291 \n",
      "\tMSE: 15202.037331, Log MSE: 5.384284\n",
      "(nolog) Form: y ~ n_det_3_nl + normtemp + normvpd + normhumidity Train LL: -43961.799988 Train BIC: 82827.903688 \n",
      "\tMSE: 20046.440244, Log MSE: 6.487281\n",
      "(log) Form: y ~ n_det_5 + normtemp + normvpd + normhumidity Train LL: -32185.081017 Train BIC: 59274.465746 \n",
      "\tMSE: 5609.080808, Log MSE: 5.727989\n",
      "(nolog) Form: y ~ n_det_5_nl + normtemp + normvpd + normhumidity Train LL: -46965.542616 Train BIC: 88835.388945 \n",
      "\tMSE: 9789.300049, Log MSE: 6.591989\n",
      "(log) Form: y ~ n_det_10 + normtemp + normvpd + normhumidity Train LL: -43233.634378 Train BIC: 81371.572469 \n",
      "\tMSE: 16168.399002, Log MSE: 6.029531\n",
      "(nolog) Form: y ~ n_det_10_nl + normtemp + normvpd + normhumidity Train LL: -48468.775154 Train BIC: 91841.854020 \n",
      "\tMSE: 695586.650750, Log MSE: 6.564983\n",
      "334.279253089\n"
     ]
    },
    {
     "name": "stderr",
     "output_type": "stream",
     "text": [
      "prediction/poisson_regression.py:152: FutureWarning: in the future, boolean array-likes will be handled as a boolean array index\n",
      "  y_hat = y_hat[non_nans]\n"
     ]
    }
   ],
   "source": [
    "res = smf.glm(form, data=X1_train, family=sm.genmod.families.family.Poisson()).fit()\n",
    "y1_hat = res.predict(X1_test)\n",
    "print y1_hat.shape\n",
    "y_hat_base = X1_test.n_det_1_nl\n",
    "print \"MSE base: \" + str(pr.evaluate_glm(y1_test, y_hat_base))\n",
    "for cor in autocorrs:\n",
    "    form = 'y ~ n_det_%d + normtemp + normvpd + normhumidity' % cor\n",
    "    res = smf.glm(form, data=X1_train, family=sm.genmod.families.family.Poisson()).fit()\n",
    "    print \"(log) Form: %s Train LL: %f Train BIC: %f \" % (form, res.llf, res.bic)\n",
    "    y1_hat = res.predict(X1_test)\n",
    "    print \"\\tMSE: %f, Log MSE: %f\" % (pr.evaluate_glm(y1_test, y1_hat), pr.evaluate_glm(y1_test, y1_hat, log=True))\n",
    "    \n",
    "    form = 'y ~ n_det_%d_nl + normtemp + normvpd + normhumidity' % cor\n",
    "    res = smf.glm(form, data=X1_train, family=sm.genmod.families.family.Poisson()).fit()\n",
    "    print \"(nolog) Form: %s Train LL: %f Train BIC: %f \" % (form, res.llf, res.bic)\n",
    "    y1_hat = res.predict(X1_test)\n",
    "    print \"\\tMSE: %f, Log MSE: %f\" % (pr.evaluate_glm(y1_test, y1_hat), pr.evaluate_glm(y1_test, y1_hat, log=True))\n",
    "\n",
    "res = smf.glm(\"y ~ n_det_5 + normtemp + normvpd + normhumidity\", data=X2_train, family=sm.genmod.families.family.Poisson()).fit()\n",
    "y2_hat = res.predict(X2_test)\n",
    "print np.mean((y2_test - y2_hat))**2"
   ]
  },
  {
   "cell_type": "code",
   "execution_count": 142,
   "metadata": {
    "collapsed": false
   },
   "outputs": [
    {
     "name": "stdout",
     "output_type": "stream",
     "text": [
      "Old df had 762 rows, new one without nans has 739\n",
      "                 Generalized Linear Model Regression Results                  \n",
      "==============================================================================\n",
      "Dep. Variable:                      y   No. Observations:                  427\n",
      "Model:                            GLM   Df Residuals:                      422\n",
      "Model Family:                 Poisson   Df Model:                            4\n",
      "Link Function:                    log   Scale:                             1.0\n",
      "Method:                          IRLS   Log-Likelihood:                -22542.\n",
      "Date:                Thu, 11 May 2017   Deviance:                       42998.\n",
      "Time:                        15:13:29   Pearson chi2:                 6.55e+04\n",
      "No. Iterations:                     9                                         \n",
      "=========================================================================================\n",
      "                            coef    std err          z      P>|z|      [95.0% Conf. Int.]\n",
      "-----------------------------------------------------------------------------------------\n",
      "Intercept                 1.5262      0.016     97.989      0.000         1.496     1.557\n",
      "n_det_1                   0.6576      0.003    222.236      0.000         0.652     0.663\n",
      "normtemp                  0.1535      0.010     15.288      0.000         0.134     0.173\n",
      "normhumidity             -0.2103      0.010    -21.228      0.000        -0.230    -0.191\n",
      "normtemp:normhumidity    -0.0563      0.004    -14.203      0.000        -0.064    -0.049\n",
      "=========================================================================================\n",
      "                 Generalized Linear Model Regression Results                  \n",
      "==============================================================================\n",
      "Dep. Variable:                  bin_y   No. Observations:                  674\n",
      "Model:                            GLM   Df Residuals:                      669\n",
      "Model Family:                Binomial   Df Model:                            4\n",
      "Link Function:                  logit   Scale:                             1.0\n",
      "Method:                          IRLS   Log-Likelihood:                -268.86\n",
      "Date:                Thu, 11 May 2017   Deviance:                       537.73\n",
      "Time:                        15:13:29   Pearson chi2:                     557.\n",
      "No. Iterations:                     9                                         \n",
      "=========================================================================================\n",
      "                            coef    std err          z      P>|z|      [95.0% Conf. Int.]\n",
      "-----------------------------------------------------------------------------------------\n",
      "Intercept                -0.7564      0.144     -5.237      0.000        -1.040    -0.473\n",
      "n_det_1                   1.0362      0.102     10.168      0.000         0.836     1.236\n",
      "normtemp                  0.1033      0.202      0.512      0.609        -0.292     0.499\n",
      "normhumidity             -0.7408      0.177     -4.174      0.000        -1.089    -0.393\n",
      "normtemp:normhumidity    -0.2231      0.165     -1.354      0.176        -0.546     0.100\n",
      "=========================================================================================\n"
     ]
    }
   ],
   "source": [
    "# Now, try binary model\n",
    "reload(pr)\n",
    "X, y, nz_X, nz_y, bin_y = pr.get_regression_df(summer_df, covar_cols=['temp', 'vpd', 'humidity', 'dayofyear', 'year'], normalize=[1,1,1,0,0], log_counts=True, autocorr_windows=autocorrs, ignore_nans=True, return_alt_ys=True)\n",
    "res_nz = smf.glm(\"y ~ n_det_1 + normvpd\", data=nz_X, family=sm.genmod.families.family.Poisson()).fit()\n",
    "res_z = smf.glm(\"bin_y ~ n_det_1 + normvpd\", data=X, family=sm.genmod.families.family.Binomial()).fit()\n",
    "print res_nz.summary()\n",
    "print res_z.summary()\n",
    "\n"
   ]
  },
  {
   "cell_type": "code",
   "execution_count": 145,
   "metadata": {
    "collapsed": false
   },
   "outputs": [
    {
     "name": "stdout",
     "output_type": "stream",
     "text": [
      "427\n",
      "674\n"
     ]
    }
   ],
   "source": [
    "print np.sum(bin_y)\n",
    "print len(bin_y)"
   ]
  },
  {
   "cell_type": "code",
   "execution_count": 175,
   "metadata": {
    "collapsed": false
   },
   "outputs": [
    {
     "name": "stdout",
     "output_type": "stream",
     "text": [
      "Old df had 762 rows, new one without nans has 739\n",
      "    n_det_1   n_det_3   n_det_5  n_det_10  normtemp        temp   normvpd  \\\n",
      "0  0.693147  3.465736  3.332205  0.000000 -0.739954  286.098599 -0.361175   \n",
      "1  1.791759  1.945910  2.197225  0.000000 -0.343657  287.863445  0.123923   \n",
      "2  3.970292  0.693147  3.465736  2.079442  0.200548  290.286975  0.578950   \n",
      "3  5.105945  1.791759  1.945910  2.302585  0.759597  292.776611  1.478497   \n",
      "4  6.035481  3.970292  0.693147  4.682131  0.600367  292.067507  1.240071   \n",
      "\n",
      "        vpd  normhumidity   humidity  dayofyear    year    y  \n",
      "0  0.850241      0.139279  57.970308      144.0  2010.0    5  \n",
      "1  1.080923     -0.266653  53.529972      145.0  2010.0   52  \n",
      "2  1.297305     -0.656887  49.261345      146.0  2010.0  164  \n",
      "3  1.725073     -1.638235  38.526751      147.0  2010.0  417  \n",
      "4  1.611692     -1.428790  40.817787      148.0  2010.0  583  \n",
      "(unnorm) Form: y ~ n_det_1 + temp Train LL: -19307.102357 Train BIC: 33574.619253 \n",
      "\tMSE: 68881.331814, Log MSE: 4.750633\n",
      "(norm) Form: y ~ n_det_1 + normtemp Train LL: -19307.102357 Train BIC: 33574.619253 \n",
      "\tMSE: 68881.331814, Log MSE: 4.750633\n",
      "(unnorm) Form: y ~ n_det_1 + vpd Train LL: -19380.689684 Train BIC: 33721.793907 \n",
      "\tMSE: 73697.762127, Log MSE: 4.769721\n",
      "(norm) Form: y ~ n_det_1 + normvpd Train LL: -19380.689684 Train BIC: 33721.793907 \n",
      "\tMSE: 73697.762127, Log MSE: 4.769721\n",
      "(unnorm) Form: y ~ n_det_1 + humidity Train LL: -18900.773653 Train BIC: 32761.961844 \n",
      "\tMSE: 73100.394334, Log MSE: 4.633983\n",
      "(norm) Form: y ~ n_det_1 + normhumidity Train LL: -18900.773653 Train BIC: 32761.961844 \n",
      "\tMSE: 73100.394334, Log MSE: 4.633983\n",
      "(unnorm) Form: y ~ n_det_1 + temp + vpd Train LL: -19270.955546 Train BIC: 33508.615346 \n",
      "\tMSE: 70492.458455, Log MSE: 4.752020\n",
      "(norm) Form: y ~ n_det_1 + normtemp + normvpd Train LL: -19270.955546 Train BIC: 33508.615346 \n",
      "\tMSE: 70492.458455, Log MSE: 4.752020\n",
      "(unnorm) Form: y ~ n_det_1 + temp + humidity Train LL: -18789.556458 Train BIC: 32545.817169 \n",
      "\tMSE: 71095.112816, Log MSE: 4.676068\n",
      "(norm) Form: y ~ n_det_1 + normtemp + normhumidity Train LL: -18789.556458 Train BIC: 32545.817169 \n",
      "\tMSE: 71095.112816, Log MSE: 4.676068\n",
      "(unnorm) Form: y ~ n_det_1 + vpd + humidity Train LL: -18900.180847 Train BIC: 32767.065947 \n",
      "\tMSE: 73088.561091, Log MSE: 4.638983\n",
      "(norm) Form: y ~ n_det_1 + normvpd + normhumidity Train LL: -18900.180847 Train BIC: 32767.065947 \n",
      "\tMSE: 73088.561091, Log MSE: 4.638983\n",
      "(unnorm) Form: y ~ n_det_1 + temp * vpd Train LL: -19207.659761 Train BIC: 33388.313490 \n",
      "\tMSE: 70974.201948, Log MSE: 4.673566\n",
      "(norm) Form: y ~ n_det_1 + normtemp * normvpd Train LL: -19207.659761 Train BIC: 33388.313490 \n",
      "\tMSE: 70974.201948, Log MSE: 4.673566\n",
      "(unnorm) Form: y ~ n_det_1 + temp * humidity Train LL: -18694.477749 Train BIC: 32361.949468 \n",
      "\tMSE: 71637.435719, Log MSE: 4.743549\n",
      "(norm) Form: y ~ n_det_1 + normtemp * normhumidity Train LL: -18694.477749 Train BIC: 32361.949468 \n",
      "\tMSE: 71637.435719, Log MSE: 4.743549\n",
      "(unnorm) Form: y ~ n_det_1 + vpd * humidity Train LL: -18890.645617 Train BIC: 32754.285204 \n",
      "\tMSE: 73573.511912, Log MSE: 4.659780\n",
      "(norm) Form: y ~ n_det_1 + normvpd * normhumidity Train LL: -18890.645617 Train BIC: 32754.285204 \n",
      "\tMSE: 73573.511912, Log MSE: 4.659780\n",
      "(unnorm) Form: y ~ n_det_1 + temp + vpd + humidity Train LL: -18519.040746 Train BIC: 32011.075461 \n",
      "\tMSE: 65890.327454, Log MSE: 4.572888\n",
      "(norm) Form: y ~ n_det_1 + normtemp + normvpd + normhumidity Train LL: -18519.040746 Train BIC: 32011.075461 \n",
      "\tMSE: 65890.327454, Log MSE: 4.572888\n"
     ]
    }
   ],
   "source": [
    "reload(pr)\n",
    "Xun, yun, yun_dates = pr.get_regression_df(summer_df, covar_cols=['temp', 'vpd', 'humidity', 'dayofyear', 'year'], normalize=[2,2,2,0,0], log_counts=True, autocorr_windows=autocorrs)\n",
    "print Xun.iloc[0:5]\n",
    "# Add our prediction target as a column for easier model prototyping\n",
    "Xun.loc[:,'humidity'] /= 100.\n",
    "Xun_train, yun_train, Xun_test, yun_test = pr.train_test_split(Xun,yun)\n",
    "# Now run various versions of the model \n",
    "covars = ['t', 'v', 'h', 'tv', 'th', 'vh', '+tv', '+th', '+vh', 'tvh']\n",
    "for covar in covars:\n",
    "    form = 'y ~ n_det_1 + '\n",
    "    int_flag = 0\n",
    "    for i,letter in enumerate(covar):\n",
    "        if letter == \"+\":\n",
    "            int_flag = 1\n",
    "            continue\n",
    "        if letter == 't':\n",
    "            form += 'temp'\n",
    "        elif letter == 'v':\n",
    "            form += 'vpd'\n",
    "        elif letter == 'h':\n",
    "            form += 'humidity'\n",
    "        if i != len(covar) - 1:\n",
    "            if int_flag:\n",
    "                form += ' * '\n",
    "            else:\n",
    "                form += ' + '\n",
    "    res = smf.glm(form, data=Xun_train, family=sm.genmod.families.family.Poisson()).fit()\n",
    "    print \"(unnorm) Form: %s Train LL: %f Train BIC: %f \" % (form, res.llf, res.bic)\n",
    "    y1_hat = res.predict(Xun_test)\n",
    "    print \"\\tMSE: %f, Log MSE: %f\" % (pr.evaluate_glm(yun_test, y1_hat), pr.evaluate_glm(yun_test, y1_hat, log=True))\n",
    "    \n",
    "    form = 'y ~ n_det_1 + '\n",
    "    int_flag = 0\n",
    "    for i,letter in enumerate(covar):\n",
    "        if letter == \"+\":\n",
    "            int_flag = 1\n",
    "            continue\n",
    "        if letter == 't':\n",
    "            form += 'normtemp'\n",
    "        elif letter == 'v':\n",
    "            form += 'normvpd'\n",
    "        elif letter == 'h':\n",
    "            form += 'normhumidity'\n",
    "        if i != len(covar) - 1:\n",
    "            if int_flag:\n",
    "                form += ' * '\n",
    "            else:\n",
    "                form += ' + '\n",
    "    res = smf.glm(form, data=Xun_train, family=sm.genmod.families.family.Poisson()).fit()\n",
    "    print \"(norm) Form: %s Train LL: %f Train BIC: %f \" % (form, res.llf, res.bic)\n",
    "    y1_hat = res.predict(Xun_test)\n",
    "    print \"\\tMSE: %f, Log MSE: %f\" % (pr.evaluate_glm(yun_test, y1_hat), pr.evaluate_glm(yun_test, y1_hat, log=True))"
   ]
  },
  {
   "cell_type": "code",
   "execution_count": 225,
   "metadata": {
    "collapsed": false,
    "scrolled": false
   },
   "outputs": [
    {
     "data": {
      "image/png": "[encoded data removed]",
      "text/plain": [
       "<matplotlib.figure.Figure at 0x134c364d0>"
      ]
     },
     "metadata": {},
     "output_type": "display_data"
    },
    {
     "data": {
      "image/png": "[encoded data removed]",
      "text/plain": [
       "<matplotlib.figure.Figure at 0x135d72710>"
      ]
     },
     "metadata": {},
     "output_type": "display_data"
    },
    {
     "name": "stdout",
     "output_type": "stream",
     "text": [
      "(0.83623027125728044, 1.6337688450969366e-36)\n",
      "(0.84591653734560612, 3.976297087951679e-38)\n"
     ]
    },
    {
     "data": {
      "image/png": "[encoded data removed]",
      "text/plain": [
       "<matplotlib.figure.Figure at 0x12db7c690>"
      ]
     },
     "metadata": {},
     "output_type": "display_data"
    }
   ],
   "source": [
    "# Now look at where loss is coming from\n",
    "res = smf.glm('y ~ n_det_1 + normtemp + normvpd + normhumidity', data=Xun_train, family=sm.genmod.families.family.Poisson()).fit()\n",
    "y1_hat = res.predict(Xun_test)\n",
    "plt.plot((y1_hat - yun_test)**2, 'r+')\n",
    "plt.ylabel('squared error')\n",
    "plt.show()\n",
    "plt.plot(np.log(y1_hat+1), np.log(yun_test+1), 'b+')\n",
    "plt.xlabel('fitted values')\n",
    "plt.ylabel('actual values')\n",
    "plt.show()\n",
    "print pearsonr(np.log(y1_hat+1), np.log(yun_test+1))\n",
    "print pearsonr(y1_hat, yun_test)\n",
    "plt.plot((np.log(y1_hat+1) - np.log(yun_test+1))**2, 'r+')\n",
    "plt.ylabel('squared log error')\n",
    "plt.show()"
   ]
  },
  {
   "cell_type": "code",
   "execution_count": 183,
   "metadata": {
    "collapsed": false,
    "scrolled": false
   },
   "outputs": [
    {
     "data": {
      "image/png": "[encoded data removed]",
      "text/plain": [
       "<matplotlib.figure.Figure at 0x11bdcb250>"
      ]
     },
     "metadata": {},
     "output_type": "display_data"
    },
    {
     "data": {
      "text/html": [
       "<div>\n",
       "<table border=\"1\" class=\"dataframe\">\n",
       "  <thead>\n",
       "    <tr style=\"text-align: right;\">\n",
       "      <th></th>\n",
       "      <th>day</th>\n",
       "      <th>dayofyear</th>\n",
       "      <th>humidity</th>\n",
       "      <th>month</th>\n",
       "      <th>n_clusters</th>\n",
       "      <th>n_det</th>\n",
       "      <th>temp</th>\n",
       "      <th>vpd</th>\n",
       "      <th>year</th>\n",
       "    </tr>\n",
       "  </thead>\n",
       "  <tbody>\n",
       "    <tr>\n",
       "      <th>988</th>\n",
       "      <td>21</td>\n",
       "      <td>171</td>\n",
       "      <td>33.213726</td>\n",
       "      <td>6</td>\n",
       "      <td>70</td>\n",
       "      <td>1231</td>\n",
       "      <td>298.877045</td>\n",
       "      <td>2.364938</td>\n",
       "      <td>2015</td>\n",
       "    </tr>\n",
       "    <tr>\n",
       "      <th>989</th>\n",
       "      <td>22</td>\n",
       "      <td>172</td>\n",
       "      <td>34.554482</td>\n",
       "      <td>6</td>\n",
       "      <td>106</td>\n",
       "      <td>2106</td>\n",
       "      <td>298.915405</td>\n",
       "      <td>2.339218</td>\n",
       "      <td>2015</td>\n",
       "    </tr>\n",
       "    <tr>\n",
       "      <th>990</th>\n",
       "      <td>23</td>\n",
       "      <td>173</td>\n",
       "      <td>35.487675</td>\n",
       "      <td>6</td>\n",
       "      <td>125</td>\n",
       "      <td>2950</td>\n",
       "      <td>298.764709</td>\n",
       "      <td>2.284892</td>\n",
       "      <td>2015</td>\n",
       "    </tr>\n",
       "    <tr>\n",
       "      <th>991</th>\n",
       "      <td>24</td>\n",
       "      <td>174</td>\n",
       "      <td>35.660507</td>\n",
       "      <td>6</td>\n",
       "      <td>120</td>\n",
       "      <td>2768</td>\n",
       "      <td>298.540344</td>\n",
       "      <td>2.232876</td>\n",
       "      <td>2015</td>\n",
       "    </tr>\n",
       "    <tr>\n",
       "      <th>992</th>\n",
       "      <td>25</td>\n",
       "      <td>175</td>\n",
       "      <td>32.518349</td>\n",
       "      <td>6</td>\n",
       "      <td>126</td>\n",
       "      <td>5015</td>\n",
       "      <td>298.087280</td>\n",
       "      <td>2.260536</td>\n",
       "      <td>2015</td>\n",
       "    </tr>\n",
       "    <tr>\n",
       "      <th>996</th>\n",
       "      <td>29</td>\n",
       "      <td>179</td>\n",
       "      <td>46.520729</td>\n",
       "      <td>6</td>\n",
       "      <td>60</td>\n",
       "      <td>1270</td>\n",
       "      <td>292.810364</td>\n",
       "      <td>1.388394</td>\n",
       "      <td>2015</td>\n",
       "    </tr>\n",
       "    <tr>\n",
       "      <th>1001</th>\n",
       "      <td>4</td>\n",
       "      <td>184</td>\n",
       "      <td>51.783615</td>\n",
       "      <td>7</td>\n",
       "      <td>39</td>\n",
       "      <td>1343</td>\n",
       "      <td>292.065125</td>\n",
       "      <td>1.170808</td>\n",
       "      <td>2015</td>\n",
       "    </tr>\n",
       "    <tr>\n",
       "      <th>1003</th>\n",
       "      <td>6</td>\n",
       "      <td>186</td>\n",
       "      <td>38.676193</td>\n",
       "      <td>7</td>\n",
       "      <td>60</td>\n",
       "      <td>3651</td>\n",
       "      <td>298.373260</td>\n",
       "      <td>2.095687</td>\n",
       "      <td>2015</td>\n",
       "    </tr>\n",
       "    <tr>\n",
       "      <th>1008</th>\n",
       "      <td>11</td>\n",
       "      <td>191</td>\n",
       "      <td>44.535435</td>\n",
       "      <td>7</td>\n",
       "      <td>38</td>\n",
       "      <td>1376</td>\n",
       "      <td>293.768341</td>\n",
       "      <td>1.455246</td>\n",
       "      <td>2015</td>\n",
       "    </tr>\n",
       "    <tr>\n",
       "      <th>1009</th>\n",
       "      <td>12</td>\n",
       "      <td>192</td>\n",
       "      <td>43.844398</td>\n",
       "      <td>7</td>\n",
       "      <td>35</td>\n",
       "      <td>1252</td>\n",
       "      <td>294.387390</td>\n",
       "      <td>1.559688</td>\n",
       "      <td>2015</td>\n",
       "    </tr>\n",
       "    <tr>\n",
       "      <th>1169</th>\n",
       "      <td>15</td>\n",
       "      <td>196</td>\n",
       "      <td>37.331932</td>\n",
       "      <td>7</td>\n",
       "      <td>40</td>\n",
       "      <td>1450</td>\n",
       "      <td>300.720154</td>\n",
       "      <td>2.484477</td>\n",
       "      <td>2016</td>\n",
       "    </tr>\n",
       "  </tbody>\n",
       "</table>\n",
       "</div>"
      ],
      "text/plain": [
       "      day  dayofyear   humidity  month  n_clusters  n_det        temp  \\\n",
       "988    21        171  33.213726      6          70   1231  298.877045   \n",
       "989    22        172  34.554482      6         106   2106  298.915405   \n",
       "990    23        173  35.487675      6         125   2950  298.764709   \n",
       "991    24        174  35.660507      6         120   2768  298.540344   \n",
       "992    25        175  32.518349      6         126   5015  298.087280   \n",
       "996    29        179  46.520729      6          60   1270  292.810364   \n",
       "1001    4        184  51.783615      7          39   1343  292.065125   \n",
       "1003    6        186  38.676193      7          60   3651  298.373260   \n",
       "1008   11        191  44.535435      7          38   1376  293.768341   \n",
       "1009   12        192  43.844398      7          35   1252  294.387390   \n",
       "1169   15        196  37.331932      7          40   1450  300.720154   \n",
       "\n",
       "           vpd  year  \n",
       "988   2.364938  2015  \n",
       "989   2.339218  2015  \n",
       "990   2.284892  2015  \n",
       "991   2.232876  2015  \n",
       "992   2.260536  2015  \n",
       "996   1.388394  2015  \n",
       "1001  1.170808  2015  \n",
       "1003  2.095687  2015  \n",
       "1008  1.455246  2015  \n",
       "1009  1.559688  2015  \n",
       "1169  2.484477  2016  "
      ]
     },
     "execution_count": 183,
     "metadata": {},
     "output_type": "execute_result"
    }
   ],
   "source": [
    "plt.plot(np.sort(summer_df.n_det),'b+')\n",
    "plt.show()\n",
    "summer_df[summer_df.n_det > 1000]"
   ]
  },
  {
   "cell_type": "code",
   "execution_count": 241,
   "metadata": {
    "collapsed": false
   },
   "outputs": [
    {
     "data": {
      "image/png": "[encoded data removed]",
      "text/plain": [
       "<matplotlib.figure.Figure at 0x12e792590>"
      ]
     },
     "metadata": {},
     "output_type": "display_data"
    }
   ],
   "source": [
    "# plot preds vs reals by day. Train on all but 2013, predict 2013.\n",
    "testyear = 2011\n",
    "X_train = X[X.year != testyear]\n",
    "y_train = X[X.year != testyear].y\n",
    "X_test = X[X.year == testyear]\n",
    "y_test = X[X.year == testyear].y\n",
    "res = smf.glm('y ~ n_det_1 + normhumidity', data=X_train, family=sm.genmod.families.family.Poisson()).fit()\n",
    "y_hat = res.predict(X_test)\n",
    "\n",
    "fig, axes = plt.subplots(nrows=2, ncols=1, figsize=(10,8))\n",
    "ax1 = plt.subplot(211)\n",
    "plt.plot(X_test.dayofyear, y_hat, 'r--')\n",
    "plt.plot(X_test.dayofyear, y_test, 'b--')\n",
    "plt.xlabel(\"Day of year\")\n",
    "plt.ylabel(\"Number of fires\")\n",
    "ax2 = plt.subplot(212, sharex=ax1)\n",
    "plt.plot(X_test.dayofyear, np.log(y_hat+1), 'r--')\n",
    "plt.plot(X_test.dayofyear, np.log(y_test+1), 'b--')\n",
    "plt.xlabel(\"Day of year\")\n",
    "plt.ylabel(\"Number of fires\")\n",
    "plt.show()"
   ]
  },
  {
   "cell_type": "code",
   "execution_count": 243,
   "metadata": {
    "collapsed": false
   },
   "outputs": [
    {
     "name": "stdout",
     "output_type": "stream",
     "text": [
      "Loaded 386144 ground lightning strikes\n"
     ]
    },
    {
     "data": {
      "text/html": [
       "<div>\n",
       "<table border=\"1\" class=\"dataframe\">\n",
       "  <thead>\n",
       "    <tr style=\"text-align: right;\">\n",
       "      <th></th>\n",
       "      <th>amplitude</th>\n",
       "      <th>day</th>\n",
       "      <th>lat</th>\n",
       "      <th>lon</th>\n",
       "      <th>millisec</th>\n",
       "      <th>month</th>\n",
       "      <th>stroketype</th>\n",
       "      <th>year</th>\n",
       "    </tr>\n",
       "  </thead>\n",
       "  <tbody>\n",
       "    <tr>\n",
       "      <th>0</th>\n",
       "      <td>-900.0</td>\n",
       "      <td>6</td>\n",
       "      <td>59.734187</td>\n",
       "      <td>-159.665223</td>\n",
       "      <td>965</td>\n",
       "      <td>3</td>\n",
       "      <td>GROUND_STROKE</td>\n",
       "      <td>2012</td>\n",
       "    </tr>\n",
       "    <tr>\n",
       "      <th>1</th>\n",
       "      <td>-800.0</td>\n",
       "      <td>7</td>\n",
       "      <td>57.151463</td>\n",
       "      <td>-160.337396</td>\n",
       "      <td>213</td>\n",
       "      <td>3</td>\n",
       "      <td>GROUND_STROKE</td>\n",
       "      <td>2012</td>\n",
       "    </tr>\n",
       "    <tr>\n",
       "      <th>2</th>\n",
       "      <td>-1000.0</td>\n",
       "      <td>8</td>\n",
       "      <td>56.797220</td>\n",
       "      <td>-164.046543</td>\n",
       "      <td>735</td>\n",
       "      <td>3</td>\n",
       "      <td>GROUND_STROKE</td>\n",
       "      <td>2012</td>\n",
       "    </tr>\n",
       "    <tr>\n",
       "      <th>3</th>\n",
       "      <td>-5100.0</td>\n",
       "      <td>8</td>\n",
       "      <td>60.136043</td>\n",
       "      <td>-155.737774</td>\n",
       "      <td>635</td>\n",
       "      <td>3</td>\n",
       "      <td>GROUND_STROKE</td>\n",
       "      <td>2012</td>\n",
       "    </tr>\n",
       "    <tr>\n",
       "      <th>4</th>\n",
       "      <td>-400.0</td>\n",
       "      <td>8</td>\n",
       "      <td>62.559145</td>\n",
       "      <td>-148.119411</td>\n",
       "      <td>818</td>\n",
       "      <td>3</td>\n",
       "      <td>GROUND_STROKE</td>\n",
       "      <td>2012</td>\n",
       "    </tr>\n",
       "    <tr>\n",
       "      <th>5</th>\n",
       "      <td>-4700.0</td>\n",
       "      <td>10</td>\n",
       "      <td>55.303014</td>\n",
       "      <td>-153.730459</td>\n",
       "      <td>46</td>\n",
       "      <td>3</td>\n",
       "      <td>GROUND_STROKE</td>\n",
       "      <td>2012</td>\n",
       "    </tr>\n",
       "    <tr>\n",
       "      <th>6</th>\n",
       "      <td>-900.0</td>\n",
       "      <td>10</td>\n",
       "      <td>60.749635</td>\n",
       "      <td>-164.928437</td>\n",
       "      <td>762</td>\n",
       "      <td>3</td>\n",
       "      <td>GROUND_STROKE</td>\n",
       "      <td>2012</td>\n",
       "    </tr>\n",
       "    <tr>\n",
       "      <th>7</th>\n",
       "      <td>-1200.0</td>\n",
       "      <td>11</td>\n",
       "      <td>55.822369</td>\n",
       "      <td>-162.586637</td>\n",
       "      <td>458</td>\n",
       "      <td>3</td>\n",
       "      <td>GROUND_STROKE</td>\n",
       "      <td>2012</td>\n",
       "    </tr>\n",
       "    <tr>\n",
       "      <th>8</th>\n",
       "      <td>-1500.0</td>\n",
       "      <td>11</td>\n",
       "      <td>56.415247</td>\n",
       "      <td>-162.217703</td>\n",
       "      <td>203</td>\n",
       "      <td>3</td>\n",
       "      <td>GROUND_STROKE</td>\n",
       "      <td>2012</td>\n",
       "    </tr>\n",
       "    <tr>\n",
       "      <th>9</th>\n",
       "      <td>-2500.0</td>\n",
       "      <td>12</td>\n",
       "      <td>55.291613</td>\n",
       "      <td>-161.638156</td>\n",
       "      <td>469</td>\n",
       "      <td>3</td>\n",
       "      <td>GROUND_STROKE</td>\n",
       "      <td>2012</td>\n",
       "    </tr>\n",
       "  </tbody>\n",
       "</table>\n",
       "</div>"
      ],
      "text/plain": [
       "   amplitude  day        lat         lon  millisec  month     stroketype  year\n",
       "0     -900.0    6  59.734187 -159.665223       965      3  GROUND_STROKE  2012\n",
       "1     -800.0    7  57.151463 -160.337396       213      3  GROUND_STROKE  2012\n",
       "2    -1000.0    8  56.797220 -164.046543       735      3  GROUND_STROKE  2012\n",
       "3    -5100.0    8  60.136043 -155.737774       635      3  GROUND_STROKE  2012\n",
       "4     -400.0    8  62.559145 -148.119411       818      3  GROUND_STROKE  2012\n",
       "5    -4700.0   10  55.303014 -153.730459        46      3  GROUND_STROKE  2012\n",
       "6     -900.0   10  60.749635 -164.928437       762      3  GROUND_STROKE  2012\n",
       "7    -1200.0   11  55.822369 -162.586637       458      3  GROUND_STROKE  2012\n",
       "8    -1500.0   11  56.415247 -162.217703       203      3  GROUND_STROKE  2012\n",
       "9    -2500.0   12  55.291613 -161.638156       469      3  GROUND_STROKE  2012"
      ]
     },
     "execution_count": 243,
     "metadata": {},
     "output_type": "execute_result"
    }
   ],
   "source": [
    "# Throw in lightning! Only for the three years we have it though\n",
    "with open(\"data/lightning/ground_lightning.pkl\") as fpkl:\n",
    "    ground_l = cPickle.load(fpkl)\n",
    "print \"Loaded %d ground lightning strikes\" % len(ground_l)\n",
    "ground_l.iloc[0:10]"
   ]
  },
  {
   "cell_type": "code",
   "execution_count": 266,
   "metadata": {
    "collapsed": false
   },
   "outputs": [
    {
     "name": "stderr",
     "output_type": "stream",
     "text": [
      "/Users/zbutler/anaconda2/lib/python2.7/site-packages/ipykernel/__main__.py:4: SettingWithCopyWarning: \n",
      "A value is trying to be set on a copy of a slice from a DataFrame.\n",
      "Try using .loc[row_indexer,col_indexer] = value instead\n",
      "\n",
      "See the caveats in the documentation: http://pandas.pydata.org/pandas-docs/stable/indexing.html#indexing-view-versus-copy\n",
      "/Users/zbutler/anaconda2/lib/python2.7/site-packages/ipykernel/__main__.py:13: SettingWithCopyWarning: \n",
      "A value is trying to be set on a copy of a slice from a DataFrame\n",
      "\n",
      "See the caveats in the documentation: http://pandas.pydata.org/pandas-docs/stable/indexing.html#indexing-view-versus-copy\n"
     ]
    },
    {
     "name": "stdout",
     "output_type": "stream",
     "text": [
      "     n_det_1   n_det_3   n_det_5  n_det_10  normtemp   normvpd  normhumidity  \\\n",
      "195      0.0  0.000000  0.000000  1.098612 -0.982966 -0.835165      1.333669   \n",
      "196      0.0  0.693147  0.000000  0.000000 -1.047437 -0.739664      1.162777   \n",
      "197      0.0  0.000000  0.000000  0.000000 -1.615984 -1.291740      1.684890   \n",
      "198      0.0  0.000000  0.693147  0.693147 -1.655579 -1.100203      1.160792   \n",
      "199      0.0  0.000000  0.000000  0.000000 -1.476065 -1.028105      1.081895   \n",
      "200      0.0  0.000000  0.000000  0.000000 -1.010421 -0.560360      0.523624   \n",
      "201      0.0  0.000000  0.000000  0.000000 -1.262176 -0.832871      0.773541   \n",
      "202      0.0  0.000000  0.000000  0.000000 -0.899844 -0.299256      0.050331   \n",
      "203      0.0  0.000000  0.000000  0.693147 -0.793293 -0.422623      0.209687   \n",
      "204      0.0  0.000000  0.000000  0.000000 -0.834806 -0.620510      0.467786   \n",
      "\n",
      "     dayofyear    year  y  lightning  loglightning  \n",
      "195      144.0  2012.0  0        0.0      0.000000  \n",
      "196      145.0  2012.0  0        0.0      0.000000  \n",
      "197      146.0  2012.0  0        0.0      0.000000  \n",
      "198      147.0  2012.0  0        0.0      0.000000  \n",
      "199      148.0  2012.0  0     1955.0      7.578657  \n",
      "200      149.0  2012.0  0      376.0      5.932245  \n",
      "201      150.0  2012.0  0     1065.0      6.971669  \n",
      "202      151.0  2012.0  0     1041.0      6.948897  \n",
      "203      152.0  2012.0  0        1.0      0.693147  \n",
      "204      153.0  2012.0  0        0.0      0.000000  \n"
     ]
    },
    {
     "name": "stderr",
     "output_type": "stream",
     "text": [
      "/Users/zbutler/anaconda2/lib/python2.7/site-packages/ipykernel/__main__.py:15: SettingWithCopyWarning: \n",
      "A value is trying to be set on a copy of a slice from a DataFrame.\n",
      "Try using .loc[row_indexer,col_indexer] = value instead\n",
      "\n",
      "See the caveats in the documentation: http://pandas.pydata.org/pandas-docs/stable/indexing.html#indexing-view-versus-copy\n"
     ]
    }
   ],
   "source": [
    "# Aggregate per day and make a new training dataset for 2012-2015 with lightning included\n",
    "from util.daymonth import monthday2day, increment_day\n",
    "X_1215 = X[(X.year < 2016) & (X.year > 2011)]\n",
    "X_1215['lightning'] = pd.Series(np.zeros(len(X_1215)), index=X_1215.index)\n",
    "day = 1\n",
    "month = 1\n",
    "year = 2012\n",
    "strikes_per_day = []\n",
    "while year < 2016:\n",
    "    n_strikes = len(ground_l[(ground_l.day == day) & (ground_l.month == month) & (ground_l.year == year)])\n",
    "    dayofyear = monthday2day(month, day, leapyear=(year % 4))\n",
    "    if len(X_1215[(X_1215.dayofyear == dayofyear) & (X_1215.year == year)]):\n",
    "        X_1215.lightning[(X_1215.dayofyear == dayofyear) & (X_1215.year == year)] = n_strikes\n",
    "    year, month, day = increment_day(year, month, day)\n",
    "X_1215['loglightning'] = np.log(X_1215.lightning + 1)\n",
    "print X_1215.iloc[0:10]"
   ]
  },
  {
   "cell_type": "code",
   "execution_count": 270,
   "metadata": {
    "collapsed": false
   },
   "outputs": [
    {
     "data": {
      "text/html": [
       "<table class=\"simpletable\">\n",
       "<caption>Generalized Linear Model Regression Results</caption>\n",
       "<tr>\n",
       "  <th>Dep. Variable:</th>          <td>y</td>        <th>  No. Observations:  </th>  <td>   295</td> \n",
       "</tr>\n",
       "<tr>\n",
       "  <th>Model:</th>                 <td>GLM</td>       <th>  Df Residuals:      </th>  <td>   291</td> \n",
       "</tr>\n",
       "<tr>\n",
       "  <th>Model Family:</th>        <td>Poisson</td>     <th>  Df Model:          </th>  <td>     3</td> \n",
       "</tr>\n",
       "<tr>\n",
       "  <th>Link Function:</th>         <td>log</td>       <th>  Scale:             </th>    <td>1.0</td>  \n",
       "</tr>\n",
       "<tr>\n",
       "  <th>Method:</th>               <td>IRLS</td>       <th>  Log-Likelihood:    </th> <td> -14881.</td>\n",
       "</tr>\n",
       "<tr>\n",
       "  <th>Date:</th>           <td>Thu, 18 May 2017</td> <th>  Deviance:          </th> <td>  28943.</td>\n",
       "</tr>\n",
       "<tr>\n",
       "  <th>Time:</th>               <td>15:37:44</td>     <th>  Pearson chi2:      </th> <td>4.02e+04</td>\n",
       "</tr>\n",
       "<tr>\n",
       "  <th>No. Iterations:</th>        <td>10</td>        <th>                     </th>     <td> </td>   \n",
       "</tr>\n",
       "</table>\n",
       "<table class=\"simpletable\">\n",
       "<tr>\n",
       "        <td></td>          <th>coef</th>     <th>std err</th>      <th>z</th>      <th>P>|z|</th> <th>[95.0% Conf. Int.]</th> \n",
       "</tr>\n",
       "<tr>\n",
       "  <th>Intercept</th>    <td>    1.3417</td> <td>    0.023</td> <td>   59.049</td> <td> 0.000</td> <td>    1.297     1.386</td>\n",
       "</tr>\n",
       "<tr>\n",
       "  <th>n_det_1</th>      <td>    0.6730</td> <td>    0.004</td> <td>  186.013</td> <td> 0.000</td> <td>    0.666     0.680</td>\n",
       "</tr>\n",
       "<tr>\n",
       "  <th>normhumidity</th> <td>   -0.4989</td> <td>    0.009</td> <td>  -58.336</td> <td> 0.000</td> <td>   -0.516    -0.482</td>\n",
       "</tr>\n",
       "<tr>\n",
       "  <th>loglightning</th> <td>    0.0251</td> <td>    0.002</td> <td>   10.536</td> <td> 0.000</td> <td>    0.020     0.030</td>\n",
       "</tr>\n",
       "</table>"
      ],
      "text/plain": [
       "<class 'statsmodels.iolib.summary.Summary'>\n",
       "\"\"\"\n",
       "                 Generalized Linear Model Regression Results                  \n",
       "==============================================================================\n",
       "Dep. Variable:                      y   No. Observations:                  295\n",
       "Model:                            GLM   Df Residuals:                      291\n",
       "Model Family:                 Poisson   Df Model:                            3\n",
       "Link Function:                    log   Scale:                             1.0\n",
       "Method:                          IRLS   Log-Likelihood:                -14881.\n",
       "Date:                Thu, 18 May 2017   Deviance:                       28943.\n",
       "Time:                        15:37:44   Pearson chi2:                 4.02e+04\n",
       "No. Iterations:                    10                                         \n",
       "================================================================================\n",
       "                   coef    std err          z      P>|z|      [95.0% Conf. Int.]\n",
       "--------------------------------------------------------------------------------\n",
       "Intercept        1.3417      0.023     59.049      0.000         1.297     1.386\n",
       "n_det_1          0.6730      0.004    186.013      0.000         0.666     0.680\n",
       "normhumidity    -0.4989      0.009    -58.336      0.000        -0.516    -0.482\n",
       "loglightning     0.0251      0.002     10.536      0.000         0.020     0.030\n",
       "================================================================================\n",
       "\"\"\""
      ]
     },
     "execution_count": 270,
     "metadata": {},
     "output_type": "execute_result"
    }
   ],
   "source": [
    "# Ok, now predict 2013 from other years\n",
    "testyear = 2013\n",
    "X_train = X_1215[X_1215.year != testyear]\n",
    "y_train = X_1215[X_1215.year != testyear].y\n",
    "X_test = X_1215[X_1215.year == testyear]\n",
    "y_test = X_1215[X_1215.year == testyear].y\n",
    "res = smf.glm('y ~ n_det_1 + normhumidity + loglightning', data=X_train, family=sm.genmod.families.family.Poisson()).fit()\n",
    "res.summary()"
   ]
  },
  {
   "cell_type": "code",
   "execution_count": 271,
   "metadata": {
    "collapsed": false
   },
   "outputs": [
    {
     "name": "stdout",
     "output_type": "stream",
     "text": [
      "Method\tTrain LL\tMSE\tMedianSE\tMeanAbsErr\tRobustMSE\n",
      "no lightning\t-14937.93\t35860.87\t399.60\t79.54\t3847.77\t\n",
      "lightning\t-14767.76\t28809.08\t390.09\t74.37\t3683.39\t\n",
      "log lightning\t-14881.07\t34614.39\t407.18\t79.15\t3978.34\t\n"
     ]
    }
   ],
   "source": [
    "res0 = smf.glm('y ~ n_det_1', data=X_train, family=sm.genmod.families.family.Poisson()).fit()\n",
    "res1 = smf.glm('y ~ n_det_1 + normhumidity', data=X_train, family=sm.genmod.families.family.Poisson()).fit()\n",
    "res2 = smf.glm('y ~ n_det_1 + normhumidity + lightning', data=X_train, family=sm.genmod.families.family.Poisson()).fit()\n",
    "res3 = smf.glm('y ~ n_det_1 + normhumidity + loglightning', data=X_train, family=sm.genmod.families.family.Poisson()).fit()\n",
    "y_hat1 = res1.predict(X_test)\n",
    "y_hat2 = res2.predict(X_test)\n",
    "y_hat3 = res3.predict(X_test)\n",
    "print \"Method\\tTrain LL\\tMSE\\tMedianSE\\tMeanAbsErr\\tRobustMSE\"\n",
    "print \"Base\\tN/A\\t\",\n",
    "for met in eval_metrics:\n",
    "    print \"%.2f\\t\" % pr.evaluate_glm(y_test, y_hat_base, metric=met),\n",
    "print \"\"\n",
    "print \"no lightning\\t%.2f\\t\" % (res1.llf),\n",
    "for met in eval_metrics:\n",
    "    print \"%.2f\\t\" % pr.evaluate_glm(y_test, y_hat1, metric=met),\n",
    "print \"\"\n",
    "print \"lightning\\t%.2f\\t\" % (res2.llf),\n",
    "for met in eval_metrics:\n",
    "    print \"%.2f\\t\" % pr.evaluate_glm(y_test, y_hat2, metric=met),\n",
    "print \"\"\n",
    "print \"log lightning\\t%.2f\\t\" % (res3.llf),\n",
    "for met in eval_metrics:\n",
    "    print \"%.2f\\t\" % pr.evaluate_glm(y_test, y_hat3, metric=met),\n",
    "print \"\""
   ]
  },
  {
   "cell_type": "code",
   "execution_count": null,
   "metadata": {
    "collapsed": true
   },
   "outputs": [],
   "source": []
  }
 ],
 "metadata": {
  "kernelspec": {
   "display_name": "Python [Root]",
   "language": "python",
   "name": "Python [Root]"
  },
  "language_info": {
   "codemirror_mode": {
    "name": "ipython",
    "version": 2
   },
   "file_extension": ".py",
   "mimetype": "text/x-python",
   "name": "python",
   "nbconvert_exporter": "python",
   "pygments_lexer": "ipython2",
   "version": "2.7.12"
  }
 },
 "nbformat": 4,
 "nbformat_minor": 0
}
