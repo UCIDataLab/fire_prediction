{
 "cells": [
  {
   "cell_type": "code",
   "execution_count": 4,
   "metadata": {
    "collapsed": false
   },
   "outputs": [],
   "source": [
    "import cPickle\n",
    "import time\n",
    "import numpy as np\n",
    "import pandas as pd\n",
    "import matplotlib.pyplot as plt\n",
    "import scipy.sparse as sp\n",
    "from mpl_toolkits.basemap import Basemap\n",
    "from IPython import display\n",
    "from scipy.spatial import ConvexHull, Delaunay\n",
    "%matplotlib inline"
   ]
  },
  {
   "cell_type": "code",
   "execution_count": 6,
   "metadata": {
    "collapsed": false
   },
   "outputs": [
    {
     "name": "stdout",
     "output_type": "stream",
     "text": [
      "loaded pandas database with 31697705 points\n"
     ]
    }
   ],
   "source": [
    "# Load in our pretty pandas database\n",
    "with open(\"../data/modis.pkl\") as fpd:\n",
    "    modis = cPickle.load(fpd)\n",
    "print \"loaded pandas database with %d points\" %len(modis)\n",
    "ak_fires = modis[(modis.lat < 71) & (modis.lat > 55) & (modis.long > -165) & (modis.long < -138)]\n",
    "ak_summer_fires = ak_fires[(ak_fires.year == 2013) & (ak_fires.month >= 6) & (ak_fires.month <= 8)]\n",
    "ak_fires_2013 = ak_fires[ak_fires.year == 2013]"
   ]
  },
  {
   "cell_type": "code",
   "execution_count": 7,
   "metadata": {
    "collapsed": false
   },
   "outputs": [
    {
     "name": "stdout",
     "output_type": "stream",
     "text": [
      "lat_long_mat shape: (9588, 2)\n",
      "finished 0 of 9588\n",
      "finished 1000 of 9588\n",
      "finished 2000 of 9588\n",
      "finished 3000 of 9588\n",
      "finished 4000 of 9588\n",
      "finished 5000 of 9588\n",
      "finished 6000 of 9588\n",
      "finished 7000 of 9588\n",
      "finished 8000 of 9588\n",
      "finished 9000 of 9588\n",
      "174 connected components\n"
     ]
    }
   ],
   "source": [
    "deg_thresh = .05\n",
    "N = len(ak_fires_2013)\n",
    "thresh_graph = sp.lil_matrix((N,N))\n",
    "lat_long_mat = np.transpose(np.array((np.array(ak_fires_2013.lat),np.array(ak_fires_2013.long))))\n",
    "print \"lat_long_mat shape: \" + str(lat_long_mat.shape)\n",
    "for i in xrange(N):\n",
    "    p_i = np.array([ak_fires_2013.iloc[i].lat, ak_fires_2013.iloc[i].long])\n",
    "    dist_arr = np.linalg.norm(lat_long_mat - p_i, axis=1)\n",
    "    thresh_arr = dist_arr < deg_thresh\n",
    "    thresh_graph[i,:] = thresh_arr\n",
    "    if i % 1000 == 0:\n",
    "        print \"finished %d of %d\" %(i, N)\n",
    "n_CCs, CCs = sp.csgraph.connected_components(thresh_graph, directed=False)\n",
    "print \"%d connected components\" %(n_CCs)"
   ]
  },
  {
   "cell_type": "code",
   "execution_count": null,
   "metadata": {
    "collapsed": true
   },
   "outputs": [],
   "source": [
    "# Kill singleton clusters\n",
    "valid_n_CCs = 0\n",
    "valid_CCs = np.zeros(N) + np.inf\n",
    "for clust in xrange(n_CCs):\n",
    "    print np.where(CCs == clust)\n",
    "    if np.sum(np.where(CCs == clust)) > 1:\n",
    "        valid_n_CCs += 1\n",
    "        valid_CCs[np.where(CCs == clust)]"
   ]
  },
  {
   "cell_type": "code",
   "execution_count": 13,
   "metadata": {
    "collapsed": false
   },
   "outputs": [
    {
     "data": {
      "image/png": "[encoded data removed]",
      "text/plain": [
       "<matplotlib.figure.Figure at 0x13823d090>"
      ]
     },
     "metadata": {},
     "output_type": "display_data"
    }
   ],
   "source": [
    "def monthday2day(month, day, leapyear=False):\n",
    "    \"\"\"Convert month/day into days since Jan 1\"\"\"\n",
    "    if leapyear:\n",
    "        month_arr = [31, 29, 31, 30, 31, 30, 31, 31, 30, 31, 30, 31]\n",
    "    else:\n",
    "        month_arr = [31, 28, 31, 30, 31, 30, 31, 31, 30, 31, 30, 31]\n",
    "    days = 0\n",
    "    for mon in xrange(1, month):\n",
    "        days += month_arr[mon - 1]\n",
    "    days += day - 1\n",
    "    return days\n",
    "\n",
    "ep_sep_arr = np.zeros(n_CCs)  # Number of time-separated episodes per fire\n",
    "ep_sep_len = 2  # Number of days without fire before we declare a new episode\n",
    "\n",
    "\n",
    "for clust in xrange(n_CCs):\n",
    "    clust_fires = ak_fires_2013.iloc[np.where(CCs == clust)]\n",
    "    time_arr = np.zeros(len(clust_fires))\n",
    "    for i,(month,day) in enumerate(zip(clust_fires.month, clust_fires.day)):\n",
    "        my_day = monthday2day(month, day, leapyear=False)\n",
    "        time_arr[i] = my_day\n",
    "    sorted_times = np.sort(time_arr)\n",
    "    max_day = int(sorted_times[-1])\n",
    "    min_day = int(sorted_times[0])\n",
    "    time_freq_arr = np.zeros(max_day-min_day+1)\n",
    "    for month,day in zip(clust_fires.month, clust_fires.day):\n",
    "        my_day = monthday2day(month, day, leapyear=False)\n",
    "        time_freq_arr[my_day - min_day] += 1\n",
    "    display.clear_output(wait=True)\n",
    "    plt.plot(time_freq_arr, 'r-')\n",
    "plt.show()"
   ]
  },
  {
   "cell_type": "code",
   "execution_count": null,
   "metadata": {
    "collapsed": true
   },
   "outputs": [],
   "source": []
  }
 ],
 "metadata": {
  "anaconda-cloud": {},
  "kernelspec": {
   "display_name": "Python [Root]",
   "language": "python",
   "name": "Python [Root]"
  },
  "language_info": {
   "codemirror_mode": {
    "name": "ipython",
    "version": 2
   },
   "file_extension": ".py",
   "mimetype": "text/x-python",
   "name": "python",
   "nbconvert_exporter": "python",
   "pygments_lexer": "ipython2",
   "version": "2.7.12"
  }
 },
 "nbformat": 4,
 "nbformat_minor": 0
}
